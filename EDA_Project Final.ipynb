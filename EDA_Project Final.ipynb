{
  "nbformat": 4,
  "nbformat_minor": 0,
  "metadata": {
    "colab": {
      "name": "EDA_Project.ipynb",
      "provenance": [],
      "collapsed_sections": []
    },
    "kernelspec": {
      "display_name": "Python 3",
      "language": "python",
      "name": "python3"
    },
    "language_info": {
      "codemirror_mode": {
        "name": "ipython",
        "version": 3
      },
      "file_extension": ".py",
      "mimetype": "text/x-python",
      "name": "python",
      "nbconvert_exporter": "python",
      "pygments_lexer": "ipython3",
      "version": "3.7.6"
    }
  },
  "cells": [
    {
      "cell_type": "code",
      "metadata": {
        "colab": {
          "base_uri": "https://localhost:8080/",
          "height": 0
        },
        "id": "uJyJXheS_l-l",
        "outputId": "9ac1cff2-b389-47ef-8d80-778de65cf84c"
      },
      "source": [
        "pip install fancyimpute"
      ],
      "execution_count": 1,
      "outputs": [
        {
          "output_type": "stream",
          "text": [
            "Requirement already satisfied: fancyimpute in /usr/local/lib/python3.7/dist-packages (0.5.5)\n",
            "Requirement already satisfied: scipy in /usr/local/lib/python3.7/dist-packages (from fancyimpute) (1.4.1)\n",
            "Requirement already satisfied: knnimpute in /usr/local/lib/python3.7/dist-packages (from fancyimpute) (0.1.0)\n",
            "Requirement already satisfied: numpy>=1.10 in /usr/local/lib/python3.7/dist-packages (from fancyimpute) (1.19.5)\n",
            "Requirement already satisfied: scikit-learn>=0.21.2 in /usr/local/lib/python3.7/dist-packages (from fancyimpute) (0.22.2.post1)\n",
            "Requirement already satisfied: keras>=2.0.0 in /usr/local/lib/python3.7/dist-packages (from fancyimpute) (2.4.3)\n",
            "Requirement already satisfied: tensorflow in /usr/local/lib/python3.7/dist-packages (from fancyimpute) (2.5.0)\n",
            "Requirement already satisfied: cvxpy>=1.0.6 in /usr/local/lib/python3.7/dist-packages (from fancyimpute) (1.0.31)\n",
            "Requirement already satisfied: six in /usr/local/lib/python3.7/dist-packages (from knnimpute->fancyimpute) (1.15.0)\n",
            "Requirement already satisfied: joblib>=0.11 in /usr/local/lib/python3.7/dist-packages (from scikit-learn>=0.21.2->fancyimpute) (1.0.1)\n",
            "Requirement already satisfied: pyyaml in /usr/local/lib/python3.7/dist-packages (from keras>=2.0.0->fancyimpute) (3.13)\n",
            "Requirement already satisfied: h5py in /usr/local/lib/python3.7/dist-packages (from keras>=2.0.0->fancyimpute) (3.1.0)\n",
            "Requirement already satisfied: gast==0.4.0 in /usr/local/lib/python3.7/dist-packages (from tensorflow->fancyimpute) (0.4.0)\n",
            "Requirement already satisfied: typing-extensions~=3.7.4 in /usr/local/lib/python3.7/dist-packages (from tensorflow->fancyimpute) (3.7.4.3)\n",
            "Requirement already satisfied: termcolor~=1.1.0 in /usr/local/lib/python3.7/dist-packages (from tensorflow->fancyimpute) (1.1.0)\n",
            "Requirement already satisfied: keras-preprocessing~=1.1.2 in /usr/local/lib/python3.7/dist-packages (from tensorflow->fancyimpute) (1.1.2)\n",
            "Requirement already satisfied: wheel~=0.35 in /usr/local/lib/python3.7/dist-packages (from tensorflow->fancyimpute) (0.36.2)\n",
            "Requirement already satisfied: google-pasta~=0.2 in /usr/local/lib/python3.7/dist-packages (from tensorflow->fancyimpute) (0.2.0)\n",
            "Requirement already satisfied: wrapt~=1.12.1 in /usr/local/lib/python3.7/dist-packages (from tensorflow->fancyimpute) (1.12.1)\n",
            "Requirement already satisfied: absl-py~=0.10 in /usr/local/lib/python3.7/dist-packages (from tensorflow->fancyimpute) (0.12.0)\n",
            "Requirement already satisfied: grpcio~=1.34.0 in /usr/local/lib/python3.7/dist-packages (from tensorflow->fancyimpute) (1.34.1)\n",
            "Requirement already satisfied: keras-nightly~=2.5.0.dev in /usr/local/lib/python3.7/dist-packages (from tensorflow->fancyimpute) (2.5.0.dev2021032900)\n",
            "Requirement already satisfied: opt-einsum~=3.3.0 in /usr/local/lib/python3.7/dist-packages (from tensorflow->fancyimpute) (3.3.0)\n",
            "Requirement already satisfied: astunparse~=1.6.3 in /usr/local/lib/python3.7/dist-packages (from tensorflow->fancyimpute) (1.6.3)\n",
            "Requirement already satisfied: tensorflow-estimator<2.6.0,>=2.5.0rc0 in /usr/local/lib/python3.7/dist-packages (from tensorflow->fancyimpute) (2.5.0)\n",
            "Requirement already satisfied: protobuf>=3.9.2 in /usr/local/lib/python3.7/dist-packages (from tensorflow->fancyimpute) (3.12.4)\n",
            "Requirement already satisfied: tensorboard~=2.5 in /usr/local/lib/python3.7/dist-packages (from tensorflow->fancyimpute) (2.5.0)\n",
            "Requirement already satisfied: flatbuffers~=1.12.0 in /usr/local/lib/python3.7/dist-packages (from tensorflow->fancyimpute) (1.12)\n",
            "Requirement already satisfied: scs>=1.1.3 in /usr/local/lib/python3.7/dist-packages (from cvxpy>=1.0.6->fancyimpute) (2.1.3)\n",
            "Requirement already satisfied: osqp>=0.4.1 in /usr/local/lib/python3.7/dist-packages (from cvxpy>=1.0.6->fancyimpute) (0.6.2.post0)\n",
            "Requirement already satisfied: ecos>=2 in /usr/local/lib/python3.7/dist-packages (from cvxpy>=1.0.6->fancyimpute) (2.0.7.post1)\n",
            "Requirement already satisfied: multiprocess in /usr/local/lib/python3.7/dist-packages (from cvxpy>=1.0.6->fancyimpute) (0.70.11.1)\n",
            "Requirement already satisfied: cached-property; python_version < \"3.8\" in /usr/local/lib/python3.7/dist-packages (from h5py->keras>=2.0.0->fancyimpute) (1.5.2)\n",
            "Requirement already satisfied: setuptools in /usr/local/lib/python3.7/dist-packages (from protobuf>=3.9.2->tensorflow->fancyimpute) (56.1.0)\n",
            "Requirement already satisfied: werkzeug>=0.11.15 in /usr/local/lib/python3.7/dist-packages (from tensorboard~=2.5->tensorflow->fancyimpute) (1.0.1)\n",
            "Requirement already satisfied: google-auth<2,>=1.6.3 in /usr/local/lib/python3.7/dist-packages (from tensorboard~=2.5->tensorflow->fancyimpute) (1.30.0)\n",
            "Requirement already satisfied: requests<3,>=2.21.0 in /usr/local/lib/python3.7/dist-packages (from tensorboard~=2.5->tensorflow->fancyimpute) (2.23.0)\n",
            "Requirement already satisfied: tensorboard-plugin-wit>=1.6.0 in /usr/local/lib/python3.7/dist-packages (from tensorboard~=2.5->tensorflow->fancyimpute) (1.8.0)\n",
            "Requirement already satisfied: markdown>=2.6.8 in /usr/local/lib/python3.7/dist-packages (from tensorboard~=2.5->tensorflow->fancyimpute) (3.3.4)\n",
            "Requirement already satisfied: google-auth-oauthlib<0.5,>=0.4.1 in /usr/local/lib/python3.7/dist-packages (from tensorboard~=2.5->tensorflow->fancyimpute) (0.4.4)\n",
            "Requirement already satisfied: tensorboard-data-server<0.7.0,>=0.6.0 in /usr/local/lib/python3.7/dist-packages (from tensorboard~=2.5->tensorflow->fancyimpute) (0.6.1)\n",
            "Requirement already satisfied: qdldl in /usr/local/lib/python3.7/dist-packages (from osqp>=0.4.1->cvxpy>=1.0.6->fancyimpute) (0.1.5.post0)\n",
            "Requirement already satisfied: dill>=0.3.3 in /usr/local/lib/python3.7/dist-packages (from multiprocess->cvxpy>=1.0.6->fancyimpute) (0.3.3)\n",
            "Requirement already satisfied: rsa<5,>=3.1.4; python_version >= \"3.6\" in /usr/local/lib/python3.7/dist-packages (from google-auth<2,>=1.6.3->tensorboard~=2.5->tensorflow->fancyimpute) (4.7.2)\n",
            "Requirement already satisfied: cachetools<5.0,>=2.0.0 in /usr/local/lib/python3.7/dist-packages (from google-auth<2,>=1.6.3->tensorboard~=2.5->tensorflow->fancyimpute) (4.2.2)\n",
            "Requirement already satisfied: pyasn1-modules>=0.2.1 in /usr/local/lib/python3.7/dist-packages (from google-auth<2,>=1.6.3->tensorboard~=2.5->tensorflow->fancyimpute) (0.2.8)\n",
            "Requirement already satisfied: idna<3,>=2.5 in /usr/local/lib/python3.7/dist-packages (from requests<3,>=2.21.0->tensorboard~=2.5->tensorflow->fancyimpute) (2.10)\n",
            "Requirement already satisfied: urllib3!=1.25.0,!=1.25.1,<1.26,>=1.21.1 in /usr/local/lib/python3.7/dist-packages (from requests<3,>=2.21.0->tensorboard~=2.5->tensorflow->fancyimpute) (1.24.3)\n",
            "Requirement already satisfied: chardet<4,>=3.0.2 in /usr/local/lib/python3.7/dist-packages (from requests<3,>=2.21.0->tensorboard~=2.5->tensorflow->fancyimpute) (3.0.4)\n",
            "Requirement already satisfied: certifi>=2017.4.17 in /usr/local/lib/python3.7/dist-packages (from requests<3,>=2.21.0->tensorboard~=2.5->tensorflow->fancyimpute) (2020.12.5)\n",
            "Requirement already satisfied: importlib-metadata; python_version < \"3.8\" in /usr/local/lib/python3.7/dist-packages (from markdown>=2.6.8->tensorboard~=2.5->tensorflow->fancyimpute) (4.0.1)\n",
            "Requirement already satisfied: requests-oauthlib>=0.7.0 in /usr/local/lib/python3.7/dist-packages (from google-auth-oauthlib<0.5,>=0.4.1->tensorboard~=2.5->tensorflow->fancyimpute) (1.3.0)\n",
            "Requirement already satisfied: pyasn1>=0.1.3 in /usr/local/lib/python3.7/dist-packages (from rsa<5,>=3.1.4; python_version >= \"3.6\"->google-auth<2,>=1.6.3->tensorboard~=2.5->tensorflow->fancyimpute) (0.4.8)\n",
            "Requirement already satisfied: zipp>=0.5 in /usr/local/lib/python3.7/dist-packages (from importlib-metadata; python_version < \"3.8\"->markdown>=2.6.8->tensorboard~=2.5->tensorflow->fancyimpute) (3.4.1)\n",
            "Requirement already satisfied: oauthlib>=3.0.0 in /usr/local/lib/python3.7/dist-packages (from requests-oauthlib>=0.7.0->google-auth-oauthlib<0.5,>=0.4.1->tensorboard~=2.5->tensorflow->fancyimpute) (3.1.0)\n"
          ],
          "name": "stdout"
        }
      ]
    },
    {
      "cell_type": "code",
      "metadata": {
        "id": "EkzHHGSW_fR0",
        "colab": {
          "base_uri": "https://localhost:8080/",
          "height": 0
        },
        "outputId": "db3cd765-cdff-4a31-dcec-b9040c323682"
      },
      "source": [
        "import pandas as pd\n",
        "import numpy as np\n",
        "import seaborn as sns\n",
        "import matplotlib.pyplot as plt\n",
        "from sklearn.experimental import enable_iterative_imputer\n",
        "from fancyimpute import SoftImpute\n",
        "from sklearn.impute import KNNImputer\n",
        "from sklearn.impute import SimpleImputer\n",
        "from sklearn.impute import IterativeImputer\n",
        "from sklearn.preprocessing import StandardScaler\n",
        "from sklearn.model_selection import train_test_split\n",
        "from imblearn.under_sampling import NearMiss\n",
        "from imblearn.over_sampling import SMOTE\n",
        "import time\n",
        "from sklearn.linear_model import LogisticRegression\n",
        "from sklearn.metrics import accuracy_score\n",
        "from sklearn.metrics import classification_report\n",
        "from sklearn.metrics import confusion_matrix\n",
        "from statsmodels.stats.outliers_influence import variance_inflation_factor\n",
        "from statsmodels.tools.tools import add_constant\n",
        "from sklearn.model_selection import cross_val_score\n",
        "from sklearn.feature_selection import SelectKBest\n",
        "from sklearn.feature_selection import f_classif\n",
        "from sklearn.feature_selection import RFE"
      ],
      "execution_count": 2,
      "outputs": [
        {
          "output_type": "stream",
          "text": [
            "/usr/local/lib/python3.7/dist-packages/sklearn/externals/six.py:31: FutureWarning: The module is deprecated in version 0.21 and will be removed in version 0.23 since we've dropped support for Python 2.7. Please rely on the official version of six (https://pypi.org/project/six/).\n",
            "  \"(https://pypi.org/project/six/).\", FutureWarning)\n",
            "/usr/local/lib/python3.7/dist-packages/sklearn/utils/deprecation.py:144: FutureWarning: The sklearn.neighbors.base module is  deprecated in version 0.22 and will be removed in version 0.24. The corresponding classes / functions should instead be imported from sklearn.neighbors. Anything that cannot be imported from sklearn.neighbors is now part of the private API.\n",
            "  warnings.warn(message, FutureWarning)\n",
            "/usr/local/lib/python3.7/dist-packages/statsmodels/tools/_testing.py:19: FutureWarning: pandas.util.testing is deprecated. Use the functions in the public API at pandas.testing instead.\n",
            "  import pandas.util.testing as tm\n"
          ],
          "name": "stderr"
        }
      ]
    },
    {
      "cell_type": "code",
      "metadata": {
        "colab": {
          "base_uri": "https://localhost:8080/",
          "height": 258
        },
        "id": "3lNV_cZ__fR5",
        "outputId": "758ad649-5b8f-4a58-d75b-80d1a64d06aa"
      },
      "source": [
        "data = pd.read_csv(\"/content/drive/MyDrive/Dataset/Bankruptcy_Data.csv\")\n",
        "data.head()"
      ],
      "execution_count": 3,
      "outputs": [
        {
          "output_type": "stream",
          "text": [
            "/usr/local/lib/python3.7/dist-packages/IPython/core/interactiveshell.py:2718: DtypeWarning: Columns (0,1,2,5,6,7,9,10,13,14,15,16,17,21,23,24,25,28,33,34,35,37,47,49,50,56,58) have mixed types.Specify dtype option on import or set low_memory=False.\n",
            "  interactivity=interactivity, compiler=compiler, result=result)\n"
          ],
          "name": "stderr"
        },
        {
          "output_type": "execute_result",
          "data": {
            "text/html": [
              "<div>\n",
              "<style scoped>\n",
              "    .dataframe tbody tr th:only-of-type {\n",
              "        vertical-align: middle;\n",
              "    }\n",
              "\n",
              "    .dataframe tbody tr th {\n",
              "        vertical-align: top;\n",
              "    }\n",
              "\n",
              "    .dataframe thead th {\n",
              "        text-align: right;\n",
              "    }\n",
              "</style>\n",
              "<table border=\"1\" class=\"dataframe\">\n",
              "  <thead>\n",
              "    <tr style=\"text-align: right;\">\n",
              "      <th></th>\n",
              "      <th>Attr1</th>\n",
              "      <th>Attr2</th>\n",
              "      <th>Attr3</th>\n",
              "      <th>Attr4</th>\n",
              "      <th>Attr5</th>\n",
              "      <th>Attr6</th>\n",
              "      <th>Attr7</th>\n",
              "      <th>Attr8</th>\n",
              "      <th>Attr9</th>\n",
              "      <th>Attr10</th>\n",
              "      <th>Attr11</th>\n",
              "      <th>Attr12</th>\n",
              "      <th>Attr13</th>\n",
              "      <th>Attr14</th>\n",
              "      <th>Attr15</th>\n",
              "      <th>Attr16</th>\n",
              "      <th>Attr17</th>\n",
              "      <th>Attr18</th>\n",
              "      <th>Attr19</th>\n",
              "      <th>Attr20</th>\n",
              "      <th>Attr21</th>\n",
              "      <th>Attr22</th>\n",
              "      <th>Attr23</th>\n",
              "      <th>Attr24</th>\n",
              "      <th>Attr25</th>\n",
              "      <th>Attr26</th>\n",
              "      <th>Attr27</th>\n",
              "      <th>Attr28</th>\n",
              "      <th>Attr29</th>\n",
              "      <th>Attr30</th>\n",
              "      <th>Attr31</th>\n",
              "      <th>Attr32</th>\n",
              "      <th>Attr33</th>\n",
              "      <th>Attr34</th>\n",
              "      <th>Attr35</th>\n",
              "      <th>Attr36</th>\n",
              "      <th>Attr37</th>\n",
              "      <th>Attr38</th>\n",
              "      <th>Attr39</th>\n",
              "      <th>Attr40</th>\n",
              "      <th>Attr41</th>\n",
              "      <th>Attr42</th>\n",
              "      <th>Attr43</th>\n",
              "      <th>Attr44</th>\n",
              "      <th>Attr45</th>\n",
              "      <th>Attr46</th>\n",
              "      <th>Attr47</th>\n",
              "      <th>Attr48</th>\n",
              "      <th>Attr49</th>\n",
              "      <th>Attr50</th>\n",
              "      <th>Attr51</th>\n",
              "      <th>Attr52</th>\n",
              "      <th>Attr53</th>\n",
              "      <th>Attr54</th>\n",
              "      <th>Attr55</th>\n",
              "      <th>Attr56</th>\n",
              "      <th>Attr57</th>\n",
              "      <th>Attr58</th>\n",
              "      <th>Attr59</th>\n",
              "      <th>Attr60</th>\n",
              "      <th>Attr61</th>\n",
              "      <th>Attr62</th>\n",
              "      <th>Attr63</th>\n",
              "      <th>Attr64</th>\n",
              "      <th>class</th>\n",
              "    </tr>\n",
              "  </thead>\n",
              "  <tbody>\n",
              "    <tr>\n",
              "      <th>0</th>\n",
              "      <td>0.096557</td>\n",
              "      <td>0.13718</td>\n",
              "      <td>0.8528</td>\n",
              "      <td>7.2168</td>\n",
              "      <td>710.67</td>\n",
              "      <td>0</td>\n",
              "      <td>0.096557</td>\n",
              "      <td>6.2899</td>\n",
              "      <td>0.61457</td>\n",
              "      <td>0.86282</td>\n",
              "      <td>0.096557</td>\n",
              "      <td>0.70389</td>\n",
              "      <td>0.15711</td>\n",
              "      <td>0.096557</td>\n",
              "      <td>518.55</td>\n",
              "      <td>0.70389</td>\n",
              "      <td>7.2899</td>\n",
              "      <td>0.096557</td>\n",
              "      <td>0.15711</td>\n",
              "      <td>16.644</td>\n",
              "      <td>0.82983</td>\n",
              "      <td>0</td>\n",
              "      <td>0.15711</td>\n",
              "      <td>?</td>\n",
              "      <td>0.80007</td>\n",
              "      <td>0.70389</td>\n",
              "      <td>?</td>\n",
              "      <td>85.04</td>\n",
              "      <td>2.9013</td>\n",
              "      <td>-1.0864</td>\n",
              "      <td>0.35214</td>\n",
              "      <td>119.84</td>\n",
              "      <td>3.0457</td>\n",
              "      <td>3.0457</td>\n",
              "      <td>0.00697</td>\n",
              "      <td>0.61457</td>\n",
              "      <td>?</td>\n",
              "      <td>0.86282</td>\n",
              "      <td>0.011341</td>\n",
              "      <td>5.867</td>\n",
              "      <td>?</td>\n",
              "      <td>0</td>\n",
              "      <td>109.97</td>\n",
              "      <td>93.323</td>\n",
              "      <td>3.4455</td>\n",
              "      <td>7.0125</td>\n",
              "      <td>24.482</td>\n",
              "      <td>0</td>\n",
              "      <td>0</td>\n",
              "      <td>7.2168</td>\n",
              "      <td>0.13718</td>\n",
              "      <td>0.32833</td>\n",
              "      <td>86.04</td>\n",
              "      <td>86.04</td>\n",
              "      <td>679.47</td>\n",
              "      <td>0.32018</td>\n",
              "      <td>0.11191</td>\n",
              "      <td>0.70637</td>\n",
              "      <td>0</td>\n",
              "      <td>21.93</td>\n",
              "      <td>3.9111</td>\n",
              "      <td>81.471</td>\n",
              "      <td>4.4801</td>\n",
              "      <td>61.284</td>\n",
              "      <td>0</td>\n",
              "    </tr>\n",
              "    <tr>\n",
              "      <th>1</th>\n",
              "      <td>0.30458</td>\n",
              "      <td>0.13686</td>\n",
              "      <td>0.75567</td>\n",
              "      <td>6.6983</td>\n",
              "      <td>93.503</td>\n",
              "      <td>0</td>\n",
              "      <td>0.37602</td>\n",
              "      <td>6.307</td>\n",
              "      <td>2.49970</td>\n",
              "      <td>0.86314</td>\n",
              "      <td>0.37607</td>\n",
              "      <td>2.8355</td>\n",
              "      <td>0.16257</td>\n",
              "      <td>0.37602</td>\n",
              "      <td>122.93</td>\n",
              "      <td>2.9693</td>\n",
              "      <td>7.307</td>\n",
              "      <td>0.37602</td>\n",
              "      <td>0.15043</td>\n",
              "      <td>26.179</td>\n",
              "      <td>0.65534</td>\n",
              "      <td>0.37291</td>\n",
              "      <td>0.12185</td>\n",
              "      <td>?</td>\n",
              "      <td>0.80077</td>\n",
              "      <td>2.4472</td>\n",
              "      <td>7290.8</td>\n",
              "      <td>6.7644</td>\n",
              "      <td>2.904</td>\n",
              "      <td>-0.041155</td>\n",
              "      <td>0.15045</td>\n",
              "      <td>22.747</td>\n",
              "      <td>16.046</td>\n",
              "      <td>15.548</td>\n",
              "      <td>0.37179</td>\n",
              "      <td>2.4997</td>\n",
              "      <td>?</td>\n",
              "      <td>0.86314</td>\n",
              "      <td>0.14874</td>\n",
              "      <td>2.0459</td>\n",
              "      <td>0.011313</td>\n",
              "      <td>0.14918</td>\n",
              "      <td>90.089</td>\n",
              "      <td>63.91</td>\n",
              "      <td>1.6988</td>\n",
              "      <td>5.3464</td>\n",
              "      <td>30.754</td>\n",
              "      <td>0.34257</td>\n",
              "      <td>0.13705</td>\n",
              "      <td>6.4907</td>\n",
              "      <td>0.13261</td>\n",
              "      <td>0.062322</td>\n",
              "      <td>7.7264</td>\n",
              "      <td>7.7264</td>\n",
              "      <td>605.75</td>\n",
              "      <td>0.14874</td>\n",
              "      <td>0.35287</td>\n",
              "      <td>0.85001</td>\n",
              "      <td>0</td>\n",
              "      <td>13.942</td>\n",
              "      <td>5.7112</td>\n",
              "      <td>19.364</td>\n",
              "      <td>18.849</td>\n",
              "      <td>22.376</td>\n",
              "      <td>0</td>\n",
              "    </tr>\n",
              "    <tr>\n",
              "      <th>2</th>\n",
              "      <td>0.13495</td>\n",
              "      <td>0.16866</td>\n",
              "      <td>0.71295</td>\n",
              "      <td>5.2272</td>\n",
              "      <td>432.48</td>\n",
              "      <td>0</td>\n",
              "      <td>0.17653</td>\n",
              "      <td>4.9292</td>\n",
              "      <td>0.76021</td>\n",
              "      <td>0.83134</td>\n",
              "      <td>0.1766</td>\n",
              "      <td>1.0467</td>\n",
              "      <td>0.25226</td>\n",
              "      <td>0.17653</td>\n",
              "      <td>321.01</td>\n",
              "      <td>1.137</td>\n",
              "      <td>5.9292</td>\n",
              "      <td>0.17653</td>\n",
              "      <td>0.23222</td>\n",
              "      <td>0.19961</td>\n",
              "      <td>1.1209</td>\n",
              "      <td>0.10746</td>\n",
              "      <td>0.17752</td>\n",
              "      <td>?</td>\n",
              "      <td>0.55143</td>\n",
              "      <td>0.8905</td>\n",
              "      <td>1747.7</td>\n",
              "      <td>6.0221</td>\n",
              "      <td>3.0373</td>\n",
              "      <td>-0.47358</td>\n",
              "      <td>0.2323</td>\n",
              "      <td>101.19</td>\n",
              "      <td>3.607</td>\n",
              "      <td>3.607</td>\n",
              "      <td>0.15185</td>\n",
              "      <td>0.76021</td>\n",
              "      <td>?</td>\n",
              "      <td>0.83134</td>\n",
              "      <td>0.19975</td>\n",
              "      <td>3.1346</td>\n",
              "      <td>0.045818</td>\n",
              "      <td>0.14136</td>\n",
              "      <td>169.45</td>\n",
              "      <td>169.25</td>\n",
              "      <td>324.61</td>\n",
              "      <td>5.2248</td>\n",
              "      <td>0.24944</td>\n",
              "      <td>0.092228</td>\n",
              "      <td>0.12132</td>\n",
              "      <td>5.2272</td>\n",
              "      <td>0.16866</td>\n",
              "      <td>0.27724</td>\n",
              "      <td>7.0221</td>\n",
              "      <td>7.0221</td>\n",
              "      <td>776.85</td>\n",
              "      <td>0.19975</td>\n",
              "      <td>0.16233</td>\n",
              "      <td>0.85872</td>\n",
              "      <td>0</td>\n",
              "      <td>1828.5</td>\n",
              "      <td>2.1565</td>\n",
              "      <td>80.978</td>\n",
              "      <td>4.5074</td>\n",
              "      <td>6.4212</td>\n",
              "      <td>0</td>\n",
              "    </tr>\n",
              "    <tr>\n",
              "      <th>3</th>\n",
              "      <td>0.26775</td>\n",
              "      <td>0.11341</td>\n",
              "      <td>0.78931</td>\n",
              "      <td>8.0405</td>\n",
              "      <td>213.67</td>\n",
              "      <td>0</td>\n",
              "      <td>0.33261</td>\n",
              "      <td>7.8176</td>\n",
              "      <td>1.70250</td>\n",
              "      <td>0.88659</td>\n",
              "      <td>0.33261</td>\n",
              "      <td>2.9668</td>\n",
              "      <td>0.22367</td>\n",
              "      <td>0.33261</td>\n",
              "      <td>108.7</td>\n",
              "      <td>3.3578</td>\n",
              "      <td>8.8176</td>\n",
              "      <td>0.33261</td>\n",
              "      <td>0.19536</td>\n",
              "      <td>0</td>\n",
              "      <td>0.73416</td>\n",
              "      <td>0.33258</td>\n",
              "      <td>0.15727</td>\n",
              "      <td>?</td>\n",
              "      <td>0.62958</td>\n",
              "      <td>2.786</td>\n",
              "      <td>?</td>\n",
              "      <td>8.0063</td>\n",
              "      <td>2.289</td>\n",
              "      <td>-0.29154</td>\n",
              "      <td>0.19536</td>\n",
              "      <td>29.871</td>\n",
              "      <td>12.219</td>\n",
              "      <td>12.079</td>\n",
              "      <td>0.33267</td>\n",
              "      <td>1.7025</td>\n",
              "      <td>?</td>\n",
              "      <td>0.88659</td>\n",
              "      <td>0.1954</td>\n",
              "      <td>5.4824</td>\n",
              "      <td>0.009928</td>\n",
              "      <td>0.19534</td>\n",
              "      <td>61.483</td>\n",
              "      <td>61.483</td>\n",
              "      <td>?</td>\n",
              "      <td>8.0405</td>\n",
              "      <td>0</td>\n",
              "      <td>0.28437</td>\n",
              "      <td>0.16703</td>\n",
              "      <td>7.9483</td>\n",
              "      <td>0.11211</td>\n",
              "      <td>0.081839</td>\n",
              "      <td>8.9931</td>\n",
              "      <td>8.9931</td>\n",
              "      <td>153.55</td>\n",
              "      <td>0.1954</td>\n",
              "      <td>0.302</td>\n",
              "      <td>0.80466</td>\n",
              "      <td>0</td>\n",
              "      <td>?</td>\n",
              "      <td>5.9366</td>\n",
              "      <td>24.035</td>\n",
              "      <td>15.186</td>\n",
              "      <td>17.27</td>\n",
              "      <td>0</td>\n",
              "    </tr>\n",
              "    <tr>\n",
              "      <th>4</th>\n",
              "      <td>0.046283</td>\n",
              "      <td>0.094199</td>\n",
              "      <td>0.47172</td>\n",
              "      <td>7.6622</td>\n",
              "      <td>88.809</td>\n",
              "      <td>0</td>\n",
              "      <td>0.046283</td>\n",
              "      <td>9.6158</td>\n",
              "      <td>1.13950</td>\n",
              "      <td>0.9058</td>\n",
              "      <td>0.046283</td>\n",
              "      <td>0.65366</td>\n",
              "      <td>0.064559</td>\n",
              "      <td>0.046283</td>\n",
              "      <td>467.39</td>\n",
              "      <td>0.78093</td>\n",
              "      <td>10.616</td>\n",
              "      <td>0.046283</td>\n",
              "      <td>0.040618</td>\n",
              "      <td>54.234</td>\n",
              "      <td>0.99457</td>\n",
              "      <td>0.030548</td>\n",
              "      <td>0.040618</td>\n",
              "      <td>?</td>\n",
              "      <td>0.86719</td>\n",
              "      <td>0.78093</td>\n",
              "      <td>40348</td>\n",
              "      <td>1.0311</td>\n",
              "      <td>3.1208</td>\n",
              "      <td>-0.081241</td>\n",
              "      <td>0.040618</td>\n",
              "      <td>23.383</td>\n",
              "      <td>15.61</td>\n",
              "      <td>11.733</td>\n",
              "      <td>0.034208</td>\n",
              "      <td>1.1395</td>\n",
              "      <td>?</td>\n",
              "      <td>0.9058</td>\n",
              "      <td>0.030021</td>\n",
              "      <td>3.153</td>\n",
              "      <td>0.054298</td>\n",
              "      <td>0.026809</td>\n",
              "      <td>102.27</td>\n",
              "      <td>48.037</td>\n",
              "      <td>0.27336</td>\n",
              "      <td>5.271</td>\n",
              "      <td>55.913</td>\n",
              "      <td>0.003268</td>\n",
              "      <td>0.002868</td>\n",
              "      <td>5.7594</td>\n",
              "      <td>0.070806</td>\n",
              "      <td>0.064062</td>\n",
              "      <td>1.98</td>\n",
              "      <td>1.98</td>\n",
              "      <td>623.05</td>\n",
              "      <td>0.030021</td>\n",
              "      <td>0.051096</td>\n",
              "      <td>0.95994</td>\n",
              "      <td>0</td>\n",
              "      <td>6.7301</td>\n",
              "      <td>7.5983</td>\n",
              "      <td>22.681</td>\n",
              "      <td>16.093</td>\n",
              "      <td>2.4908</td>\n",
              "      <td>0</td>\n",
              "    </tr>\n",
              "  </tbody>\n",
              "</table>\n",
              "</div>"
            ],
            "text/plain": [
              "      Attr1     Attr2    Attr3   Attr4  ...  Attr62  Attr63  Attr64 class\n",
              "0  0.096557   0.13718   0.8528  7.2168  ...  81.471  4.4801  61.284     0\n",
              "1   0.30458   0.13686  0.75567  6.6983  ...  19.364  18.849  22.376     0\n",
              "2   0.13495   0.16866  0.71295  5.2272  ...  80.978  4.5074  6.4212     0\n",
              "3   0.26775   0.11341  0.78931  8.0405  ...  24.035  15.186   17.27     0\n",
              "4  0.046283  0.094199  0.47172  7.6622  ...  22.681  16.093  2.4908     0\n",
              "\n",
              "[5 rows x 65 columns]"
            ]
          },
          "metadata": {
            "tags": []
          },
          "execution_count": 3
        }
      ]
    },
    {
      "cell_type": "code",
      "metadata": {
        "colab": {
          "base_uri": "https://localhost:8080/",
          "height": 0
        },
        "id": "KN5dVcHVK_om",
        "outputId": "5236ad89-bff5-460a-967f-3775956c6200"
      },
      "source": [
        "from google.colab import drive\n",
        "drive.mount('/content/drive')"
      ],
      "execution_count": 4,
      "outputs": [
        {
          "output_type": "stream",
          "text": [
            "Drive already mounted at /content/drive; to attempt to forcibly remount, call drive.mount(\"/content/drive\", force_remount=True).\n"
          ],
          "name": "stdout"
        }
      ]
    },
    {
      "cell_type": "code",
      "metadata": {
        "colab": {
          "base_uri": "https://localhost:8080/",
          "height": 0
        },
        "id": "R4ri0D2b_fR7",
        "outputId": "5c0e7256-2883-4638-fab0-d661e349dde6"
      },
      "source": [
        "data.shape"
      ],
      "execution_count": 5,
      "outputs": [
        {
          "output_type": "execute_result",
          "data": {
            "text/plain": [
              "(9539, 65)"
            ]
          },
          "metadata": {
            "tags": []
          },
          "execution_count": 5
        }
      ]
    },
    {
      "cell_type": "code",
      "metadata": {
        "id": "mVCLjNL9_fR8"
      },
      "source": [
        "# Replacing the null values (which are question marks) to np.nan\n",
        "k=data.columns.tolist()\n",
        "for i in k:\n",
        "    data[i] = data[i].replace('?', np.nan)"
      ],
      "execution_count": 6,
      "outputs": []
    },
    {
      "cell_type": "code",
      "metadata": {
        "colab": {
          "base_uri": "https://localhost:8080/",
          "height": 0
        },
        "id": "EgQ-60NL_fR8",
        "outputId": "d20e4dde-5e22-437c-e131-6b6bfe18368f"
      },
      "source": [
        "# To give an idea of the number of null values\n",
        "data.info()"
      ],
      "execution_count": 7,
      "outputs": [
        {
          "output_type": "stream",
          "text": [
            "<class 'pandas.core.frame.DataFrame'>\n",
            "RangeIndex: 9539 entries, 0 to 9538\n",
            "Data columns (total 65 columns):\n",
            " #   Column  Non-Null Count  Dtype  \n",
            "---  ------  --------------  -----  \n",
            " 0   Attr1   9538 non-null   object \n",
            " 1   Attr2   9538 non-null   object \n",
            " 2   Attr3   9538 non-null   object \n",
            " 3   Attr4   9497 non-null   object \n",
            " 4   Attr5   9519 non-null   object \n",
            " 5   Attr6   9538 non-null   object \n",
            " 6   Attr7   9538 non-null   object \n",
            " 7   Attr8   9520 non-null   object \n",
            " 8   Attr9   9539 non-null   float64\n",
            " 9   Attr10  9538 non-null   object \n",
            " 10  Attr11  9538 non-null   object \n",
            " 11  Attr12  9497 non-null   object \n",
            " 12  Attr13  9518 non-null   object \n",
            " 13  Attr14  9538 non-null   object \n",
            " 14  Attr15  9531 non-null   object \n",
            " 15  Attr16  9520 non-null   object \n",
            " 16  Attr17  9520 non-null   object \n",
            " 17  Attr18  9538 non-null   object \n",
            " 18  Attr19  9518 non-null   object \n",
            " 19  Attr20  9518 non-null   object \n",
            " 20  Attr21  9383 non-null   object \n",
            " 21  Attr22  9538 non-null   object \n",
            " 22  Attr23  9518 non-null   object \n",
            " 23  Attr24  9467 non-null   object \n",
            " 24  Attr25  9538 non-null   object \n",
            " 25  Attr26  9520 non-null   object \n",
            " 26  Attr27  8903 non-null   object \n",
            " 27  Attr28  9315 non-null   object \n",
            " 28  Attr29  9538 non-null   object \n",
            " 29  Attr30  9518 non-null   object \n",
            " 30  Attr31  9518 non-null   object \n",
            " 31  Attr32  9445 non-null   object \n",
            " 32  Attr33  9497 non-null   object \n",
            " 33  Attr34  9520 non-null   object \n",
            " 34  Attr35  9538 non-null   object \n",
            " 35  Attr36  9538 non-null   object \n",
            " 36  Attr37  5222 non-null   object \n",
            " 37  Attr38  9538 non-null   object \n",
            " 38  Attr39  9518 non-null   object \n",
            " 39  Attr40  9497 non-null   object \n",
            " 40  Attr41  9357 non-null   object \n",
            " 41  Attr42  9518 non-null   object \n",
            " 42  Attr43  9518 non-null   object \n",
            " 43  Attr44  9518 non-null   object \n",
            " 44  Attr45  8937 non-null   object \n",
            " 45  Attr46  9497 non-null   object \n",
            " 46  Attr47  9468 non-null   object \n",
            " 47  Attr48  9538 non-null   object \n",
            " 48  Attr49  9518 non-null   object \n",
            " 49  Attr50  9520 non-null   object \n",
            " 50  Attr51  9538 non-null   object \n",
            " 51  Attr52  9465 non-null   object \n",
            " 52  Attr53  9315 non-null   object \n",
            " 53  Attr54  9315 non-null   object \n",
            " 54  Attr55  9539 non-null   float64\n",
            " 55  Attr56  9518 non-null   object \n",
            " 56  Attr57  9538 non-null   object \n",
            " 57  Attr58  9523 non-null   object \n",
            " 58  Attr59  9538 non-null   object \n",
            " 59  Attr60  8936 non-null   object \n",
            " 60  Attr61  9508 non-null   object \n",
            " 61  Attr62  9518 non-null   object \n",
            " 62  Attr63  9497 non-null   object \n",
            " 63  Attr64  9315 non-null   object \n",
            " 64  class   9539 non-null   int64  \n",
            "dtypes: float64(2), int64(1), object(62)\n",
            "memory usage: 4.7+ MB\n"
          ],
          "name": "stdout"
        }
      ]
    },
    {
      "cell_type": "code",
      "metadata": {
        "colab": {
          "base_uri": "https://localhost:8080/",
          "height": 297
        },
        "id": "t14j9gdL_fR9",
        "outputId": "cbf4eca9-0511-4fbd-e13b-b15777bef276"
      },
      "source": [
        "# Gives statistical information on the dataset\n",
        "data.describe()"
      ],
      "execution_count": 8,
      "outputs": [
        {
          "output_type": "execute_result",
          "data": {
            "text/html": [
              "<div>\n",
              "<style scoped>\n",
              "    .dataframe tbody tr th:only-of-type {\n",
              "        vertical-align: middle;\n",
              "    }\n",
              "\n",
              "    .dataframe tbody tr th {\n",
              "        vertical-align: top;\n",
              "    }\n",
              "\n",
              "    .dataframe thead th {\n",
              "        text-align: right;\n",
              "    }\n",
              "</style>\n",
              "<table border=\"1\" class=\"dataframe\">\n",
              "  <thead>\n",
              "    <tr style=\"text-align: right;\">\n",
              "      <th></th>\n",
              "      <th>Attr9</th>\n",
              "      <th>Attr55</th>\n",
              "      <th>class</th>\n",
              "    </tr>\n",
              "  </thead>\n",
              "  <tbody>\n",
              "    <tr>\n",
              "      <th>count</th>\n",
              "      <td>9539.000000</td>\n",
              "      <td>9.539000e+03</td>\n",
              "      <td>9539.000000</td>\n",
              "    </tr>\n",
              "    <tr>\n",
              "      <th>mean</th>\n",
              "      <td>1.895361</td>\n",
              "      <td>7.695430e+03</td>\n",
              "      <td>0.053989</td>\n",
              "    </tr>\n",
              "    <tr>\n",
              "      <th>std</th>\n",
              "      <td>17.906907</td>\n",
              "      <td>7.686359e+04</td>\n",
              "      <td>0.226008</td>\n",
              "    </tr>\n",
              "    <tr>\n",
              "      <th>min</th>\n",
              "      <td>-0.032371</td>\n",
              "      <td>-7.132200e+05</td>\n",
              "      <td>0.000000</td>\n",
              "    </tr>\n",
              "    <tr>\n",
              "      <th>25%</th>\n",
              "      <td>1.006750</td>\n",
              "      <td>1.593450e+01</td>\n",
              "      <td>0.000000</td>\n",
              "    </tr>\n",
              "    <tr>\n",
              "      <th>50%</th>\n",
              "      <td>1.163400</td>\n",
              "      <td>9.220500e+02</td>\n",
              "      <td>0.000000</td>\n",
              "    </tr>\n",
              "    <tr>\n",
              "      <th>75%</th>\n",
              "      <td>1.977750</td>\n",
              "      <td>4.582700e+03</td>\n",
              "      <td>0.000000</td>\n",
              "    </tr>\n",
              "    <tr>\n",
              "      <th>max</th>\n",
              "      <td>1704.800000</td>\n",
              "      <td>6.123700e+06</td>\n",
              "      <td>1.000000</td>\n",
              "    </tr>\n",
              "  </tbody>\n",
              "</table>\n",
              "</div>"
            ],
            "text/plain": [
              "             Attr9        Attr55        class\n",
              "count  9539.000000  9.539000e+03  9539.000000\n",
              "mean      1.895361  7.695430e+03     0.053989\n",
              "std      17.906907  7.686359e+04     0.226008\n",
              "min      -0.032371 -7.132200e+05     0.000000\n",
              "25%       1.006750  1.593450e+01     0.000000\n",
              "50%       1.163400  9.220500e+02     0.000000\n",
              "75%       1.977750  4.582700e+03     0.000000\n",
              "max    1704.800000  6.123700e+06     1.000000"
            ]
          },
          "metadata": {
            "tags": []
          },
          "execution_count": 8
        }
      ]
    },
    {
      "cell_type": "code",
      "metadata": {
        "colab": {
          "base_uri": "https://localhost:8080/",
          "height": 0
        },
        "id": "wPh_sV3W_fR-",
        "outputId": "c06098bf-3b53-4b9c-b763-8eb420b8ec99"
      },
      "source": [
        "# Number of missing values for every attribute\n",
        "missing_values = data.isna().sum()\n",
        "missing_values.sort_values(ascending=False)"
      ],
      "execution_count": 9,
      "outputs": [
        {
          "output_type": "execute_result",
          "data": {
            "text/plain": [
              "Attr37    4317\n",
              "Attr27     636\n",
              "Attr60     603\n",
              "Attr45     602\n",
              "Attr28     224\n",
              "          ... \n",
              "Attr57       1\n",
              "Attr59       1\n",
              "Attr9        0\n",
              "Attr55       0\n",
              "class        0\n",
              "Length: 65, dtype: int64"
            ]
          },
          "metadata": {
            "tags": []
          },
          "execution_count": 9
        }
      ]
    },
    {
      "cell_type": "code",
      "metadata": {
        "colab": {
          "base_uri": "https://localhost:8080/",
          "height": 224
        },
        "id": "WsFnU8iI_fR_",
        "outputId": "1b80e6e5-8007-481d-ac44-71da23ab42bb"
      },
      "source": [
        "classes = data['class']\n",
        "data_temp = data.drop(columns='class')\n",
        "data_temp.head()"
      ],
      "execution_count": 10,
      "outputs": [
        {
          "output_type": "execute_result",
          "data": {
            "text/html": [
              "<div>\n",
              "<style scoped>\n",
              "    .dataframe tbody tr th:only-of-type {\n",
              "        vertical-align: middle;\n",
              "    }\n",
              "\n",
              "    .dataframe tbody tr th {\n",
              "        vertical-align: top;\n",
              "    }\n",
              "\n",
              "    .dataframe thead th {\n",
              "        text-align: right;\n",
              "    }\n",
              "</style>\n",
              "<table border=\"1\" class=\"dataframe\">\n",
              "  <thead>\n",
              "    <tr style=\"text-align: right;\">\n",
              "      <th></th>\n",
              "      <th>Attr1</th>\n",
              "      <th>Attr2</th>\n",
              "      <th>Attr3</th>\n",
              "      <th>Attr4</th>\n",
              "      <th>Attr5</th>\n",
              "      <th>Attr6</th>\n",
              "      <th>Attr7</th>\n",
              "      <th>Attr8</th>\n",
              "      <th>Attr9</th>\n",
              "      <th>Attr10</th>\n",
              "      <th>Attr11</th>\n",
              "      <th>Attr12</th>\n",
              "      <th>Attr13</th>\n",
              "      <th>Attr14</th>\n",
              "      <th>Attr15</th>\n",
              "      <th>Attr16</th>\n",
              "      <th>Attr17</th>\n",
              "      <th>Attr18</th>\n",
              "      <th>Attr19</th>\n",
              "      <th>Attr20</th>\n",
              "      <th>Attr21</th>\n",
              "      <th>Attr22</th>\n",
              "      <th>Attr23</th>\n",
              "      <th>Attr24</th>\n",
              "      <th>Attr25</th>\n",
              "      <th>Attr26</th>\n",
              "      <th>Attr27</th>\n",
              "      <th>Attr28</th>\n",
              "      <th>Attr29</th>\n",
              "      <th>Attr30</th>\n",
              "      <th>Attr31</th>\n",
              "      <th>Attr32</th>\n",
              "      <th>Attr33</th>\n",
              "      <th>Attr34</th>\n",
              "      <th>Attr35</th>\n",
              "      <th>Attr36</th>\n",
              "      <th>Attr37</th>\n",
              "      <th>Attr38</th>\n",
              "      <th>Attr39</th>\n",
              "      <th>Attr40</th>\n",
              "      <th>Attr41</th>\n",
              "      <th>Attr42</th>\n",
              "      <th>Attr43</th>\n",
              "      <th>Attr44</th>\n",
              "      <th>Attr45</th>\n",
              "      <th>Attr46</th>\n",
              "      <th>Attr47</th>\n",
              "      <th>Attr48</th>\n",
              "      <th>Attr49</th>\n",
              "      <th>Attr50</th>\n",
              "      <th>Attr51</th>\n",
              "      <th>Attr52</th>\n",
              "      <th>Attr53</th>\n",
              "      <th>Attr54</th>\n",
              "      <th>Attr55</th>\n",
              "      <th>Attr56</th>\n",
              "      <th>Attr57</th>\n",
              "      <th>Attr58</th>\n",
              "      <th>Attr59</th>\n",
              "      <th>Attr60</th>\n",
              "      <th>Attr61</th>\n",
              "      <th>Attr62</th>\n",
              "      <th>Attr63</th>\n",
              "      <th>Attr64</th>\n",
              "    </tr>\n",
              "  </thead>\n",
              "  <tbody>\n",
              "    <tr>\n",
              "      <th>0</th>\n",
              "      <td>0.096557</td>\n",
              "      <td>0.13718</td>\n",
              "      <td>0.8528</td>\n",
              "      <td>7.2168</td>\n",
              "      <td>710.67</td>\n",
              "      <td>0</td>\n",
              "      <td>0.096557</td>\n",
              "      <td>6.2899</td>\n",
              "      <td>0.61457</td>\n",
              "      <td>0.86282</td>\n",
              "      <td>0.096557</td>\n",
              "      <td>0.70389</td>\n",
              "      <td>0.15711</td>\n",
              "      <td>0.096557</td>\n",
              "      <td>518.55</td>\n",
              "      <td>0.70389</td>\n",
              "      <td>7.2899</td>\n",
              "      <td>0.096557</td>\n",
              "      <td>0.15711</td>\n",
              "      <td>16.644</td>\n",
              "      <td>0.82983</td>\n",
              "      <td>0</td>\n",
              "      <td>0.15711</td>\n",
              "      <td>NaN</td>\n",
              "      <td>0.80007</td>\n",
              "      <td>0.70389</td>\n",
              "      <td>NaN</td>\n",
              "      <td>85.04</td>\n",
              "      <td>2.9013</td>\n",
              "      <td>-1.0864</td>\n",
              "      <td>0.35214</td>\n",
              "      <td>119.84</td>\n",
              "      <td>3.0457</td>\n",
              "      <td>3.0457</td>\n",
              "      <td>0.00697</td>\n",
              "      <td>0.61457</td>\n",
              "      <td>NaN</td>\n",
              "      <td>0.86282</td>\n",
              "      <td>0.011341</td>\n",
              "      <td>5.867</td>\n",
              "      <td>NaN</td>\n",
              "      <td>0</td>\n",
              "      <td>109.97</td>\n",
              "      <td>93.323</td>\n",
              "      <td>3.4455</td>\n",
              "      <td>7.0125</td>\n",
              "      <td>24.482</td>\n",
              "      <td>0</td>\n",
              "      <td>0</td>\n",
              "      <td>7.2168</td>\n",
              "      <td>0.13718</td>\n",
              "      <td>0.32833</td>\n",
              "      <td>86.04</td>\n",
              "      <td>86.04</td>\n",
              "      <td>679.47</td>\n",
              "      <td>0.32018</td>\n",
              "      <td>0.11191</td>\n",
              "      <td>0.70637</td>\n",
              "      <td>0</td>\n",
              "      <td>21.93</td>\n",
              "      <td>3.9111</td>\n",
              "      <td>81.471</td>\n",
              "      <td>4.4801</td>\n",
              "      <td>61.284</td>\n",
              "    </tr>\n",
              "    <tr>\n",
              "      <th>1</th>\n",
              "      <td>0.30458</td>\n",
              "      <td>0.13686</td>\n",
              "      <td>0.75567</td>\n",
              "      <td>6.6983</td>\n",
              "      <td>93.503</td>\n",
              "      <td>0</td>\n",
              "      <td>0.37602</td>\n",
              "      <td>6.307</td>\n",
              "      <td>2.49970</td>\n",
              "      <td>0.86314</td>\n",
              "      <td>0.37607</td>\n",
              "      <td>2.8355</td>\n",
              "      <td>0.16257</td>\n",
              "      <td>0.37602</td>\n",
              "      <td>122.93</td>\n",
              "      <td>2.9693</td>\n",
              "      <td>7.307</td>\n",
              "      <td>0.37602</td>\n",
              "      <td>0.15043</td>\n",
              "      <td>26.179</td>\n",
              "      <td>0.65534</td>\n",
              "      <td>0.37291</td>\n",
              "      <td>0.12185</td>\n",
              "      <td>NaN</td>\n",
              "      <td>0.80077</td>\n",
              "      <td>2.4472</td>\n",
              "      <td>7290.8</td>\n",
              "      <td>6.7644</td>\n",
              "      <td>2.904</td>\n",
              "      <td>-0.041155</td>\n",
              "      <td>0.15045</td>\n",
              "      <td>22.747</td>\n",
              "      <td>16.046</td>\n",
              "      <td>15.548</td>\n",
              "      <td>0.37179</td>\n",
              "      <td>2.4997</td>\n",
              "      <td>NaN</td>\n",
              "      <td>0.86314</td>\n",
              "      <td>0.14874</td>\n",
              "      <td>2.0459</td>\n",
              "      <td>0.011313</td>\n",
              "      <td>0.14918</td>\n",
              "      <td>90.089</td>\n",
              "      <td>63.91</td>\n",
              "      <td>1.6988</td>\n",
              "      <td>5.3464</td>\n",
              "      <td>30.754</td>\n",
              "      <td>0.34257</td>\n",
              "      <td>0.13705</td>\n",
              "      <td>6.4907</td>\n",
              "      <td>0.13261</td>\n",
              "      <td>0.062322</td>\n",
              "      <td>7.7264</td>\n",
              "      <td>7.7264</td>\n",
              "      <td>605.75</td>\n",
              "      <td>0.14874</td>\n",
              "      <td>0.35287</td>\n",
              "      <td>0.85001</td>\n",
              "      <td>0</td>\n",
              "      <td>13.942</td>\n",
              "      <td>5.7112</td>\n",
              "      <td>19.364</td>\n",
              "      <td>18.849</td>\n",
              "      <td>22.376</td>\n",
              "    </tr>\n",
              "    <tr>\n",
              "      <th>2</th>\n",
              "      <td>0.13495</td>\n",
              "      <td>0.16866</td>\n",
              "      <td>0.71295</td>\n",
              "      <td>5.2272</td>\n",
              "      <td>432.48</td>\n",
              "      <td>0</td>\n",
              "      <td>0.17653</td>\n",
              "      <td>4.9292</td>\n",
              "      <td>0.76021</td>\n",
              "      <td>0.83134</td>\n",
              "      <td>0.1766</td>\n",
              "      <td>1.0467</td>\n",
              "      <td>0.25226</td>\n",
              "      <td>0.17653</td>\n",
              "      <td>321.01</td>\n",
              "      <td>1.137</td>\n",
              "      <td>5.9292</td>\n",
              "      <td>0.17653</td>\n",
              "      <td>0.23222</td>\n",
              "      <td>0.19961</td>\n",
              "      <td>1.1209</td>\n",
              "      <td>0.10746</td>\n",
              "      <td>0.17752</td>\n",
              "      <td>NaN</td>\n",
              "      <td>0.55143</td>\n",
              "      <td>0.8905</td>\n",
              "      <td>1747.7</td>\n",
              "      <td>6.0221</td>\n",
              "      <td>3.0373</td>\n",
              "      <td>-0.47358</td>\n",
              "      <td>0.2323</td>\n",
              "      <td>101.19</td>\n",
              "      <td>3.607</td>\n",
              "      <td>3.607</td>\n",
              "      <td>0.15185</td>\n",
              "      <td>0.76021</td>\n",
              "      <td>NaN</td>\n",
              "      <td>0.83134</td>\n",
              "      <td>0.19975</td>\n",
              "      <td>3.1346</td>\n",
              "      <td>0.045818</td>\n",
              "      <td>0.14136</td>\n",
              "      <td>169.45</td>\n",
              "      <td>169.25</td>\n",
              "      <td>324.61</td>\n",
              "      <td>5.2248</td>\n",
              "      <td>0.24944</td>\n",
              "      <td>0.092228</td>\n",
              "      <td>0.12132</td>\n",
              "      <td>5.2272</td>\n",
              "      <td>0.16866</td>\n",
              "      <td>0.27724</td>\n",
              "      <td>7.0221</td>\n",
              "      <td>7.0221</td>\n",
              "      <td>776.85</td>\n",
              "      <td>0.19975</td>\n",
              "      <td>0.16233</td>\n",
              "      <td>0.85872</td>\n",
              "      <td>0</td>\n",
              "      <td>1828.5</td>\n",
              "      <td>2.1565</td>\n",
              "      <td>80.978</td>\n",
              "      <td>4.5074</td>\n",
              "      <td>6.4212</td>\n",
              "    </tr>\n",
              "    <tr>\n",
              "      <th>3</th>\n",
              "      <td>0.26775</td>\n",
              "      <td>0.11341</td>\n",
              "      <td>0.78931</td>\n",
              "      <td>8.0405</td>\n",
              "      <td>213.67</td>\n",
              "      <td>0</td>\n",
              "      <td>0.33261</td>\n",
              "      <td>7.8176</td>\n",
              "      <td>1.70250</td>\n",
              "      <td>0.88659</td>\n",
              "      <td>0.33261</td>\n",
              "      <td>2.9668</td>\n",
              "      <td>0.22367</td>\n",
              "      <td>0.33261</td>\n",
              "      <td>108.7</td>\n",
              "      <td>3.3578</td>\n",
              "      <td>8.8176</td>\n",
              "      <td>0.33261</td>\n",
              "      <td>0.19536</td>\n",
              "      <td>0</td>\n",
              "      <td>0.73416</td>\n",
              "      <td>0.33258</td>\n",
              "      <td>0.15727</td>\n",
              "      <td>NaN</td>\n",
              "      <td>0.62958</td>\n",
              "      <td>2.786</td>\n",
              "      <td>NaN</td>\n",
              "      <td>8.0063</td>\n",
              "      <td>2.289</td>\n",
              "      <td>-0.29154</td>\n",
              "      <td>0.19536</td>\n",
              "      <td>29.871</td>\n",
              "      <td>12.219</td>\n",
              "      <td>12.079</td>\n",
              "      <td>0.33267</td>\n",
              "      <td>1.7025</td>\n",
              "      <td>NaN</td>\n",
              "      <td>0.88659</td>\n",
              "      <td>0.1954</td>\n",
              "      <td>5.4824</td>\n",
              "      <td>0.009928</td>\n",
              "      <td>0.19534</td>\n",
              "      <td>61.483</td>\n",
              "      <td>61.483</td>\n",
              "      <td>NaN</td>\n",
              "      <td>8.0405</td>\n",
              "      <td>0</td>\n",
              "      <td>0.28437</td>\n",
              "      <td>0.16703</td>\n",
              "      <td>7.9483</td>\n",
              "      <td>0.11211</td>\n",
              "      <td>0.081839</td>\n",
              "      <td>8.9931</td>\n",
              "      <td>8.9931</td>\n",
              "      <td>153.55</td>\n",
              "      <td>0.1954</td>\n",
              "      <td>0.302</td>\n",
              "      <td>0.80466</td>\n",
              "      <td>0</td>\n",
              "      <td>NaN</td>\n",
              "      <td>5.9366</td>\n",
              "      <td>24.035</td>\n",
              "      <td>15.186</td>\n",
              "      <td>17.27</td>\n",
              "    </tr>\n",
              "    <tr>\n",
              "      <th>4</th>\n",
              "      <td>0.046283</td>\n",
              "      <td>0.094199</td>\n",
              "      <td>0.47172</td>\n",
              "      <td>7.6622</td>\n",
              "      <td>88.809</td>\n",
              "      <td>0</td>\n",
              "      <td>0.046283</td>\n",
              "      <td>9.6158</td>\n",
              "      <td>1.13950</td>\n",
              "      <td>0.9058</td>\n",
              "      <td>0.046283</td>\n",
              "      <td>0.65366</td>\n",
              "      <td>0.064559</td>\n",
              "      <td>0.046283</td>\n",
              "      <td>467.39</td>\n",
              "      <td>0.78093</td>\n",
              "      <td>10.616</td>\n",
              "      <td>0.046283</td>\n",
              "      <td>0.040618</td>\n",
              "      <td>54.234</td>\n",
              "      <td>0.99457</td>\n",
              "      <td>0.030548</td>\n",
              "      <td>0.040618</td>\n",
              "      <td>NaN</td>\n",
              "      <td>0.86719</td>\n",
              "      <td>0.78093</td>\n",
              "      <td>40348</td>\n",
              "      <td>1.0311</td>\n",
              "      <td>3.1208</td>\n",
              "      <td>-0.081241</td>\n",
              "      <td>0.040618</td>\n",
              "      <td>23.383</td>\n",
              "      <td>15.61</td>\n",
              "      <td>11.733</td>\n",
              "      <td>0.034208</td>\n",
              "      <td>1.1395</td>\n",
              "      <td>NaN</td>\n",
              "      <td>0.9058</td>\n",
              "      <td>0.030021</td>\n",
              "      <td>3.153</td>\n",
              "      <td>0.054298</td>\n",
              "      <td>0.026809</td>\n",
              "      <td>102.27</td>\n",
              "      <td>48.037</td>\n",
              "      <td>0.27336</td>\n",
              "      <td>5.271</td>\n",
              "      <td>55.913</td>\n",
              "      <td>0.003268</td>\n",
              "      <td>0.002868</td>\n",
              "      <td>5.7594</td>\n",
              "      <td>0.070806</td>\n",
              "      <td>0.064062</td>\n",
              "      <td>1.98</td>\n",
              "      <td>1.98</td>\n",
              "      <td>623.05</td>\n",
              "      <td>0.030021</td>\n",
              "      <td>0.051096</td>\n",
              "      <td>0.95994</td>\n",
              "      <td>0</td>\n",
              "      <td>6.7301</td>\n",
              "      <td>7.5983</td>\n",
              "      <td>22.681</td>\n",
              "      <td>16.093</td>\n",
              "      <td>2.4908</td>\n",
              "    </tr>\n",
              "  </tbody>\n",
              "</table>\n",
              "</div>"
            ],
            "text/plain": [
              "      Attr1     Attr2    Attr3   Attr4  ...  Attr61  Attr62  Attr63  Attr64\n",
              "0  0.096557   0.13718   0.8528  7.2168  ...  3.9111  81.471  4.4801  61.284\n",
              "1   0.30458   0.13686  0.75567  6.6983  ...  5.7112  19.364  18.849  22.376\n",
              "2   0.13495   0.16866  0.71295  5.2272  ...  2.1565  80.978  4.5074  6.4212\n",
              "3   0.26775   0.11341  0.78931  8.0405  ...  5.9366  24.035  15.186   17.27\n",
              "4  0.046283  0.094199  0.47172  7.6622  ...  7.5983  22.681  16.093  2.4908\n",
              "\n",
              "[5 rows x 64 columns]"
            ]
          },
          "metadata": {
            "tags": []
          },
          "execution_count": 10
        }
      ]
    },
    {
      "cell_type": "code",
      "metadata": {
        "colab": {
          "base_uri": "https://localhost:8080/",
          "height": 224
        },
        "id": "5F0_hWvn_fR_",
        "outputId": "69462b63-8dad-49dd-af26-9b44669fc0e4"
      },
      "source": [
        "# Normalize the dataset to bring all the values in the same range\n",
        "scaler = StandardScaler()\n",
        "data_norm = pd.DataFrame(scaler.fit_transform(data_temp), columns = data_temp.columns)\n",
        "data_norm['class'] = classes\n",
        "data_norm.head()"
      ],
      "execution_count": 11,
      "outputs": [
        {
          "output_type": "execute_result",
          "data": {
            "text/html": [
              "<div>\n",
              "<style scoped>\n",
              "    .dataframe tbody tr th:only-of-type {\n",
              "        vertical-align: middle;\n",
              "    }\n",
              "\n",
              "    .dataframe tbody tr th {\n",
              "        vertical-align: top;\n",
              "    }\n",
              "\n",
              "    .dataframe thead th {\n",
              "        text-align: right;\n",
              "    }\n",
              "</style>\n",
              "<table border=\"1\" class=\"dataframe\">\n",
              "  <thead>\n",
              "    <tr style=\"text-align: right;\">\n",
              "      <th></th>\n",
              "      <th>Attr1</th>\n",
              "      <th>Attr2</th>\n",
              "      <th>Attr3</th>\n",
              "      <th>Attr4</th>\n",
              "      <th>Attr5</th>\n",
              "      <th>Attr6</th>\n",
              "      <th>Attr7</th>\n",
              "      <th>Attr8</th>\n",
              "      <th>Attr9</th>\n",
              "      <th>Attr10</th>\n",
              "      <th>Attr11</th>\n",
              "      <th>Attr12</th>\n",
              "      <th>Attr13</th>\n",
              "      <th>Attr14</th>\n",
              "      <th>Attr15</th>\n",
              "      <th>Attr16</th>\n",
              "      <th>Attr17</th>\n",
              "      <th>Attr18</th>\n",
              "      <th>Attr19</th>\n",
              "      <th>Attr20</th>\n",
              "      <th>Attr21</th>\n",
              "      <th>Attr22</th>\n",
              "      <th>Attr23</th>\n",
              "      <th>Attr24</th>\n",
              "      <th>Attr25</th>\n",
              "      <th>Attr26</th>\n",
              "      <th>Attr27</th>\n",
              "      <th>Attr28</th>\n",
              "      <th>Attr29</th>\n",
              "      <th>Attr30</th>\n",
              "      <th>Attr31</th>\n",
              "      <th>Attr32</th>\n",
              "      <th>Attr33</th>\n",
              "      <th>Attr34</th>\n",
              "      <th>Attr35</th>\n",
              "      <th>Attr36</th>\n",
              "      <th>Attr37</th>\n",
              "      <th>Attr38</th>\n",
              "      <th>Attr39</th>\n",
              "      <th>Attr40</th>\n",
              "      <th>Attr41</th>\n",
              "      <th>Attr42</th>\n",
              "      <th>Attr43</th>\n",
              "      <th>Attr44</th>\n",
              "      <th>Attr45</th>\n",
              "      <th>Attr46</th>\n",
              "      <th>Attr47</th>\n",
              "      <th>Attr48</th>\n",
              "      <th>Attr49</th>\n",
              "      <th>Attr50</th>\n",
              "      <th>Attr51</th>\n",
              "      <th>Attr52</th>\n",
              "      <th>Attr53</th>\n",
              "      <th>Attr54</th>\n",
              "      <th>Attr55</th>\n",
              "      <th>Attr56</th>\n",
              "      <th>Attr57</th>\n",
              "      <th>Attr58</th>\n",
              "      <th>Attr59</th>\n",
              "      <th>Attr60</th>\n",
              "      <th>Attr61</th>\n",
              "      <th>Attr62</th>\n",
              "      <th>Attr63</th>\n",
              "      <th>Attr64</th>\n",
              "      <th>class</th>\n",
              "    </tr>\n",
              "  </thead>\n",
              "  <tbody>\n",
              "    <tr>\n",
              "      <th>0</th>\n",
              "      <td>0.148206</td>\n",
              "      <td>-0.099497</td>\n",
              "      <td>0.157091</td>\n",
              "      <td>-0.003575</td>\n",
              "      <td>0.043139</td>\n",
              "      <td>0.008989</td>\n",
              "      <td>0.068991</td>\n",
              "      <td>-0.019838</td>\n",
              "      <td>-0.071529</td>\n",
              "      <td>0.102527</td>\n",
              "      <td>0.039499</td>\n",
              "      <td>0.006637</td>\n",
              "      <td>-0.006501</td>\n",
              "      <td>0.068965</td>\n",
              "      <td>-0.024732</td>\n",
              "      <td>0.001071</td>\n",
              "      <td>-0.019967</td>\n",
              "      <td>0.042875</td>\n",
              "      <td>0.006862</td>\n",
              "      <td>-0.120802</td>\n",
              "      <td>-0.065288</td>\n",
              "      <td>-0.129792</td>\n",
              "      <td>0.009514</td>\n",
              "      <td>NaN</td>\n",
              "      <td>0.118400</td>\n",
              "      <td>0.003399</td>\n",
              "      <td>NaN</td>\n",
              "      <td>0.522457</td>\n",
              "      <td>-1.201537</td>\n",
              "      <td>-0.019030</td>\n",
              "      <td>0.012002</td>\n",
              "      <td>-0.036536</td>\n",
              "      <td>-0.077540</td>\n",
              "      <td>-0.033546</td>\n",
              "      <td>-0.103939</td>\n",
              "      <td>-0.084018</td>\n",
              "      <td>NaN</td>\n",
              "      <td>0.081375</td>\n",
              "      <td>0.014261</td>\n",
              "      <td>0.030861</td>\n",
              "      <td>NaN</td>\n",
              "      <td>0.026633</td>\n",
              "      <td>-0.019275</td>\n",
              "      <td>-0.017902</td>\n",
              "      <td>-0.010368</td>\n",
              "      <td>-0.001340</td>\n",
              "      <td>-0.044428</td>\n",
              "      <td>0.005002</td>\n",
              "      <td>0.033302</td>\n",
              "      <td>0.000049</td>\n",
              "      <td>-0.072365</td>\n",
              "      <td>-0.010956</td>\n",
              "      <td>0.878477</td>\n",
              "      <td>0.531677</td>\n",
              "      <td>-0.091283</td>\n",
              "      <td>0.017187</td>\n",
              "      <td>0.008492</td>\n",
              "      <td>-0.053144</td>\n",
              "      <td>-0.032754</td>\n",
              "      <td>-0.029472</td>\n",
              "      <td>-0.019539</td>\n",
              "      <td>-0.016717</td>\n",
              "      <td>-0.068872</td>\n",
              "      <td>0.055909</td>\n",
              "      <td>0</td>\n",
              "    </tr>\n",
              "    <tr>\n",
              "      <th>1</th>\n",
              "      <td>0.721487</td>\n",
              "      <td>-0.099566</td>\n",
              "      <td>0.136060</td>\n",
              "      <td>-0.005336</td>\n",
              "      <td>0.001864</td>\n",
              "      <td>0.008989</td>\n",
              "      <td>0.587013</td>\n",
              "      <td>-0.019814</td>\n",
              "      <td>0.033751</td>\n",
              "      <td>0.102595</td>\n",
              "      <td>0.562633</td>\n",
              "      <td>0.034978</td>\n",
              "      <td>-0.006359</td>\n",
              "      <td>0.586986</td>\n",
              "      <td>-0.028553</td>\n",
              "      <td>0.029557</td>\n",
              "      <td>-0.019943</td>\n",
              "      <td>0.417902</td>\n",
              "      <td>0.006604</td>\n",
              "      <td>-0.095844</td>\n",
              "      <td>-0.094326</td>\n",
              "      <td>0.601054</td>\n",
              "      <td>0.008057</td>\n",
              "      <td>NaN</td>\n",
              "      <td>0.118542</td>\n",
              "      <td>0.026640</td>\n",
              "      <td>0.192852</td>\n",
              "      <td>-0.000873</td>\n",
              "      <td>-1.198420</td>\n",
              "      <td>-0.016005</td>\n",
              "      <td>0.004221</td>\n",
              "      <td>-0.052131</td>\n",
              "      <td>0.106634</td>\n",
              "      <td>0.177506</td>\n",
              "      <td>0.642413</td>\n",
              "      <td>0.023284</td>\n",
              "      <td>NaN</td>\n",
              "      <td>0.081444</td>\n",
              "      <td>0.016021</td>\n",
              "      <td>-0.012040</td>\n",
              "      <td>-0.023308</td>\n",
              "      <td>0.037020</td>\n",
              "      <td>-0.019873</td>\n",
              "      <td>-0.018787</td>\n",
              "      <td>-0.019656</td>\n",
              "      <td>-0.006998</td>\n",
              "      <td>-0.041322</td>\n",
              "      <td>0.650133</td>\n",
              "      <td>0.041898</td>\n",
              "      <td>-0.002441</td>\n",
              "      <td>-0.073356</td>\n",
              "      <td>-0.011249</td>\n",
              "      <td>0.016096</td>\n",
              "      <td>0.001007</td>\n",
              "      <td>-0.092242</td>\n",
              "      <td>0.014990</td>\n",
              "      <td>0.035082</td>\n",
              "      <td>-0.035506</td>\n",
              "      <td>-0.032754</td>\n",
              "      <td>-0.031914</td>\n",
              "      <td>-0.017922</td>\n",
              "      <td>-0.017241</td>\n",
              "      <td>0.164337</td>\n",
              "      <td>-0.026633</td>\n",
              "      <td>0</td>\n",
              "    </tr>\n",
              "    <tr>\n",
              "      <th>2</th>\n",
              "      <td>0.254011</td>\n",
              "      <td>-0.092723</td>\n",
              "      <td>0.126811</td>\n",
              "      <td>-0.010332</td>\n",
              "      <td>0.024534</td>\n",
              "      <td>0.008989</td>\n",
              "      <td>0.217231</td>\n",
              "      <td>-0.021761</td>\n",
              "      <td>-0.063395</td>\n",
              "      <td>0.095757</td>\n",
              "      <td>0.189307</td>\n",
              "      <td>0.011195</td>\n",
              "      <td>-0.004027</td>\n",
              "      <td>0.217205</td>\n",
              "      <td>-0.026640</td>\n",
              "      <td>0.006517</td>\n",
              "      <td>-0.021889</td>\n",
              "      <td>0.150195</td>\n",
              "      <td>0.009760</td>\n",
              "      <td>-0.163844</td>\n",
              "      <td>-0.016850</td>\n",
              "      <td>0.080813</td>\n",
              "      <td>0.010357</td>\n",
              "      <td>NaN</td>\n",
              "      <td>0.067819</td>\n",
              "      <td>0.005887</td>\n",
              "      <td>0.018931</td>\n",
              "      <td>-0.005835</td>\n",
              "      <td>-1.044570</td>\n",
              "      <td>-0.017256</td>\n",
              "      <td>0.007379</td>\n",
              "      <td>-0.039532</td>\n",
              "      <td>-0.069589</td>\n",
              "      <td>-0.024070</td>\n",
              "      <td>0.192458</td>\n",
              "      <td>-0.075728</td>\n",
              "      <td>NaN</td>\n",
              "      <td>0.074588</td>\n",
              "      <td>0.016675</td>\n",
              "      <td>0.000184</td>\n",
              "      <td>-0.022481</td>\n",
              "      <td>0.036476</td>\n",
              "      <td>-0.017487</td>\n",
              "      <td>-0.015618</td>\n",
              "      <td>1.697505</td>\n",
              "      <td>-0.007411</td>\n",
              "      <td>-0.056429</td>\n",
              "      <td>0.178687</td>\n",
              "      <td>0.040911</td>\n",
              "      <td>-0.006775</td>\n",
              "      <td>-0.065543</td>\n",
              "      <td>-0.011012</td>\n",
              "      <td>0.008341</td>\n",
              "      <td>-0.003765</td>\n",
              "      <td>-0.090016</td>\n",
              "      <td>0.015644</td>\n",
              "      <td>0.014056</td>\n",
              "      <td>-0.034436</td>\n",
              "      <td>-0.032754</td>\n",
              "      <td>0.522878</td>\n",
              "      <td>-0.021114</td>\n",
              "      <td>-0.016722</td>\n",
              "      <td>-0.068429</td>\n",
              "      <td>-0.060481</td>\n",
              "      <td>0</td>\n",
              "    </tr>\n",
              "    <tr>\n",
              "      <th>3</th>\n",
              "      <td>0.619989</td>\n",
              "      <td>-0.104612</td>\n",
              "      <td>0.143344</td>\n",
              "      <td>-0.000778</td>\n",
              "      <td>0.009900</td>\n",
              "      <td>0.008989</td>\n",
              "      <td>0.506546</td>\n",
              "      <td>-0.017680</td>\n",
              "      <td>-0.010771</td>\n",
              "      <td>0.107638</td>\n",
              "      <td>0.481294</td>\n",
              "      <td>0.036724</td>\n",
              "      <td>-0.004771</td>\n",
              "      <td>0.506520</td>\n",
              "      <td>-0.028690</td>\n",
              "      <td>0.034442</td>\n",
              "      <td>-0.017809</td>\n",
              "      <td>0.359648</td>\n",
              "      <td>0.008338</td>\n",
              "      <td>-0.164367</td>\n",
              "      <td>-0.081209</td>\n",
              "      <td>0.522013</td>\n",
              "      <td>0.009520</td>\n",
              "      <td>NaN</td>\n",
              "      <td>0.083717</td>\n",
              "      <td>0.031157</td>\n",
              "      <td>NaN</td>\n",
              "      <td>0.007430</td>\n",
              "      <td>-1.908234</td>\n",
              "      <td>-0.016729</td>\n",
              "      <td>0.005954</td>\n",
              "      <td>-0.050986</td>\n",
              "      <td>0.052417</td>\n",
              "      <td>0.118946</td>\n",
              "      <td>0.562381</td>\n",
              "      <td>-0.022093</td>\n",
              "      <td>NaN</td>\n",
              "      <td>0.086500</td>\n",
              "      <td>0.016619</td>\n",
              "      <td>0.026543</td>\n",
              "      <td>-0.023341</td>\n",
              "      <td>0.040235</td>\n",
              "      <td>-0.020733</td>\n",
              "      <td>-0.018860</td>\n",
              "      <td>NaN</td>\n",
              "      <td>0.002152</td>\n",
              "      <td>-0.056552</td>\n",
              "      <td>0.540530</td>\n",
              "      <td>0.043778</td>\n",
              "      <td>0.002558</td>\n",
              "      <td>-0.077798</td>\n",
              "      <td>-0.011227</td>\n",
              "      <td>0.030045</td>\n",
              "      <td>0.009591</td>\n",
              "      <td>-0.098125</td>\n",
              "      <td>0.015588</td>\n",
              "      <td>0.029468</td>\n",
              "      <td>-0.041074</td>\n",
              "      <td>-0.032754</td>\n",
              "      <td>NaN</td>\n",
              "      <td>-0.017720</td>\n",
              "      <td>-0.017201</td>\n",
              "      <td>0.104886</td>\n",
              "      <td>-0.037465</td>\n",
              "      <td>0</td>\n",
              "    </tr>\n",
              "    <tr>\n",
              "      <th>4</th>\n",
              "      <td>0.009658</td>\n",
              "      <td>-0.108746</td>\n",
              "      <td>0.074580</td>\n",
              "      <td>-0.002063</td>\n",
              "      <td>0.001550</td>\n",
              "      <td>0.008989</td>\n",
              "      <td>-0.024199</td>\n",
              "      <td>-0.015140</td>\n",
              "      <td>-0.042213</td>\n",
              "      <td>0.111769</td>\n",
              "      <td>-0.054593</td>\n",
              "      <td>0.005969</td>\n",
              "      <td>-0.008906</td>\n",
              "      <td>-0.024225</td>\n",
              "      <td>-0.025226</td>\n",
              "      <td>0.002039</td>\n",
              "      <td>-0.015269</td>\n",
              "      <td>-0.024591</td>\n",
              "      <td>0.002368</td>\n",
              "      <td>-0.022411</td>\n",
              "      <td>-0.037873</td>\n",
              "      <td>-0.069923</td>\n",
              "      <td>0.004701</td>\n",
              "      <td>NaN</td>\n",
              "      <td>0.132054</td>\n",
              "      <td>0.004426</td>\n",
              "      <td>1.230053</td>\n",
              "      <td>-0.039204</td>\n",
              "      <td>-0.948197</td>\n",
              "      <td>-0.016121</td>\n",
              "      <td>-0.000016</td>\n",
              "      <td>-0.052028</td>\n",
              "      <td>0.100457</td>\n",
              "      <td>0.113105</td>\n",
              "      <td>-0.048215</td>\n",
              "      <td>-0.054139</td>\n",
              "      <td>NaN</td>\n",
              "      <td>0.090642</td>\n",
              "      <td>0.014500</td>\n",
              "      <td>0.000390</td>\n",
              "      <td>-0.022278</td>\n",
              "      <td>0.028499</td>\n",
              "      <td>-0.019507</td>\n",
              "      <td>-0.019264</td>\n",
              "      <td>-0.027236</td>\n",
              "      <td>-0.007255</td>\n",
              "      <td>-0.028862</td>\n",
              "      <td>0.011157</td>\n",
              "      <td>0.033482</td>\n",
              "      <td>-0.004949</td>\n",
              "      <td>-0.086749</td>\n",
              "      <td>-0.011247</td>\n",
              "      <td>-0.047183</td>\n",
              "      <td>-0.037931</td>\n",
              "      <td>-0.092017</td>\n",
              "      <td>0.013468</td>\n",
              "      <td>0.001781</td>\n",
              "      <td>-0.022007</td>\n",
              "      <td>-0.032754</td>\n",
              "      <td>-0.034119</td>\n",
              "      <td>-0.016228</td>\n",
              "      <td>-0.017213</td>\n",
              "      <td>0.119606</td>\n",
              "      <td>-0.068819</td>\n",
              "      <td>0</td>\n",
              "    </tr>\n",
              "  </tbody>\n",
              "</table>\n",
              "</div>"
            ],
            "text/plain": [
              "      Attr1     Attr2     Attr3     Attr4  ...    Attr62    Attr63    Attr64  class\n",
              "0  0.148206 -0.099497  0.157091 -0.003575  ... -0.016717 -0.068872  0.055909      0\n",
              "1  0.721487 -0.099566  0.136060 -0.005336  ... -0.017241  0.164337 -0.026633      0\n",
              "2  0.254011 -0.092723  0.126811 -0.010332  ... -0.016722 -0.068429 -0.060481      0\n",
              "3  0.619989 -0.104612  0.143344 -0.000778  ... -0.017201  0.104886 -0.037465      0\n",
              "4  0.009658 -0.108746  0.074580 -0.002063  ... -0.017213  0.119606 -0.068819      0\n",
              "\n",
              "[5 rows x 65 columns]"
            ]
          },
          "metadata": {
            "tags": []
          },
          "execution_count": 11
        }
      ]
    },
    {
      "cell_type": "code",
      "metadata": {
        "colab": {
          "base_uri": "https://localhost:8080/",
          "height": 384
        },
        "id": "TU_PlDks_fSA",
        "outputId": "06f97a3c-78a1-46f8-8b2d-400c32b6e566"
      },
      "source": [
        "# Visualize the data imbalance\n",
        "labels = ['class_0', 'class_1']\n",
        "classes = pd.value_counts(data_norm['class'], sort=True)\n",
        "classes.plot(kind = 'bar', rot=0)\n",
        "plt.title(\"Distribution of classes\")\n",
        "plt.xticks(range(2), labels)\n",
        "plt.xlabel(\"Class\")\n",
        "plt.ylabel(\"Frequency\")\n",
        "\n",
        "g = sns.countplot(data_norm['class'])\n",
        "g.set_xticklabels(labels)\n",
        "\n",
        "total = data_norm.shape[0]\n",
        "class_0 = data_norm[data_norm['class'] == 0]\n",
        "class_1 = data_norm[data_norm['class'] == 1]\n",
        "print(\"Class 0: {}%\".format(round(len(class_0)*100/total,2)))\n",
        "print(\"Class 1: {}%\".format(round(len(class_1)*100/total,2)))"
      ],
      "execution_count": 12,
      "outputs": [
        {
          "output_type": "stream",
          "text": [
            "Class 0: 94.6%\n",
            "Class 1: 5.4%\n"
          ],
          "name": "stdout"
        },
        {
          "output_type": "stream",
          "text": [
            "/usr/local/lib/python3.7/dist-packages/seaborn/_decorators.py:43: FutureWarning: Pass the following variable as a keyword arg: x. From version 0.12, the only valid positional argument will be `data`, and passing other arguments without an explicit keyword will result in an error or misinterpretation.\n",
            "  FutureWarning\n"
          ],
          "name": "stderr"
        },
        {
          "output_type": "display_data",
          "data": {
            "image/png": "[encoded data removed]",
            "text/plain": [
              "<Figure size 432x288 with 1 Axes>"
            ]
          },
          "metadata": {
            "tags": [],
            "needs_background": "light"
          }
        }
      ]
    },
    {
      "cell_type": "markdown",
      "metadata": {
        "id": "ZeHlEEBT_fSC"
      },
      "source": [
        "# KNN Imputation with NearMiss"
      ]
    },
    {
      "cell_type": "code",
      "metadata": {
        "colab": {
          "base_uri": "https://localhost:8080/",
          "height": 0
        },
        "id": "eAyHTBQN_fSC",
        "outputId": "274829fe-e7ba-4ecc-e360-495e2b1a6214"
      },
      "source": [
        "# Applying KNN Imputation in order to solve the missing values problem\n",
        "start_time = time.time()\n",
        "imp = KNNImputer(n_neighbors=3)\n",
        "knnImputedDf = pd.DataFrame(imp.fit_transform(data_norm),columns = data_norm.columns)\n",
        "print(\"--- %s seconds ---\" % (time.time() - start_time))"
      ],
      "execution_count": 13,
      "outputs": [
        {
          "output_type": "stream",
          "text": [
            "--- 9.679074764251709 seconds ---\n"
          ],
          "name": "stdout"
        }
      ]
    },
    {
      "cell_type": "code",
      "metadata": {
        "colab": {
          "base_uri": "https://localhost:8080/",
          "height": 0
        },
        "id": "GhwgPkYI_fSD",
        "outputId": "7174c5a3-9b9d-4a32-f2fa-21f27d9cce89"
      },
      "source": [
        "# Check if any null values exist\n",
        "d = knnImputedDf.isna().sum()\n",
        "d.sort_values(ascending=False)"
      ],
      "execution_count": 14,
      "outputs": [
        {
          "output_type": "execute_result",
          "data": {
            "text/plain": [
              "class     0\n",
              "Attr32    0\n",
              "Attr30    0\n",
              "Attr29    0\n",
              "Attr28    0\n",
              "         ..\n",
              "Attr38    0\n",
              "Attr37    0\n",
              "Attr36    0\n",
              "Attr35    0\n",
              "Attr1     0\n",
              "Length: 65, dtype: int64"
            ]
          },
          "metadata": {
            "tags": []
          },
          "execution_count": 14
        }
      ]
    },
    {
      "cell_type": "code",
      "metadata": {
        "colab": {
          "base_uri": "https://localhost:8080/",
          "height": 0
        },
        "id": "ipKMQl1i_fSD",
        "outputId": "61cbd2a0-2c50-436e-a760-a6b685917007"
      },
      "source": [
        "# Splitting the dataset for training and validation\n",
        "X = knnImputedDf.loc[:, knnImputedDf.columns != 'class'].to_numpy()\n",
        "y = knnImputedDf['class'].to_numpy().reshape(-1, 1)\n",
        "train_X, test_X, train_y, test_y = train_test_split(X,y,test_size=0.2)\n",
        "print(train_X.shape)\n",
        "print(test_X.shape)\n",
        "print(train_y.shape)\n",
        "print(test_y.shape)"
      ],
      "execution_count": 15,
      "outputs": [
        {
          "output_type": "stream",
          "text": [
            "(7631, 64)\n",
            "(1908, 64)\n",
            "(7631, 1)\n",
            "(1908, 1)\n"
          ],
          "name": "stdout"
        }
      ]
    },
    {
      "cell_type": "code",
      "metadata": {
        "colab": {
          "base_uri": "https://localhost:8080/",
          "height": 486
        },
        "id": "yak_jJBL_fSE",
        "outputId": "6bb3880c-5308-4965-9d5e-5860c7a54d22"
      },
      "source": [
        "# Performing NearMiss on the dataset to address the problem of imbalanced data\n",
        "nm = NearMiss()\n",
        "train_X, train_y = nm.fit_sample(train_X, train_y.ravel())\n",
        "\n",
        "labels = ['class_0', 'class_1']\n",
        "classes = pd.DataFrame([sum(train_y == 0), sum(train_y == 1)])\n",
        "classes.plot(kind = 'bar', rot=0)\n",
        "plt.title(\"Distribution of classes\")\n",
        "plt.xticks(range(2), labels)\n",
        "plt.xlabel(\"Class\")\n",
        "plt.ylabel(\"Frequency\")\n",
        "\n",
        "g = sns.countplot(train_y)\n",
        "g.set_xticklabels(labels)\n",
        "\n",
        "print(\"After Undersampling, counts of label '1': {}\".format(sum(train_y == 1)))\n",
        "print(\"After Undersampling, counts of label '0': {}\".format(sum(train_y == 0)))"
      ],
      "execution_count": 16,
      "outputs": [
        {
          "output_type": "stream",
          "text": [
            "/usr/local/lib/python3.7/dist-packages/sklearn/utils/deprecation.py:87: FutureWarning: Function safe_indexing is deprecated; safe_indexing is deprecated in version 0.22 and will be removed in version 0.24.\n",
            "  warnings.warn(msg, category=FutureWarning)\n",
            "/usr/local/lib/python3.7/dist-packages/sklearn/utils/deprecation.py:87: FutureWarning: Function safe_indexing is deprecated; safe_indexing is deprecated in version 0.22 and will be removed in version 0.24.\n",
            "  warnings.warn(msg, category=FutureWarning)\n",
            "/usr/local/lib/python3.7/dist-packages/sklearn/utils/deprecation.py:87: FutureWarning: Function safe_indexing is deprecated; safe_indexing is deprecated in version 0.22 and will be removed in version 0.24.\n",
            "  warnings.warn(msg, category=FutureWarning)\n",
            "/usr/local/lib/python3.7/dist-packages/seaborn/_decorators.py:43: FutureWarning: Pass the following variable as a keyword arg: x. From version 0.12, the only valid positional argument will be `data`, and passing other arguments without an explicit keyword will result in an error or misinterpretation.\n",
            "  FutureWarning\n"
          ],
          "name": "stderr"
        },
        {
          "output_type": "stream",
          "text": [
            "After Undersampling, counts of label '1': 415\n",
            "After Undersampling, counts of label '0': 415\n"
          ],
          "name": "stdout"
        },
        {
          "output_type": "display_data",
          "data": {
            "image/png": "[encoded data removed]",
            "text/plain": [
              "<Figure size 432x288 with 1 Axes>"
            ]
          },
          "metadata": {
            "tags": [],
            "needs_background": "light"
          }
        }
      ]
    },
    {
      "cell_type": "code",
      "metadata": {
        "colab": {
          "base_uri": "https://localhost:8080/",
          "height": 0
        },
        "id": "S3JuuuRq_fSF",
        "outputId": "098fd599-3c0b-4d21-a204-69dd8a164fc4"
      },
      "source": [
        "# Performing Logistic Regression on the data after imputation and balancing\n",
        "start_time = time.time()\n",
        "model = LogisticRegression(random_state=0, max_iter=400).fit(train_X, train_y.ravel())\n",
        "scores = cross_val_score(model, train_X, train_y, cv=10)\n",
        "print('Cross-Validation Accuracy Scores', scores)\n",
        "print(\"--- %s seconds ---\" % (time.time() - start_time))"
      ],
      "execution_count": 17,
      "outputs": [
        {
          "output_type": "stream",
          "text": [
            "Cross-Validation Accuracy Scores [0.78313253 0.77108434 0.78313253 0.80722892 0.77108434 0.79518072\n",
            " 0.84337349 0.81927711 0.68674699 0.81927711]\n",
            "--- 0.2381293773651123 seconds ---\n"
          ],
          "name": "stdout"
        }
      ]
    },
    {
      "cell_type": "code",
      "metadata": {
        "colab": {
          "base_uri": "https://localhost:8080/",
          "height": 0
        },
        "id": "UOR1EqAn_fSF",
        "outputId": "9cf37a70-3fa6-4fd3-a0a5-aa3d6b3bb2f5"
      },
      "source": [
        "# Average training accuracy \n",
        "scores.mean()"
      ],
      "execution_count": 18,
      "outputs": [
        {
          "output_type": "execute_result",
          "data": {
            "text/plain": [
              "0.7879518072289157"
            ]
          },
          "metadata": {
            "tags": []
          },
          "execution_count": 18
        }
      ]
    },
    {
      "cell_type": "code",
      "metadata": {
        "colab": {
          "base_uri": "https://localhost:8080/",
          "height": 0
        },
        "id": "Leidjrt0_fSG",
        "outputId": "5e6da21c-a8c8-4d3c-870b-cb50c6d94ad4"
      },
      "source": [
        "# Predict values according to the test set given and find the accuracy\n",
        "pred_y = model.predict(test_X)\n",
        "print(accuracy_score(test_y, pred_y))"
      ],
      "execution_count": 19,
      "outputs": [
        {
          "output_type": "stream",
          "text": [
            "0.6048218029350105\n"
          ],
          "name": "stdout"
        }
      ]
    },
    {
      "cell_type": "code",
      "metadata": {
        "colab": {
          "base_uri": "https://localhost:8080/",
          "height": 0
        },
        "id": "_UQVg85A_fSG",
        "outputId": "5635e7d0-3eab-4fda-9a10-dd338b8e24c8"
      },
      "source": [
        "confusion_matrix(test_y, pred_y)"
      ],
      "execution_count": 20,
      "outputs": [
        {
          "output_type": "execute_result",
          "data": {
            "text/plain": [
              "array([[1087,  721],\n",
              "       [  33,   67]])"
            ]
          },
          "metadata": {
            "tags": []
          },
          "execution_count": 20
        }
      ]
    },
    {
      "cell_type": "code",
      "metadata": {
        "colab": {
          "base_uri": "https://localhost:8080/",
          "height": 0
        },
        "id": "9JW1wHJa_fSH",
        "scrolled": true,
        "outputId": "5c5fc21b-b69f-44c9-e087-d1375074b7f6"
      },
      "source": [
        "print(classification_report(test_y, pred_y))"
      ],
      "execution_count": 21,
      "outputs": [
        {
          "output_type": "stream",
          "text": [
            "              precision    recall  f1-score   support\n",
            "\n",
            "         0.0       0.97      0.60      0.74      1808\n",
            "         1.0       0.09      0.67      0.15       100\n",
            "\n",
            "    accuracy                           0.60      1908\n",
            "   macro avg       0.53      0.64      0.45      1908\n",
            "weighted avg       0.92      0.60      0.71      1908\n",
            "\n"
          ],
          "name": "stdout"
        }
      ]
    },
    {
      "cell_type": "markdown",
      "metadata": {
        "id": "kV5tWJlP_fSJ"
      },
      "source": [
        "# KNN Imputation with SMOTE"
      ]
    },
    {
      "cell_type": "code",
      "metadata": {
        "id": "wyTSzQpw_fSK"
      },
      "source": [
        "# Splitting the dataset for training and validation\n",
        "X = knnImputedDf.loc[:, knnImputedDf.columns != 'class'].to_numpy()\n",
        "y = knnImputedDf['class'].to_numpy().reshape(-1, 1)\n",
        "train_X, test_X, train_y, test_y = train_test_split(X,y,test_size=0.2)"
      ],
      "execution_count": 22,
      "outputs": []
    },
    {
      "cell_type": "code",
      "metadata": {
        "colab": {
          "base_uri": "https://localhost:8080/",
          "height": 418
        },
        "id": "unO-EEXc_fSK",
        "outputId": "3fd8ce23-88e4-47b8-af97-2360a8ae0433"
      },
      "source": [
        "# Performing SMOTE on the dataset to address the problem of imbalanced data\n",
        "sm = SMOTE(random_state = 2)\n",
        "train_X, train_y = sm.fit_sample(train_X, train_y.ravel())\n",
        "\n",
        "labels = ['class_0', 'class_1']\n",
        "classes = pd.DataFrame([sum(train_y == 0), sum(train_y == 1)])\n",
        "classes.plot(kind = 'bar', rot=0)\n",
        "plt.title(\"Distribution of classes\")\n",
        "plt.xticks(range(2), labels)\n",
        "plt.xlabel(\"Class\")\n",
        "plt.ylabel(\"Frequency\")\n",
        "\n",
        "g = sns.countplot(train_y)\n",
        "g.set_xticklabels(labels)\n",
        "\n",
        "print(\"After Oversampling, counts of label '1': {}\".format(sum(train_y == 1)))\n",
        "print(\"After Oversampling, counts of label '0': {}\".format(sum(train_y == 0)))"
      ],
      "execution_count": 23,
      "outputs": [
        {
          "output_type": "stream",
          "text": [
            "/usr/local/lib/python3.7/dist-packages/sklearn/utils/deprecation.py:87: FutureWarning: Function safe_indexing is deprecated; safe_indexing is deprecated in version 0.22 and will be removed in version 0.24.\n",
            "  warnings.warn(msg, category=FutureWarning)\n",
            "/usr/local/lib/python3.7/dist-packages/seaborn/_decorators.py:43: FutureWarning: Pass the following variable as a keyword arg: x. From version 0.12, the only valid positional argument will be `data`, and passing other arguments without an explicit keyword will result in an error or misinterpretation.\n",
            "  FutureWarning\n"
          ],
          "name": "stderr"
        },
        {
          "output_type": "stream",
          "text": [
            "After Oversampling, counts of label '1': 7218\n",
            "After Oversampling, counts of label '0': 7218\n"
          ],
          "name": "stdout"
        },
        {
          "output_type": "display_data",
          "data": {
            "image/png": "[encoded data removed]",
            "text/plain": [
              "<Figure size 432x288 with 1 Axes>"
            ]
          },
          "metadata": {
            "tags": [],
            "needs_background": "light"
          }
        }
      ]
    },
    {
      "cell_type": "code",
      "metadata": {
        "colab": {
          "base_uri": "https://localhost:8080/",
          "height": 0
        },
        "id": "7v1ypnkB_fSL",
        "outputId": "171a8198-872a-4517-d400-285a819b7fca"
      },
      "source": [
        "# Performing Logistic Regression on the data after balancing it\n",
        "start_time = time.time()\n",
        "model = LogisticRegression(random_state=0, max_iter=400).fit(train_X, train_y.ravel())\n",
        "scores = cross_val_score(model, train_X, train_y, cv=10)\n",
        "print('Cross-Validation Accuracy Scores', scores)\n",
        "print(\"--- %s seconds ---\" % (time.time() - start_time))"
      ],
      "execution_count": 24,
      "outputs": [
        {
          "output_type": "stream",
          "text": [
            "Cross-Validation Accuracy Scores [0.69875346 0.68698061 0.7098338  0.69459834 0.7001385  0.69598338\n",
            " 0.72072072 0.71032571 0.70824671 0.7040887 ]\n",
            "--- 8.211386919021606 seconds ---\n"
          ],
          "name": "stdout"
        }
      ]
    },
    {
      "cell_type": "code",
      "metadata": {
        "colab": {
          "base_uri": "https://localhost:8080/",
          "height": 0
        },
        "id": "M6WhCGWd_fSL",
        "outputId": "ad39809a-b31e-4515-a339-4fd432da3af2"
      },
      "source": [
        "# Average training accuracy \n",
        "scores.mean()"
      ],
      "execution_count": 25,
      "outputs": [
        {
          "output_type": "execute_result",
          "data": {
            "text/plain": [
              "0.7029669932024503"
            ]
          },
          "metadata": {
            "tags": []
          },
          "execution_count": 25
        }
      ]
    },
    {
      "cell_type": "code",
      "metadata": {
        "colab": {
          "base_uri": "https://localhost:8080/",
          "height": 0
        },
        "id": "p7bXiK8v_fSM",
        "outputId": "750059e4-8f5f-4ea2-a1a9-13f03c552177"
      },
      "source": [
        "# Predict values according to the test set given and find the accuracy\n",
        "pred_y = model.predict(test_X)\n",
        "print(accuracy_score(test_y, pred_y))"
      ],
      "execution_count": 26,
      "outputs": [
        {
          "output_type": "stream",
          "text": [
            "0.7190775681341719\n"
          ],
          "name": "stdout"
        }
      ]
    },
    {
      "cell_type": "code",
      "metadata": {
        "colab": {
          "base_uri": "https://localhost:8080/",
          "height": 0
        },
        "id": "5oeVhRyb_fSM",
        "outputId": "1c3eca0f-8f5a-4aca-d82f-bf7c2648fdcd"
      },
      "source": [
        "confusion_matrix(test_y, pred_y)"
      ],
      "execution_count": 27,
      "outputs": [
        {
          "output_type": "execute_result",
          "data": {
            "text/plain": [
              "array([[1312,  494],\n",
              "       [  42,   60]])"
            ]
          },
          "metadata": {
            "tags": []
          },
          "execution_count": 27
        }
      ]
    },
    {
      "cell_type": "code",
      "metadata": {
        "colab": {
          "base_uri": "https://localhost:8080/",
          "height": 0
        },
        "id": "mqF05tAi_fSN",
        "outputId": "a6a19c48-a1d8-45a8-841a-81538aaf3103"
      },
      "source": [
        "print(classification_report(test_y, pred_y))"
      ],
      "execution_count": 28,
      "outputs": [
        {
          "output_type": "stream",
          "text": [
            "              precision    recall  f1-score   support\n",
            "\n",
            "         0.0       0.97      0.73      0.83      1806\n",
            "         1.0       0.11      0.59      0.18       102\n",
            "\n",
            "    accuracy                           0.72      1908\n",
            "   macro avg       0.54      0.66      0.51      1908\n",
            "weighted avg       0.92      0.72      0.80      1908\n",
            "\n"
          ],
          "name": "stdout"
        }
      ]
    },
    {
      "cell_type": "markdown",
      "metadata": {
        "id": "bGWvirv0_fSO"
      },
      "source": [
        "# Mean Imputation with SMOTE"
      ]
    },
    {
      "cell_type": "code",
      "metadata": {
        "colab": {
          "base_uri": "https://localhost:8080/",
          "height": 626
        },
        "id": "XIhDHC9S_fSO",
        "outputId": "bdfcf198-e14d-4f28-81e8-c05c369ecb68"
      },
      "source": [
        "start_time = time.time()\n",
        "miss_mean_imputer = SimpleImputer(missing_values=np.nan, strategy='mean')\n",
        "miss_mean_imputer = miss_mean_imputer.fit(data_norm)\n",
        "mean_imputed_df = miss_mean_imputer.transform(data_norm.values)\n",
        "print(\"--- %s seconds ---\" % (time.time() - start_time))\n",
        "mean_imputed_df = pd.DataFrame(mean_imputed_df,columns = data_norm.columns)\n",
        "mean_imputed_df"
      ],
      "execution_count": 29,
      "outputs": [
        {
          "output_type": "stream",
          "text": [
            "--- 0.026357412338256836 seconds ---\n"
          ],
          "name": "stdout"
        },
        {
          "output_type": "execute_result",
          "data": {
            "text/html": [
              "<div>\n",
              "<style scoped>\n",
              "    .dataframe tbody tr th:only-of-type {\n",
              "        vertical-align: middle;\n",
              "    }\n",
              "\n",
              "    .dataframe tbody tr th {\n",
              "        vertical-align: top;\n",
              "    }\n",
              "\n",
              "    .dataframe thead th {\n",
              "        text-align: right;\n",
              "    }\n",
              "</style>\n",
              "<table border=\"1\" class=\"dataframe\">\n",
              "  <thead>\n",
              "    <tr style=\"text-align: right;\">\n",
              "      <th></th>\n",
              "      <th>Attr1</th>\n",
              "      <th>Attr2</th>\n",
              "      <th>Attr3</th>\n",
              "      <th>Attr4</th>\n",
              "      <th>Attr5</th>\n",
              "      <th>Attr6</th>\n",
              "      <th>Attr7</th>\n",
              "      <th>Attr8</th>\n",
              "      <th>Attr9</th>\n",
              "      <th>Attr10</th>\n",
              "      <th>Attr11</th>\n",
              "      <th>Attr12</th>\n",
              "      <th>Attr13</th>\n",
              "      <th>Attr14</th>\n",
              "      <th>Attr15</th>\n",
              "      <th>Attr16</th>\n",
              "      <th>Attr17</th>\n",
              "      <th>Attr18</th>\n",
              "      <th>Attr19</th>\n",
              "      <th>Attr20</th>\n",
              "      <th>Attr21</th>\n",
              "      <th>Attr22</th>\n",
              "      <th>Attr23</th>\n",
              "      <th>Attr24</th>\n",
              "      <th>Attr25</th>\n",
              "      <th>Attr26</th>\n",
              "      <th>Attr27</th>\n",
              "      <th>Attr28</th>\n",
              "      <th>Attr29</th>\n",
              "      <th>Attr30</th>\n",
              "      <th>Attr31</th>\n",
              "      <th>Attr32</th>\n",
              "      <th>Attr33</th>\n",
              "      <th>Attr34</th>\n",
              "      <th>Attr35</th>\n",
              "      <th>Attr36</th>\n",
              "      <th>Attr37</th>\n",
              "      <th>Attr38</th>\n",
              "      <th>Attr39</th>\n",
              "      <th>Attr40</th>\n",
              "      <th>Attr41</th>\n",
              "      <th>Attr42</th>\n",
              "      <th>Attr43</th>\n",
              "      <th>Attr44</th>\n",
              "      <th>Attr45</th>\n",
              "      <th>Attr46</th>\n",
              "      <th>Attr47</th>\n",
              "      <th>Attr48</th>\n",
              "      <th>Attr49</th>\n",
              "      <th>Attr50</th>\n",
              "      <th>Attr51</th>\n",
              "      <th>Attr52</th>\n",
              "      <th>Attr53</th>\n",
              "      <th>Attr54</th>\n",
              "      <th>Attr55</th>\n",
              "      <th>Attr56</th>\n",
              "      <th>Attr57</th>\n",
              "      <th>Attr58</th>\n",
              "      <th>Attr59</th>\n",
              "      <th>Attr60</th>\n",
              "      <th>Attr61</th>\n",
              "      <th>Attr62</th>\n",
              "      <th>Attr63</th>\n",
              "      <th>Attr64</th>\n",
              "      <th>class</th>\n",
              "    </tr>\n",
              "  </thead>\n",
              "  <tbody>\n",
              "    <tr>\n",
              "      <th>0</th>\n",
              "      <td>0.148206</td>\n",
              "      <td>-0.099497</td>\n",
              "      <td>0.157091</td>\n",
              "      <td>-0.003575</td>\n",
              "      <td>0.043139</td>\n",
              "      <td>0.008989</td>\n",
              "      <td>0.068991</td>\n",
              "      <td>-0.019838</td>\n",
              "      <td>-0.071529</td>\n",
              "      <td>0.102527</td>\n",
              "      <td>0.039499</td>\n",
              "      <td>0.006637</td>\n",
              "      <td>-0.006501</td>\n",
              "      <td>0.068965</td>\n",
              "      <td>-0.024732</td>\n",
              "      <td>0.001071</td>\n",
              "      <td>-0.019967</td>\n",
              "      <td>0.042875</td>\n",
              "      <td>0.006862</td>\n",
              "      <td>-0.120802</td>\n",
              "      <td>-0.065288</td>\n",
              "      <td>-0.129792</td>\n",
              "      <td>0.009514</td>\n",
              "      <td>1.501094e-18</td>\n",
              "      <td>0.118400</td>\n",
              "      <td>0.003399</td>\n",
              "      <td>5.985702e-18</td>\n",
              "      <td>0.522457</td>\n",
              "      <td>-1.201537</td>\n",
              "      <td>-0.019030</td>\n",
              "      <td>0.012002</td>\n",
              "      <td>-0.036536</td>\n",
              "      <td>-0.077540</td>\n",
              "      <td>-0.033546</td>\n",
              "      <td>-0.103939</td>\n",
              "      <td>-0.084018</td>\n",
              "      <td>1.496739e-17</td>\n",
              "      <td>0.081375</td>\n",
              "      <td>0.014261</td>\n",
              "      <td>0.030861</td>\n",
              "      <td>7.593702e-19</td>\n",
              "      <td>0.026633</td>\n",
              "      <td>-0.019275</td>\n",
              "      <td>-0.017902</td>\n",
              "      <td>-0.010368</td>\n",
              "      <td>-0.001340</td>\n",
              "      <td>-0.044428</td>\n",
              "      <td>0.005002</td>\n",
              "      <td>0.033302</td>\n",
              "      <td>0.000049</td>\n",
              "      <td>-0.072365</td>\n",
              "      <td>-0.010956</td>\n",
              "      <td>0.878477</td>\n",
              "      <td>0.531677</td>\n",
              "      <td>-0.091283</td>\n",
              "      <td>0.017187</td>\n",
              "      <td>0.008492</td>\n",
              "      <td>-0.053144</td>\n",
              "      <td>-0.032754</td>\n",
              "      <td>-2.947182e-02</td>\n",
              "      <td>-0.019539</td>\n",
              "      <td>-0.016717</td>\n",
              "      <td>-0.068872</td>\n",
              "      <td>0.055909</td>\n",
              "      <td>0.0</td>\n",
              "    </tr>\n",
              "    <tr>\n",
              "      <th>1</th>\n",
              "      <td>0.721487</td>\n",
              "      <td>-0.099566</td>\n",
              "      <td>0.136060</td>\n",
              "      <td>-0.005336</td>\n",
              "      <td>0.001864</td>\n",
              "      <td>0.008989</td>\n",
              "      <td>0.587013</td>\n",
              "      <td>-0.019814</td>\n",
              "      <td>0.033751</td>\n",
              "      <td>0.102595</td>\n",
              "      <td>0.562633</td>\n",
              "      <td>0.034978</td>\n",
              "      <td>-0.006359</td>\n",
              "      <td>0.586986</td>\n",
              "      <td>-0.028553</td>\n",
              "      <td>0.029557</td>\n",
              "      <td>-0.019943</td>\n",
              "      <td>0.417902</td>\n",
              "      <td>0.006604</td>\n",
              "      <td>-0.095844</td>\n",
              "      <td>-0.094326</td>\n",
              "      <td>0.601054</td>\n",
              "      <td>0.008057</td>\n",
              "      <td>1.501094e-18</td>\n",
              "      <td>0.118542</td>\n",
              "      <td>0.026640</td>\n",
              "      <td>1.928516e-01</td>\n",
              "      <td>-0.000873</td>\n",
              "      <td>-1.198420</td>\n",
              "      <td>-0.016005</td>\n",
              "      <td>0.004221</td>\n",
              "      <td>-0.052131</td>\n",
              "      <td>0.106634</td>\n",
              "      <td>0.177506</td>\n",
              "      <td>0.642413</td>\n",
              "      <td>0.023284</td>\n",
              "      <td>1.496739e-17</td>\n",
              "      <td>0.081444</td>\n",
              "      <td>0.016021</td>\n",
              "      <td>-0.012040</td>\n",
              "      <td>-2.330825e-02</td>\n",
              "      <td>0.037020</td>\n",
              "      <td>-0.019873</td>\n",
              "      <td>-0.018787</td>\n",
              "      <td>-0.019656</td>\n",
              "      <td>-0.006998</td>\n",
              "      <td>-0.041322</td>\n",
              "      <td>0.650133</td>\n",
              "      <td>0.041898</td>\n",
              "      <td>-0.002441</td>\n",
              "      <td>-0.073356</td>\n",
              "      <td>-0.011249</td>\n",
              "      <td>0.016096</td>\n",
              "      <td>0.001007</td>\n",
              "      <td>-0.092242</td>\n",
              "      <td>0.014990</td>\n",
              "      <td>0.035082</td>\n",
              "      <td>-0.035506</td>\n",
              "      <td>-0.032754</td>\n",
              "      <td>-3.191411e-02</td>\n",
              "      <td>-0.017922</td>\n",
              "      <td>-0.017241</td>\n",
              "      <td>0.164337</td>\n",
              "      <td>-0.026633</td>\n",
              "      <td>0.0</td>\n",
              "    </tr>\n",
              "    <tr>\n",
              "      <th>2</th>\n",
              "      <td>0.254011</td>\n",
              "      <td>-0.092723</td>\n",
              "      <td>0.126811</td>\n",
              "      <td>-0.010332</td>\n",
              "      <td>0.024534</td>\n",
              "      <td>0.008989</td>\n",
              "      <td>0.217231</td>\n",
              "      <td>-0.021761</td>\n",
              "      <td>-0.063395</td>\n",
              "      <td>0.095757</td>\n",
              "      <td>0.189307</td>\n",
              "      <td>0.011195</td>\n",
              "      <td>-0.004027</td>\n",
              "      <td>0.217205</td>\n",
              "      <td>-0.026640</td>\n",
              "      <td>0.006517</td>\n",
              "      <td>-0.021889</td>\n",
              "      <td>0.150195</td>\n",
              "      <td>0.009760</td>\n",
              "      <td>-0.163844</td>\n",
              "      <td>-0.016850</td>\n",
              "      <td>0.080813</td>\n",
              "      <td>0.010357</td>\n",
              "      <td>1.501094e-18</td>\n",
              "      <td>0.067819</td>\n",
              "      <td>0.005887</td>\n",
              "      <td>1.893149e-02</td>\n",
              "      <td>-0.005835</td>\n",
              "      <td>-1.044570</td>\n",
              "      <td>-0.017256</td>\n",
              "      <td>0.007379</td>\n",
              "      <td>-0.039532</td>\n",
              "      <td>-0.069589</td>\n",
              "      <td>-0.024070</td>\n",
              "      <td>0.192458</td>\n",
              "      <td>-0.075728</td>\n",
              "      <td>1.496739e-17</td>\n",
              "      <td>0.074588</td>\n",
              "      <td>0.016675</td>\n",
              "      <td>0.000184</td>\n",
              "      <td>-2.248130e-02</td>\n",
              "      <td>0.036476</td>\n",
              "      <td>-0.017487</td>\n",
              "      <td>-0.015618</td>\n",
              "      <td>1.697505</td>\n",
              "      <td>-0.007411</td>\n",
              "      <td>-0.056429</td>\n",
              "      <td>0.178687</td>\n",
              "      <td>0.040911</td>\n",
              "      <td>-0.006775</td>\n",
              "      <td>-0.065543</td>\n",
              "      <td>-0.011012</td>\n",
              "      <td>0.008341</td>\n",
              "      <td>-0.003765</td>\n",
              "      <td>-0.090016</td>\n",
              "      <td>0.015644</td>\n",
              "      <td>0.014056</td>\n",
              "      <td>-0.034436</td>\n",
              "      <td>-0.032754</td>\n",
              "      <td>5.228780e-01</td>\n",
              "      <td>-0.021114</td>\n",
              "      <td>-0.016722</td>\n",
              "      <td>-0.068429</td>\n",
              "      <td>-0.060481</td>\n",
              "      <td>0.0</td>\n",
              "    </tr>\n",
              "    <tr>\n",
              "      <th>3</th>\n",
              "      <td>0.619989</td>\n",
              "      <td>-0.104612</td>\n",
              "      <td>0.143344</td>\n",
              "      <td>-0.000778</td>\n",
              "      <td>0.009900</td>\n",
              "      <td>0.008989</td>\n",
              "      <td>0.506546</td>\n",
              "      <td>-0.017680</td>\n",
              "      <td>-0.010771</td>\n",
              "      <td>0.107638</td>\n",
              "      <td>0.481294</td>\n",
              "      <td>0.036724</td>\n",
              "      <td>-0.004771</td>\n",
              "      <td>0.506520</td>\n",
              "      <td>-0.028690</td>\n",
              "      <td>0.034442</td>\n",
              "      <td>-0.017809</td>\n",
              "      <td>0.359648</td>\n",
              "      <td>0.008338</td>\n",
              "      <td>-0.164367</td>\n",
              "      <td>-0.081209</td>\n",
              "      <td>0.522013</td>\n",
              "      <td>0.009520</td>\n",
              "      <td>1.501094e-18</td>\n",
              "      <td>0.083717</td>\n",
              "      <td>0.031157</td>\n",
              "      <td>5.985702e-18</td>\n",
              "      <td>0.007430</td>\n",
              "      <td>-1.908234</td>\n",
              "      <td>-0.016729</td>\n",
              "      <td>0.005954</td>\n",
              "      <td>-0.050986</td>\n",
              "      <td>0.052417</td>\n",
              "      <td>0.118946</td>\n",
              "      <td>0.562381</td>\n",
              "      <td>-0.022093</td>\n",
              "      <td>1.496739e-17</td>\n",
              "      <td>0.086500</td>\n",
              "      <td>0.016619</td>\n",
              "      <td>0.026543</td>\n",
              "      <td>-2.334144e-02</td>\n",
              "      <td>0.040235</td>\n",
              "      <td>-0.020733</td>\n",
              "      <td>-0.018860</td>\n",
              "      <td>0.000000</td>\n",
              "      <td>0.002152</td>\n",
              "      <td>-0.056552</td>\n",
              "      <td>0.540530</td>\n",
              "      <td>0.043778</td>\n",
              "      <td>0.002558</td>\n",
              "      <td>-0.077798</td>\n",
              "      <td>-0.011227</td>\n",
              "      <td>0.030045</td>\n",
              "      <td>0.009591</td>\n",
              "      <td>-0.098125</td>\n",
              "      <td>0.015588</td>\n",
              "      <td>0.029468</td>\n",
              "      <td>-0.041074</td>\n",
              "      <td>-0.032754</td>\n",
              "      <td>5.367238e-18</td>\n",
              "      <td>-0.017720</td>\n",
              "      <td>-0.017201</td>\n",
              "      <td>0.104886</td>\n",
              "      <td>-0.037465</td>\n",
              "      <td>0.0</td>\n",
              "    </tr>\n",
              "    <tr>\n",
              "      <th>4</th>\n",
              "      <td>0.009658</td>\n",
              "      <td>-0.108746</td>\n",
              "      <td>0.074580</td>\n",
              "      <td>-0.002063</td>\n",
              "      <td>0.001550</td>\n",
              "      <td>0.008989</td>\n",
              "      <td>-0.024199</td>\n",
              "      <td>-0.015140</td>\n",
              "      <td>-0.042213</td>\n",
              "      <td>0.111769</td>\n",
              "      <td>-0.054593</td>\n",
              "      <td>0.005969</td>\n",
              "      <td>-0.008906</td>\n",
              "      <td>-0.024225</td>\n",
              "      <td>-0.025226</td>\n",
              "      <td>0.002039</td>\n",
              "      <td>-0.015269</td>\n",
              "      <td>-0.024591</td>\n",
              "      <td>0.002368</td>\n",
              "      <td>-0.022411</td>\n",
              "      <td>-0.037873</td>\n",
              "      <td>-0.069923</td>\n",
              "      <td>0.004701</td>\n",
              "      <td>1.501094e-18</td>\n",
              "      <td>0.132054</td>\n",
              "      <td>0.004426</td>\n",
              "      <td>1.230053e+00</td>\n",
              "      <td>-0.039204</td>\n",
              "      <td>-0.948197</td>\n",
              "      <td>-0.016121</td>\n",
              "      <td>-0.000016</td>\n",
              "      <td>-0.052028</td>\n",
              "      <td>0.100457</td>\n",
              "      <td>0.113105</td>\n",
              "      <td>-0.048215</td>\n",
              "      <td>-0.054139</td>\n",
              "      <td>1.496739e-17</td>\n",
              "      <td>0.090642</td>\n",
              "      <td>0.014500</td>\n",
              "      <td>0.000390</td>\n",
              "      <td>-2.227806e-02</td>\n",
              "      <td>0.028499</td>\n",
              "      <td>-0.019507</td>\n",
              "      <td>-0.019264</td>\n",
              "      <td>-0.027236</td>\n",
              "      <td>-0.007255</td>\n",
              "      <td>-0.028862</td>\n",
              "      <td>0.011157</td>\n",
              "      <td>0.033482</td>\n",
              "      <td>-0.004949</td>\n",
              "      <td>-0.086749</td>\n",
              "      <td>-0.011247</td>\n",
              "      <td>-0.047183</td>\n",
              "      <td>-0.037931</td>\n",
              "      <td>-0.092017</td>\n",
              "      <td>0.013468</td>\n",
              "      <td>0.001781</td>\n",
              "      <td>-0.022007</td>\n",
              "      <td>-0.032754</td>\n",
              "      <td>-3.411911e-02</td>\n",
              "      <td>-0.016228</td>\n",
              "      <td>-0.017213</td>\n",
              "      <td>0.119606</td>\n",
              "      <td>-0.068819</td>\n",
              "      <td>0.0</td>\n",
              "    </tr>\n",
              "    <tr>\n",
              "      <th>...</th>\n",
              "      <td>...</td>\n",
              "      <td>...</td>\n",
              "      <td>...</td>\n",
              "      <td>...</td>\n",
              "      <td>...</td>\n",
              "      <td>...</td>\n",
              "      <td>...</td>\n",
              "      <td>...</td>\n",
              "      <td>...</td>\n",
              "      <td>...</td>\n",
              "      <td>...</td>\n",
              "      <td>...</td>\n",
              "      <td>...</td>\n",
              "      <td>...</td>\n",
              "      <td>...</td>\n",
              "      <td>...</td>\n",
              "      <td>...</td>\n",
              "      <td>...</td>\n",
              "      <td>...</td>\n",
              "      <td>...</td>\n",
              "      <td>...</td>\n",
              "      <td>...</td>\n",
              "      <td>...</td>\n",
              "      <td>...</td>\n",
              "      <td>...</td>\n",
              "      <td>...</td>\n",
              "      <td>...</td>\n",
              "      <td>...</td>\n",
              "      <td>...</td>\n",
              "      <td>...</td>\n",
              "      <td>...</td>\n",
              "      <td>...</td>\n",
              "      <td>...</td>\n",
              "      <td>...</td>\n",
              "      <td>...</td>\n",
              "      <td>...</td>\n",
              "      <td>...</td>\n",
              "      <td>...</td>\n",
              "      <td>...</td>\n",
              "      <td>...</td>\n",
              "      <td>...</td>\n",
              "      <td>...</td>\n",
              "      <td>...</td>\n",
              "      <td>...</td>\n",
              "      <td>...</td>\n",
              "      <td>...</td>\n",
              "      <td>...</td>\n",
              "      <td>...</td>\n",
              "      <td>...</td>\n",
              "      <td>...</td>\n",
              "      <td>...</td>\n",
              "      <td>...</td>\n",
              "      <td>...</td>\n",
              "      <td>...</td>\n",
              "      <td>...</td>\n",
              "      <td>...</td>\n",
              "      <td>...</td>\n",
              "      <td>...</td>\n",
              "      <td>...</td>\n",
              "      <td>...</td>\n",
              "      <td>...</td>\n",
              "      <td>...</td>\n",
              "      <td>...</td>\n",
              "      <td>...</td>\n",
              "      <td>...</td>\n",
              "    </tr>\n",
              "    <tr>\n",
              "      <th>9534</th>\n",
              "      <td>-0.105005</td>\n",
              "      <td>-0.010771</td>\n",
              "      <td>0.014191</td>\n",
              "      <td>-0.023364</td>\n",
              "      <td>-0.007002</td>\n",
              "      <td>0.009667</td>\n",
              "      <td>-0.085889</td>\n",
              "      <td>-0.027613</td>\n",
              "      <td>-0.051627</td>\n",
              "      <td>0.009892</td>\n",
              "      <td>-0.116882</td>\n",
              "      <td>-0.002372</td>\n",
              "      <td>-0.009118</td>\n",
              "      <td>-0.085915</td>\n",
              "      <td>-0.001803</td>\n",
              "      <td>-0.006194</td>\n",
              "      <td>-0.027694</td>\n",
              "      <td>-0.069253</td>\n",
              "      <td>0.001209</td>\n",
              "      <td>0.086001</td>\n",
              "      <td>-0.041388</td>\n",
              "      <td>-0.073619</td>\n",
              "      <td>0.003180</td>\n",
              "      <td>-2.829348e-02</td>\n",
              "      <td>0.043533</td>\n",
              "      <td>-0.004505</td>\n",
              "      <td>5.985702e-18</td>\n",
              "      <td>-0.041974</td>\n",
              "      <td>0.825989</td>\n",
              "      <td>-0.014593</td>\n",
              "      <td>-0.001174</td>\n",
              "      <td>-0.032883</td>\n",
              "      <td>-0.084424</td>\n",
              "      <td>-0.084080</td>\n",
              "      <td>-0.059561</td>\n",
              "      <td>-0.044252</td>\n",
              "      <td>-1.108954e-01</td>\n",
              "      <td>0.000349</td>\n",
              "      <td>0.014415</td>\n",
              "      <td>-0.034951</td>\n",
              "      <td>-1.848561e-02</td>\n",
              "      <td>0.028257</td>\n",
              "      <td>-0.016468</td>\n",
              "      <td>-0.017469</td>\n",
              "      <td>-0.028613</td>\n",
              "      <td>-0.022648</td>\n",
              "      <td>-0.010558</td>\n",
              "      <td>-0.047112</td>\n",
              "      <td>0.031890</td>\n",
              "      <td>-0.020413</td>\n",
              "      <td>0.005079</td>\n",
              "      <td>-0.010888</td>\n",
              "      <td>-0.053768</td>\n",
              "      <td>-0.040792</td>\n",
              "      <td>0.014007</td>\n",
              "      <td>0.012700</td>\n",
              "      <td>-0.002663</td>\n",
              "      <td>-0.013416</td>\n",
              "      <td>-0.027997</td>\n",
              "      <td>-3.501012e-02</td>\n",
              "      <td>-0.020007</td>\n",
              "      <td>-0.016166</td>\n",
              "      <td>-0.101246</td>\n",
              "      <td>-0.065762</td>\n",
              "      <td>1.0</td>\n",
              "    </tr>\n",
              "    <tr>\n",
              "      <th>9535</th>\n",
              "      <td>-0.193981</td>\n",
              "      <td>0.001708</td>\n",
              "      <td>-0.033999</td>\n",
              "      <td>-0.025008</td>\n",
              "      <td>-0.005789</td>\n",
              "      <td>0.004989</td>\n",
              "      <td>-0.161169</td>\n",
              "      <td>-0.027945</td>\n",
              "      <td>-0.049596</td>\n",
              "      <td>-0.010958</td>\n",
              "      <td>-0.192891</td>\n",
              "      <td>-0.003883</td>\n",
              "      <td>-0.010187</td>\n",
              "      <td>-0.161195</td>\n",
              "      <td>0.015216</td>\n",
              "      <td>-0.006794</td>\n",
              "      <td>-0.027939</td>\n",
              "      <td>-0.123752</td>\n",
              "      <td>0.000459</td>\n",
              "      <td>-0.122880</td>\n",
              "      <td>-0.076180</td>\n",
              "      <td>-0.124550</td>\n",
              "      <td>0.002657</td>\n",
              "      <td>-3.317640e-02</td>\n",
              "      <td>0.023809</td>\n",
              "      <td>-0.004939</td>\n",
              "      <td>5.985702e-18</td>\n",
              "      <td>-0.046376</td>\n",
              "      <td>0.387290</td>\n",
              "      <td>-0.015345</td>\n",
              "      <td>-0.001924</td>\n",
              "      <td>-0.049791</td>\n",
              "      <td>0.017884</td>\n",
              "      <td>-0.084886</td>\n",
              "      <td>-0.112726</td>\n",
              "      <td>0.058660</td>\n",
              "      <td>-1.225221e-01</td>\n",
              "      <td>0.030371</td>\n",
              "      <td>0.014127</td>\n",
              "      <td>-0.033718</td>\n",
              "      <td>-1.743661e-02</td>\n",
              "      <td>0.026692</td>\n",
              "      <td>-0.021700</td>\n",
              "      <td>-0.020305</td>\n",
              "      <td>-0.029775</td>\n",
              "      <td>-0.023533</td>\n",
              "      <td>-0.048646</td>\n",
              "      <td>-0.131660</td>\n",
              "      <td>0.031842</td>\n",
              "      <td>-0.023086</td>\n",
              "      <td>-0.033545</td>\n",
              "      <td>-0.011205</td>\n",
              "      <td>-0.063814</td>\n",
              "      <td>-0.045400</td>\n",
              "      <td>-0.107467</td>\n",
              "      <td>0.013176</td>\n",
              "      <td>-0.012949</td>\n",
              "      <td>-0.017972</td>\n",
              "      <td>-0.000258</td>\n",
              "      <td>-2.913611e-02</td>\n",
              "      <td>0.001316</td>\n",
              "      <td>-0.017092</td>\n",
              "      <td>0.018319</td>\n",
              "      <td>-0.064836</td>\n",
              "      <td>1.0</td>\n",
              "    </tr>\n",
              "    <tr>\n",
              "      <th>9536</th>\n",
              "      <td>-0.774584</td>\n",
              "      <td>0.005926</td>\n",
              "      <td>-0.007988</td>\n",
              "      <td>-0.022608</td>\n",
              "      <td>-0.004461</td>\n",
              "      <td>-0.025536</td>\n",
              "      <td>-0.555529</td>\n",
              "      <td>-0.028324</td>\n",
              "      <td>-0.061001</td>\n",
              "      <td>-0.044825</td>\n",
              "      <td>-0.591072</td>\n",
              "      <td>-0.024382</td>\n",
              "      <td>-0.018334</td>\n",
              "      <td>-0.555555</td>\n",
              "      <td>-0.041977</td>\n",
              "      <td>-0.011403</td>\n",
              "      <td>-0.028012</td>\n",
              "      <td>-0.409254</td>\n",
              "      <td>-0.014505</td>\n",
              "      <td>-0.018940</td>\n",
              "      <td>-0.139363</td>\n",
              "      <td>-0.596608</td>\n",
              "      <td>-0.013227</td>\n",
              "      <td>-5.875608e-02</td>\n",
              "      <td>-0.008230</td>\n",
              "      <td>-0.009781</td>\n",
              "      <td>5.985702e-18</td>\n",
              "      <td>-0.045305</td>\n",
              "      <td>1.118571</td>\n",
              "      <td>-0.012892</td>\n",
              "      <td>-0.016887</td>\n",
              "      <td>-0.044320</td>\n",
              "      <td>-0.048246</td>\n",
              "      <td>-0.091373</td>\n",
              "      <td>-0.605489</td>\n",
              "      <td>-0.082972</td>\n",
              "      <td>-1.229311e-01</td>\n",
              "      <td>0.037031</td>\n",
              "      <td>0.009080</td>\n",
              "      <td>-0.034958</td>\n",
              "      <td>-2.634771e-02</td>\n",
              "      <td>-0.000743</td>\n",
              "      <td>-0.018285</td>\n",
              "      <td>-0.018081</td>\n",
              "      <td>-0.042430</td>\n",
              "      <td>-0.021803</td>\n",
              "      <td>-0.034455</td>\n",
              "      <td>-0.556005</td>\n",
              "      <td>0.002463</td>\n",
              "      <td>-0.023402</td>\n",
              "      <td>-0.070120</td>\n",
              "      <td>-0.011102</td>\n",
              "      <td>-0.066420</td>\n",
              "      <td>-0.045505</td>\n",
              "      <td>-0.004211</td>\n",
              "      <td>0.009940</td>\n",
              "      <td>-0.151913</td>\n",
              "      <td>0.013021</td>\n",
              "      <td>0.068225</td>\n",
              "      <td>-3.416825e-02</td>\n",
              "      <td>-0.019299</td>\n",
              "      <td>-0.016655</td>\n",
              "      <td>-0.074936</td>\n",
              "      <td>-0.072416</td>\n",
              "      <td>1.0</td>\n",
              "    </tr>\n",
              "    <tr>\n",
              "      <th>9537</th>\n",
              "      <td>0.149945</td>\n",
              "      <td>0.033023</td>\n",
              "      <td>-0.098504</td>\n",
              "      <td>-0.026595</td>\n",
              "      <td>-0.018717</td>\n",
              "      <td>-0.039011</td>\n",
              "      <td>0.083307</td>\n",
              "      <td>-0.028260</td>\n",
              "      <td>-0.051039</td>\n",
              "      <td>-0.029901</td>\n",
              "      <td>0.146335</td>\n",
              "      <td>-0.000346</td>\n",
              "      <td>-0.007822</td>\n",
              "      <td>0.083280</td>\n",
              "      <td>-0.004283</td>\n",
              "      <td>-0.006039</td>\n",
              "      <td>-0.028389</td>\n",
              "      <td>0.053239</td>\n",
              "      <td>0.004900</td>\n",
              "      <td>0.056550</td>\n",
              "      <td>-0.044267</td>\n",
              "      <td>0.167359</td>\n",
              "      <td>0.007114</td>\n",
              "      <td>-3.211402e-02</td>\n",
              "      <td>-0.076937</td>\n",
              "      <td>-0.004264</td>\n",
              "      <td>-3.580790e-02</td>\n",
              "      <td>-0.049042</td>\n",
              "      <td>0.208048</td>\n",
              "      <td>-0.013666</td>\n",
              "      <td>0.004429</td>\n",
              "      <td>-0.006811</td>\n",
              "      <td>-0.098029</td>\n",
              "      <td>-0.064035</td>\n",
              "      <td>0.065976</td>\n",
              "      <td>-0.057116</td>\n",
              "      <td>-1.230705e-01</td>\n",
              "      <td>-0.024296</td>\n",
              "      <td>0.015291</td>\n",
              "      <td>-0.034984</td>\n",
              "      <td>-1.961202e-02</td>\n",
              "      <td>0.037390</td>\n",
              "      <td>-0.019735</td>\n",
              "      <td>-0.020400</td>\n",
              "      <td>-0.026413</td>\n",
              "      <td>-0.023828</td>\n",
              "      <td>-0.012604</td>\n",
              "      <td>0.290534</td>\n",
              "      <td>0.042992</td>\n",
              "      <td>-0.023538</td>\n",
              "      <td>0.024376</td>\n",
              "      <td>-0.010630</td>\n",
              "      <td>-0.065330</td>\n",
              "      <td>-0.047954</td>\n",
              "      <td>-0.156668</td>\n",
              "      <td>0.016778</td>\n",
              "      <td>0.039562</td>\n",
              "      <td>-0.056226</td>\n",
              "      <td>-0.013724</td>\n",
              "      <td>-3.485458e-02</td>\n",
              "      <td>0.008829</td>\n",
              "      <td>-0.015575</td>\n",
              "      <td>-0.114289</td>\n",
              "      <td>-0.071305</td>\n",
              "      <td>1.0</td>\n",
              "    </tr>\n",
              "    <tr>\n",
              "      <th>9538</th>\n",
              "      <td>-0.058872</td>\n",
              "      <td>-0.024266</td>\n",
              "      <td>0.004693</td>\n",
              "      <td>-0.023646</td>\n",
              "      <td>-0.006013</td>\n",
              "      <td>0.012092</td>\n",
              "      <td>-0.059473</td>\n",
              "      <td>-0.027236</td>\n",
              "      <td>-0.049925</td>\n",
              "      <td>0.027229</td>\n",
              "      <td>-0.090210</td>\n",
              "      <td>-0.001976</td>\n",
              "      <td>-0.009737</td>\n",
              "      <td>-0.059499</td>\n",
              "      <td>-0.000505</td>\n",
              "      <td>-0.006264</td>\n",
              "      <td>-0.027363</td>\n",
              "      <td>-0.050128</td>\n",
              "      <td>0.001384</td>\n",
              "      <td>-0.023000</td>\n",
              "      <td>-0.040822</td>\n",
              "      <td>-0.102705</td>\n",
              "      <td>0.003514</td>\n",
              "      <td>-2.658003e-02</td>\n",
              "      <td>0.059934</td>\n",
              "      <td>-0.004537</td>\n",
              "      <td>5.985702e-18</td>\n",
              "      <td>-0.043372</td>\n",
              "      <td>0.083975</td>\n",
              "      <td>-0.015103</td>\n",
              "      <td>-0.000999</td>\n",
              "      <td>-0.039954</td>\n",
              "      <td>-0.068223</td>\n",
              "      <td>-0.084481</td>\n",
              "      <td>-0.089923</td>\n",
              "      <td>-0.012917</td>\n",
              "      <td>5.113724e-01</td>\n",
              "      <td>0.006121</td>\n",
              "      <td>0.014214</td>\n",
              "      <td>-0.034968</td>\n",
              "      <td>-1.510614e-02</td>\n",
              "      <td>0.027167</td>\n",
              "      <td>-0.018726</td>\n",
              "      <td>-0.018476</td>\n",
              "      <td>-0.028263</td>\n",
              "      <td>-0.022583</td>\n",
              "      <td>-0.029768</td>\n",
              "      <td>-0.028185</td>\n",
              "      <td>0.032688</td>\n",
              "      <td>-0.020232</td>\n",
              "      <td>0.003159</td>\n",
              "      <td>-0.011020</td>\n",
              "      <td>-0.053535</td>\n",
              "      <td>-0.041820</td>\n",
              "      <td>-0.080061</td>\n",
              "      <td>0.013101</td>\n",
              "      <td>0.000752</td>\n",
              "      <td>-0.017259</td>\n",
              "      <td>-0.032674</td>\n",
              "      <td>-3.411052e-02</td>\n",
              "      <td>-0.018635</td>\n",
              "      <td>-0.016575</td>\n",
              "      <td>-0.081395</td>\n",
              "      <td>-0.063645</td>\n",
              "      <td>1.0</td>\n",
              "    </tr>\n",
              "  </tbody>\n",
              "</table>\n",
              "<p>9539 rows × 65 columns</p>\n",
              "</div>"
            ],
            "text/plain": [
              "         Attr1     Attr2     Attr3  ...    Attr63    Attr64  class\n",
              "0     0.148206 -0.099497  0.157091  ... -0.068872  0.055909    0.0\n",
              "1     0.721487 -0.099566  0.136060  ...  0.164337 -0.026633    0.0\n",
              "2     0.254011 -0.092723  0.126811  ... -0.068429 -0.060481    0.0\n",
              "3     0.619989 -0.104612  0.143344  ...  0.104886 -0.037465    0.0\n",
              "4     0.009658 -0.108746  0.074580  ...  0.119606 -0.068819    0.0\n",
              "...        ...       ...       ...  ...       ...       ...    ...\n",
              "9534 -0.105005 -0.010771  0.014191  ... -0.101246 -0.065762    1.0\n",
              "9535 -0.193981  0.001708 -0.033999  ...  0.018319 -0.064836    1.0\n",
              "9536 -0.774584  0.005926 -0.007988  ... -0.074936 -0.072416    1.0\n",
              "9537  0.149945  0.033023 -0.098504  ... -0.114289 -0.071305    1.0\n",
              "9538 -0.058872 -0.024266  0.004693  ... -0.081395 -0.063645    1.0\n",
              "\n",
              "[9539 rows x 65 columns]"
            ]
          },
          "metadata": {
            "tags": []
          },
          "execution_count": 29
        }
      ]
    },
    {
      "cell_type": "code",
      "metadata": {
        "id": "foDvC5DF_fSO"
      },
      "source": [
        "X = mean_imputed_df.loc[:, mean_imputed_df.columns != 'class'].to_numpy()\n",
        "y = mean_imputed_df['class'].to_numpy().reshape(-1, 1)\n",
        "train_X, test_X, train_y, test_y = train_test_split(X,y,test_size=0.2)"
      ],
      "execution_count": 30,
      "outputs": []
    },
    {
      "cell_type": "code",
      "metadata": {
        "colab": {
          "base_uri": "https://localhost:8080/",
          "height": 418
        },
        "id": "bpA-LP5N_fSP",
        "scrolled": true,
        "outputId": "960c6034-dfa2-4b83-cbec-b1001921b130"
      },
      "source": [
        "# Performing SMOTE on the dataset to address the problem of imbalanced data\n",
        "sm = SMOTE(random_state = 2)\n",
        "train_X, train_y = sm.fit_resample(train_X, train_y.ravel())\n",
        "\n",
        "labels = ['class_0', 'class_1']\n",
        "classes = pd.DataFrame([sum(train_y == 0), sum(train_y == 1)])\n",
        "classes.plot(kind = 'bar', rot=0)\n",
        "plt.title(\"Distribution of classes\")\n",
        "plt.xticks(range(2), labels)\n",
        "plt.xlabel(\"Class\")\n",
        "plt.ylabel(\"Frequency\")\n",
        "\n",
        "g = sns.countplot(train_y)\n",
        "g.set_xticklabels(labels)\n",
        "\n",
        "print(\"After Oversampling, counts of label '1': {}\".format(sum(train_y == 1)))\n",
        "print(\"After Oversampling, counts of label '0': {}\".format(sum(train_y == 0)))"
      ],
      "execution_count": 31,
      "outputs": [
        {
          "output_type": "stream",
          "text": [
            "/usr/local/lib/python3.7/dist-packages/sklearn/utils/deprecation.py:87: FutureWarning: Function safe_indexing is deprecated; safe_indexing is deprecated in version 0.22 and will be removed in version 0.24.\n",
            "  warnings.warn(msg, category=FutureWarning)\n",
            "/usr/local/lib/python3.7/dist-packages/seaborn/_decorators.py:43: FutureWarning: Pass the following variable as a keyword arg: x. From version 0.12, the only valid positional argument will be `data`, and passing other arguments without an explicit keyword will result in an error or misinterpretation.\n",
            "  FutureWarning\n"
          ],
          "name": "stderr"
        },
        {
          "output_type": "stream",
          "text": [
            "After Oversampling, counts of label '1': 7211\n",
            "After Oversampling, counts of label '0': 7211\n"
          ],
          "name": "stdout"
        },
        {
          "output_type": "display_data",
          "data": {
            "image/png": "[encoded data removed]",
            "text/plain": [
              "<Figure size 432x288 with 1 Axes>"
            ]
          },
          "metadata": {
            "tags": [],
            "needs_background": "light"
          }
        }
      ]
    },
    {
      "cell_type": "code",
      "metadata": {
        "colab": {
          "base_uri": "https://localhost:8080/",
          "height": 0
        },
        "id": "TMB9rbV-_fSP",
        "outputId": "35bbff59-8408-4512-f139-a5a4e7496139"
      },
      "source": [
        "start_time = time.time()\n",
        "model = LogisticRegression(random_state=0, max_iter=400).fit(train_X, train_y.ravel())\n",
        "scores = cross_val_score(model, train_X, train_y, cv=10)\n",
        "print('Cross-Validation Accuracy Scores', scores)\n",
        "print(\"--- %s seconds ---\" % (time.time() - start_time))"
      ],
      "execution_count": 32,
      "outputs": [
        {
          "output_type": "stream",
          "text": [
            "Cross-Validation Accuracy Scores [0.70893971 0.73250173 0.70665742 0.7260749  0.72052705 0.70457698\n",
            " 0.71983356 0.71012483 0.70249653 0.72052705]\n",
            "--- 6.416605472564697 seconds ---\n"
          ],
          "name": "stdout"
        }
      ]
    },
    {
      "cell_type": "code",
      "metadata": {
        "colab": {
          "base_uri": "https://localhost:8080/",
          "height": 0
        },
        "id": "hsEZeiEkGsus",
        "outputId": "a9155544-894e-4107-b3f3-dc1eef9eae9b"
      },
      "source": [
        "scores.mean()"
      ],
      "execution_count": 33,
      "outputs": [
        {
          "output_type": "execute_result",
          "data": {
            "text/plain": [
              "0.7152259749347128"
            ]
          },
          "metadata": {
            "tags": []
          },
          "execution_count": 33
        }
      ]
    },
    {
      "cell_type": "code",
      "metadata": {
        "colab": {
          "base_uri": "https://localhost:8080/",
          "height": 0
        },
        "id": "Ynvgas6A_fSQ",
        "outputId": "6c295b79-4415-45a6-fb95-15cb3ca4cb68"
      },
      "source": [
        "pred_y = model.predict(test_X)\n",
        "print(accuracy_score(test_y, pred_y))"
      ],
      "execution_count": 34,
      "outputs": [
        {
          "output_type": "stream",
          "text": [
            "0.749475890985325\n"
          ],
          "name": "stdout"
        }
      ]
    },
    {
      "cell_type": "code",
      "metadata": {
        "colab": {
          "base_uri": "https://localhost:8080/",
          "height": 0
        },
        "id": "NBeJmMKw_fSQ",
        "scrolled": true,
        "outputId": "ea85b5b4-db47-4dab-cb58-ef2ed358e0cd"
      },
      "source": [
        "confusion_matrix(test_y, pred_y)"
      ],
      "execution_count": 35,
      "outputs": [
        {
          "output_type": "execute_result",
          "data": {
            "text/plain": [
              "array([[1372,  441],\n",
              "       [  37,   58]])"
            ]
          },
          "metadata": {
            "tags": []
          },
          "execution_count": 35
        }
      ]
    },
    {
      "cell_type": "code",
      "metadata": {
        "colab": {
          "base_uri": "https://localhost:8080/",
          "height": 0
        },
        "id": "dTtMDBPB_fSQ",
        "scrolled": false,
        "outputId": "7c75687d-32b9-4874-c484-6e704291e0c6"
      },
      "source": [
        "print(classification_report(test_y, pred_y))"
      ],
      "execution_count": 36,
      "outputs": [
        {
          "output_type": "stream",
          "text": [
            "              precision    recall  f1-score   support\n",
            "\n",
            "         0.0       0.97      0.76      0.85      1813\n",
            "         1.0       0.12      0.61      0.20        95\n",
            "\n",
            "    accuracy                           0.75      1908\n",
            "   macro avg       0.54      0.68      0.52      1908\n",
            "weighted avg       0.93      0.75      0.82      1908\n",
            "\n"
          ],
          "name": "stdout"
        }
      ]
    },
    {
      "cell_type": "markdown",
      "metadata": {
        "id": "PiIX6BaJ_fSR"
      },
      "source": [
        "# Mean Imputation With Near Miss"
      ]
    },
    {
      "cell_type": "code",
      "metadata": {
        "colab": {
          "base_uri": "https://localhost:8080/",
          "height": 486
        },
        "id": "F277_M_K_fSR",
        "outputId": "0c61f437-cf61-4d07-967f-aaeb3777f8e9"
      },
      "source": [
        "# Performing NearMiss on the dataset to address the problem of imbalanced data\n",
        "nm = NearMiss()\n",
        "train_X, train_y = nm.fit_sample(train_X, train_y.ravel())\n",
        "\n",
        "labels = ['class_0', 'class_1']\n",
        "classes = pd.DataFrame([sum(train_y == 0), sum(train_y == 1)])\n",
        "classes.plot(kind = 'bar', rot=0)\n",
        "plt.title(\"Distribution of classes\")\n",
        "plt.xticks(range(2), labels)\n",
        "plt.xlabel(\"Class\")\n",
        "plt.ylabel(\"Frequency\")\n",
        "\n",
        "g = sns.countplot(train_y)\n",
        "g.set_xticklabels(labels)\n",
        "\n",
        "print(\"After Undersampling, counts of label '1': {}\".format(sum(train_y == 1)))\n",
        "print(\"After Undersampling, counts of label '0': {}\".format(sum(train_y == 0)))"
      ],
      "execution_count": 37,
      "outputs": [
        {
          "output_type": "stream",
          "text": [
            "/usr/local/lib/python3.7/dist-packages/sklearn/utils/deprecation.py:87: FutureWarning: Function safe_indexing is deprecated; safe_indexing is deprecated in version 0.22 and will be removed in version 0.24.\n",
            "  warnings.warn(msg, category=FutureWarning)\n",
            "/usr/local/lib/python3.7/dist-packages/sklearn/utils/deprecation.py:87: FutureWarning: Function safe_indexing is deprecated; safe_indexing is deprecated in version 0.22 and will be removed in version 0.24.\n",
            "  warnings.warn(msg, category=FutureWarning)\n",
            "/usr/local/lib/python3.7/dist-packages/sklearn/utils/deprecation.py:87: FutureWarning: Function safe_indexing is deprecated; safe_indexing is deprecated in version 0.22 and will be removed in version 0.24.\n",
            "  warnings.warn(msg, category=FutureWarning)\n",
            "/usr/local/lib/python3.7/dist-packages/seaborn/_decorators.py:43: FutureWarning: Pass the following variable as a keyword arg: x. From version 0.12, the only valid positional argument will be `data`, and passing other arguments without an explicit keyword will result in an error or misinterpretation.\n",
            "  FutureWarning\n"
          ],
          "name": "stderr"
        },
        {
          "output_type": "stream",
          "text": [
            "After Undersampling, counts of label '1': 7211\n",
            "After Undersampling, counts of label '0': 7211\n"
          ],
          "name": "stdout"
        },
        {
          "output_type": "display_data",
          "data": {
            "image/png": "[encoded data removed]",
            "text/plain": [
              "<Figure size 432x288 with 1 Axes>"
            ]
          },
          "metadata": {
            "tags": [],
            "needs_background": "light"
          }
        }
      ]
    },
    {
      "cell_type": "code",
      "metadata": {
        "colab": {
          "base_uri": "https://localhost:8080/",
          "height": 0
        },
        "id": "KqzgZNCB_fSS",
        "outputId": "cf3e8487-5acf-4a73-dd35-c95aa544f0e7"
      },
      "source": [
        "# Performing Logistic Regression on the data after imputation and balancing\n",
        "start_time = time.time()\n",
        "model = LogisticRegression(random_state=0, max_iter=400).fit(train_X, train_y.ravel())\n",
        "scores = cross_val_score(model, train_X, train_y, cv=10)\n",
        "print('Cross-Validation Accuracy Scores', scores)\n",
        "print(\"--- %s seconds ---\" % (time.time() - start_time))"
      ],
      "execution_count": 38,
      "outputs": [
        {
          "output_type": "stream",
          "text": [
            "Cross-Validation Accuracy Scores [0.4954955  0.56756757 0.67545076 0.72815534 0.7739251  0.69070735\n",
            " 0.73231623 0.77600555 0.79680999 0.69556172]\n",
            "--- 6.115804195404053 seconds ---\n"
          ],
          "name": "stdout"
        }
      ]
    },
    {
      "cell_type": "code",
      "metadata": {
        "colab": {
          "base_uri": "https://localhost:8080/",
          "height": 0
        },
        "id": "TM0m1B8n_fSS",
        "outputId": "3351aa7f-4984-4776-a03a-351a611d083a"
      },
      "source": [
        "# Average training accuracy \n",
        "scores.mean()"
      ],
      "execution_count": 39,
      "outputs": [
        {
          "output_type": "execute_result",
          "data": {
            "text/plain": [
              "0.6931995101898015"
            ]
          },
          "metadata": {
            "tags": []
          },
          "execution_count": 39
        }
      ]
    },
    {
      "cell_type": "code",
      "metadata": {
        "colab": {
          "base_uri": "https://localhost:8080/",
          "height": 0
        },
        "id": "dx4tyMz5_fST",
        "outputId": "399b6934-10e9-48f4-cf71-53c101bb6158"
      },
      "source": [
        "# Predict values according to the test set given and find the accuracy\n",
        "pred_y = model.predict(test_X)\n",
        "print(accuracy_score(test_y, pred_y))"
      ],
      "execution_count": 40,
      "outputs": [
        {
          "output_type": "stream",
          "text": [
            "0.749475890985325\n"
          ],
          "name": "stdout"
        }
      ]
    },
    {
      "cell_type": "code",
      "metadata": {
        "colab": {
          "base_uri": "https://localhost:8080/",
          "height": 0
        },
        "id": "xWez13je_fST",
        "outputId": "ee12f344-f094-401e-99c8-174593acfb3d"
      },
      "source": [
        "confusion_matrix(test_y, pred_y)"
      ],
      "execution_count": 41,
      "outputs": [
        {
          "output_type": "execute_result",
          "data": {
            "text/plain": [
              "array([[1372,  441],\n",
              "       [  37,   58]])"
            ]
          },
          "metadata": {
            "tags": []
          },
          "execution_count": 41
        }
      ]
    },
    {
      "cell_type": "code",
      "metadata": {
        "colab": {
          "base_uri": "https://localhost:8080/",
          "height": 0
        },
        "id": "MzE9LwzI_fST",
        "scrolled": true,
        "outputId": "163cb0dc-4b74-49ba-ab6e-951bb4ee7931"
      },
      "source": [
        "print(classification_report(test_y, pred_y))"
      ],
      "execution_count": 42,
      "outputs": [
        {
          "output_type": "stream",
          "text": [
            "              precision    recall  f1-score   support\n",
            "\n",
            "         0.0       0.97      0.76      0.85      1813\n",
            "         1.0       0.12      0.61      0.20        95\n",
            "\n",
            "    accuracy                           0.75      1908\n",
            "   macro avg       0.54      0.68      0.52      1908\n",
            "weighted avg       0.93      0.75      0.82      1908\n",
            "\n"
          ],
          "name": "stdout"
        }
      ]
    },
    {
      "cell_type": "markdown",
      "metadata": {
        "id": "q0Cm1uR7_fSU"
      },
      "source": [
        "\n",
        "# Soft Impute with SMOTE"
      ]
    },
    {
      "cell_type": "code",
      "metadata": {
        "colab": {
          "base_uri": "https://localhost:8080/",
          "height": 0
        },
        "id": "S52AWzBJUC19",
        "outputId": "caf81e42-8cfc-472d-e599-3357141f8e37"
      },
      "source": [
        "start_time = time.time()\n",
        "clf = SoftImpute(verbose=0)\n",
        "new_df = clf.fit_transform(data_norm)\n",
        "print(\"--- %s seconds ---\" % (time.time() - start_time))"
      ],
      "execution_count": 43,
      "outputs": [
        {
          "output_type": "stream",
          "text": [
            "--- 6.40549898147583 seconds ---\n"
          ],
          "name": "stdout"
        }
      ]
    },
    {
      "cell_type": "code",
      "metadata": {
        "id": "g9Yxva2HDFPZ"
      },
      "source": [
        "y = new_df[:,-1]\n",
        "X = np.delete(new_df,-1,axis = 1)\n",
        "train_X,test_X,train_y,test_y = train_test_split(X,y,test_size=0.2)\n"
      ],
      "execution_count": 44,
      "outputs": []
    },
    {
      "cell_type": "code",
      "metadata": {
        "colab": {
          "base_uri": "https://localhost:8080/",
          "height": 418
        },
        "collapsed": true,
        "id": "-ahszDcdKo0c",
        "outputId": "1814ac87-b4a8-4d31-ddad-a777f7084fe6"
      },
      "source": [
        "#after using SMOTE\n",
        "sm = SMOTE(random_state = 2)\n",
        "train_X, train_y = sm.fit_sample(train_X, train_y.ravel())\n",
        "\n",
        "labels = ['class_0', 'class_1']\n",
        "classes = pd.DataFrame([sum(train_y == 0), sum(train_y == 1)])\n",
        "classes.plot(kind = 'bar', rot=0)\n",
        "plt.title(\"Distribution of classes\")\n",
        "plt.xticks(range(2), labels)\n",
        "plt.xlabel(\"Class\")\n",
        "plt.ylabel(\"Frequency\")\n",
        "\n",
        "g = sns.countplot(train_y)\n",
        "g.set_xticklabels(labels)\n",
        "\n",
        "print(\"After Oversampling, counts of label '1': {}\".format(sum(train_y == 1)))\n",
        "print(\"After Oversampling, counts of label '0': {}\".format(sum(train_y == 0)))"
      ],
      "execution_count": 45,
      "outputs": [
        {
          "output_type": "stream",
          "text": [
            "/usr/local/lib/python3.7/dist-packages/sklearn/utils/deprecation.py:87: FutureWarning: Function safe_indexing is deprecated; safe_indexing is deprecated in version 0.22 and will be removed in version 0.24.\n",
            "  warnings.warn(msg, category=FutureWarning)\n",
            "/usr/local/lib/python3.7/dist-packages/seaborn/_decorators.py:43: FutureWarning: Pass the following variable as a keyword arg: x. From version 0.12, the only valid positional argument will be `data`, and passing other arguments without an explicit keyword will result in an error or misinterpretation.\n",
            "  FutureWarning\n"
          ],
          "name": "stderr"
        },
        {
          "output_type": "stream",
          "text": [
            "After Oversampling, counts of label '1': 7211\n",
            "After Oversampling, counts of label '0': 7211\n"
          ],
          "name": "stdout"
        },
        {
          "output_type": "display_data",
          "data": {
            "image/png": "[encoded data removed]",
            "text/plain": [
              "<Figure size 432x288 with 1 Axes>"
            ]
          },
          "metadata": {
            "tags": [],
            "needs_background": "light"
          }
        }
      ]
    },
    {
      "cell_type": "code",
      "metadata": {
        "colab": {
          "base_uri": "https://localhost:8080/",
          "height": 0
        },
        "id": "IKI8XPQSKs4o",
        "outputId": "a676695b-a816-443b-f9f8-e1df3f00efcf"
      },
      "source": [
        "# Performing Logistic Regression on the data after balancing it\n",
        "start_time = time.time()\n",
        "model = LogisticRegression(random_state=0, max_iter=400).fit(train_X, train_y.ravel())\n",
        "scores = cross_val_score(model, train_X, train_y, cv=10)\n",
        "print('Cross-Validation Accuracy Scores', scores)\n",
        "print(\"--- %s seconds ---\" % (time.time() - start_time))"
      ],
      "execution_count": 46,
      "outputs": [
        {
          "output_type": "stream",
          "text": [
            "Cross-Validation Accuracy Scores [0.70963271 0.72210672 0.69972261 0.69486824 0.73092926 0.7184466\n",
            " 0.70873786 0.70249653 0.71151179 0.70249653]\n",
            "--- 6.828125238418579 seconds ---\n"
          ],
          "name": "stdout"
        }
      ]
    },
    {
      "cell_type": "code",
      "metadata": {
        "colab": {
          "base_uri": "https://localhost:8080/",
          "height": 0
        },
        "id": "COqdcl2FKALK",
        "outputId": "4d6b7594-3bd2-42e2-dc00-0995ec46111c"
      },
      "source": [
        "scores.mean()"
      ],
      "execution_count": 47,
      "outputs": [
        {
          "output_type": "execute_result",
          "data": {
            "text/plain": [
              "0.7100948863084786"
            ]
          },
          "metadata": {
            "tags": []
          },
          "execution_count": 47
        }
      ]
    },
    {
      "cell_type": "code",
      "metadata": {
        "colab": {
          "base_uri": "https://localhost:8080/",
          "height": 0
        },
        "id": "ZrvWLUIwKFUv",
        "outputId": "2ed0cf6d-0c6f-4da3-f0af-178d8f94cc36"
      },
      "source": [
        "pred_y = model.predict(test_X)\n",
        "print(accuracy_score(test_y, pred_y))"
      ],
      "execution_count": 48,
      "outputs": [
        {
          "output_type": "stream",
          "text": [
            "0.7410901467505241\n"
          ],
          "name": "stdout"
        }
      ]
    },
    {
      "cell_type": "code",
      "metadata": {
        "colab": {
          "base_uri": "https://localhost:8080/",
          "height": 0
        },
        "id": "giybuvQCKIju",
        "outputId": "cb48b25b-2a4e-4402-b40b-c83619ab644d"
      },
      "source": [
        "confusion_matrix(test_y, pred_y)"
      ],
      "execution_count": 49,
      "outputs": [
        {
          "output_type": "execute_result",
          "data": {
            "text/plain": [
              "array([[1356,  457],\n",
              "       [  37,   58]])"
            ]
          },
          "metadata": {
            "tags": []
          },
          "execution_count": 49
        }
      ]
    },
    {
      "cell_type": "code",
      "metadata": {
        "colab": {
          "base_uri": "https://localhost:8080/",
          "height": 0
        },
        "id": "En5ApEm5KKZp",
        "outputId": "ec28436d-f33b-446d-d00b-c45d04a1191e"
      },
      "source": [
        "print(classification_report(test_y, pred_y))"
      ],
      "execution_count": 50,
      "outputs": [
        {
          "output_type": "stream",
          "text": [
            "              precision    recall  f1-score   support\n",
            "\n",
            "         0.0       0.97      0.75      0.85      1813\n",
            "         1.0       0.11      0.61      0.19        95\n",
            "\n",
            "    accuracy                           0.74      1908\n",
            "   macro avg       0.54      0.68      0.52      1908\n",
            "weighted avg       0.93      0.74      0.81      1908\n",
            "\n"
          ],
          "name": "stdout"
        }
      ]
    },
    {
      "cell_type": "markdown",
      "metadata": {
        "id": "KONn4MvL_fSW"
      },
      "source": [
        "# Soft Impute with Near Miss"
      ]
    },
    {
      "cell_type": "code",
      "metadata": {
        "colab": {
          "base_uri": "https://localhost:8080/",
          "height": 486
        },
        "id": "ZhV2loyoctw7",
        "scrolled": true,
        "outputId": "efa2e1d8-af6f-4ede-a4e6-1811565dca6d"
      },
      "source": [
        "nm = NearMiss()\n",
        "train_X, train_y = nm.fit_sample(train_X, train_y.ravel())\n",
        "\n",
        "labels = ['class_0', 'class_1']\n",
        "classes = pd.DataFrame([sum(train_y == 0), sum(train_y == 1)])\n",
        "classes.plot(kind = 'bar', rot=0)\n",
        "plt.title(\"Distribution of classes\")\n",
        "plt.xticks(range(2), labels)\n",
        "plt.xlabel(\"Class\")\n",
        "plt.ylabel(\"Frequency\")\n",
        "\n",
        "g = sns.countplot(train_y)\n",
        "g.set_xticklabels(labels)\n",
        "\n",
        "print(\"After Undersampling, counts of label '1': {}\".format(sum(train_y == 1)))\n",
        "print(\"After Undersampling, counts of label '0': {}\".format(sum(train_y == 0)))"
      ],
      "execution_count": 51,
      "outputs": [
        {
          "output_type": "stream",
          "text": [
            "/usr/local/lib/python3.7/dist-packages/sklearn/utils/deprecation.py:87: FutureWarning: Function safe_indexing is deprecated; safe_indexing is deprecated in version 0.22 and will be removed in version 0.24.\n",
            "  warnings.warn(msg, category=FutureWarning)\n",
            "/usr/local/lib/python3.7/dist-packages/sklearn/utils/deprecation.py:87: FutureWarning: Function safe_indexing is deprecated; safe_indexing is deprecated in version 0.22 and will be removed in version 0.24.\n",
            "  warnings.warn(msg, category=FutureWarning)\n",
            "/usr/local/lib/python3.7/dist-packages/sklearn/utils/deprecation.py:87: FutureWarning: Function safe_indexing is deprecated; safe_indexing is deprecated in version 0.22 and will be removed in version 0.24.\n",
            "  warnings.warn(msg, category=FutureWarning)\n",
            "/usr/local/lib/python3.7/dist-packages/seaborn/_decorators.py:43: FutureWarning: Pass the following variable as a keyword arg: x. From version 0.12, the only valid positional argument will be `data`, and passing other arguments without an explicit keyword will result in an error or misinterpretation.\n",
            "  FutureWarning\n"
          ],
          "name": "stderr"
        },
        {
          "output_type": "stream",
          "text": [
            "After Undersampling, counts of label '1': 7211\n",
            "After Undersampling, counts of label '0': 7211\n"
          ],
          "name": "stdout"
        },
        {
          "output_type": "display_data",
          "data": {
            "image/png": "[encoded data removed]",
            "text/plain": [
              "<Figure size 432x288 with 1 Axes>"
            ]
          },
          "metadata": {
            "tags": [],
            "needs_background": "light"
          }
        }
      ]
    },
    {
      "cell_type": "code",
      "metadata": {
        "colab": {
          "base_uri": "https://localhost:8080/",
          "height": 0
        },
        "id": "NuybMnj-LIq3",
        "outputId": "26ca34dc-9612-480b-8578-84f2e10038ad"
      },
      "source": [
        "# Performing Logistic Regression on the data after imputation and balancing\n",
        "start_time = time.time()\n",
        "model = LogisticRegression(random_state=0, max_iter=400).fit(train_X, train_y.ravel())\n",
        "scores = cross_val_score(model, train_X, train_y, cv=10)\n",
        "print('Cross-Validation Accuracy Scores', scores)\n",
        "print(\"--- %s seconds ---\" % (time.time() - start_time))"
      ],
      "execution_count": 52,
      "outputs": [
        {
          "output_type": "stream",
          "text": [
            "Cross-Validation Accuracy Scores [0.46431046 0.5959806  0.64008322 0.69556172 0.72676838 0.72676838\n",
            " 0.74895978 0.79056865 0.78294036 0.66366158]\n",
            "--- 6.876060724258423 seconds ---\n"
          ],
          "name": "stdout"
        }
      ]
    },
    {
      "cell_type": "code",
      "metadata": {
        "colab": {
          "base_uri": "https://localhost:8080/",
          "height": 0
        },
        "id": "rlO61eUAKbDI",
        "outputId": "dae5abe8-e601-479e-c6f7-3a7fd153956d"
      },
      "source": [
        "# Average training accuracy \n",
        "scores.mean()"
      ],
      "execution_count": 53,
      "outputs": [
        {
          "output_type": "execute_result",
          "data": {
            "text/plain": [
              "0.6835603126865263"
            ]
          },
          "metadata": {
            "tags": []
          },
          "execution_count": 53
        }
      ]
    },
    {
      "cell_type": "code",
      "metadata": {
        "colab": {
          "base_uri": "https://localhost:8080/",
          "height": 0
        },
        "id": "yj6dY63GKdLN",
        "outputId": "83e43a0a-bf83-4018-c52e-5252bfaaa600"
      },
      "source": [
        "# Predict values according to the test set given and find the accuracy\n",
        "pred_y = model.predict(test_X)\n",
        "print(accuracy_score(test_y, pred_y))"
      ],
      "execution_count": 54,
      "outputs": [
        {
          "output_type": "stream",
          "text": [
            "0.7410901467505241\n"
          ],
          "name": "stdout"
        }
      ]
    },
    {
      "cell_type": "code",
      "metadata": {
        "colab": {
          "base_uri": "https://localhost:8080/",
          "height": 0
        },
        "id": "9alJ6wMlKh64",
        "outputId": "c5f14ffa-a7ca-4cef-9c21-cd678a93998c"
      },
      "source": [
        "confusion_matrix(test_y, pred_y)"
      ],
      "execution_count": 55,
      "outputs": [
        {
          "output_type": "execute_result",
          "data": {
            "text/plain": [
              "array([[1356,  457],\n",
              "       [  37,   58]])"
            ]
          },
          "metadata": {
            "tags": []
          },
          "execution_count": 55
        }
      ]
    },
    {
      "cell_type": "code",
      "metadata": {
        "colab": {
          "base_uri": "https://localhost:8080/",
          "height": 0
        },
        "id": "aeSdnWMwKjmt",
        "outputId": "97f53602-c577-4b6d-e568-81f659d255d1"
      },
      "source": [
        "print(classification_report(test_y, pred_y))"
      ],
      "execution_count": 56,
      "outputs": [
        {
          "output_type": "stream",
          "text": [
            "              precision    recall  f1-score   support\n",
            "\n",
            "         0.0       0.97      0.75      0.85      1813\n",
            "         1.0       0.11      0.61      0.19        95\n",
            "\n",
            "    accuracy                           0.74      1908\n",
            "   macro avg       0.54      0.68      0.52      1908\n",
            "weighted avg       0.93      0.74      0.81      1908\n",
            "\n"
          ],
          "name": "stdout"
        }
      ]
    },
    {
      "cell_type": "markdown",
      "metadata": {
        "id": "pGEi0_O8_fSY"
      },
      "source": [
        "# Iterative Imputation with NearMiss "
      ]
    },
    {
      "cell_type": "code",
      "metadata": {
        "colab": {
          "base_uri": "https://localhost:8080/",
          "height": 0
        },
        "id": "XYNnz0Zw_fSY",
        "outputId": "83c5b90d-9dad-4229-c771-ae6a668c88b0"
      },
      "source": [
        "# Applying Iterative Imputation in order to solve the missing values problem\n",
        "start_time = time.time()\n",
        "imp = IterativeImputer(max_iter=10, sample_posterior=True, n_nearest_features=10,  \n",
        "                       imputation_order='descending', verbose=0)\n",
        "iterativeDf = pd.DataFrame(imp.fit_transform(data_norm), columns=data_norm.columns)\n",
        "print(\"--- %s seconds ---\" % (time.time() - start_time))"
      ],
      "execution_count": 57,
      "outputs": [
        {
          "output_type": "stream",
          "text": [
            "--- 9.97446060180664 seconds ---\n"
          ],
          "name": "stdout"
        }
      ]
    },
    {
      "cell_type": "code",
      "metadata": {
        "colab": {
          "base_uri": "https://localhost:8080/",
          "height": 0
        },
        "id": "P_rBai9e_fSZ",
        "outputId": "2601403b-0df6-402c-9b73-9256b74d8312"
      },
      "source": [
        "# Check if any null values exist\n",
        "d = iterativeDf.isna().sum()\n",
        "d.sort_values(ascending=False)"
      ],
      "execution_count": 58,
      "outputs": [
        {
          "output_type": "execute_result",
          "data": {
            "text/plain": [
              "class     0\n",
              "Attr32    0\n",
              "Attr30    0\n",
              "Attr29    0\n",
              "Attr28    0\n",
              "         ..\n",
              "Attr38    0\n",
              "Attr37    0\n",
              "Attr36    0\n",
              "Attr35    0\n",
              "Attr1     0\n",
              "Length: 65, dtype: int64"
            ]
          },
          "metadata": {
            "tags": []
          },
          "execution_count": 58
        }
      ]
    },
    {
      "cell_type": "code",
      "metadata": {
        "colab": {
          "base_uri": "https://localhost:8080/",
          "height": 0
        },
        "id": "lKo1s185_fSb",
        "outputId": "47e40fe1-09fd-44ff-b528-8a9228fd6e42"
      },
      "source": [
        "# Splitting the dataset for training and validation\n",
        "X = iterativeDf.loc[:, iterativeDf.columns != 'class'].to_numpy()\n",
        "y = iterativeDf['class'].to_numpy().reshape(-1, 1)\n",
        "train_X, test_X, train_y, test_y = train_test_split(X,y,test_size=0.2)\n",
        "print(train_X.shape)\n",
        "print(test_X.shape)\n",
        "print(train_y.shape)\n",
        "print(test_y.shape)"
      ],
      "execution_count": 59,
      "outputs": [
        {
          "output_type": "stream",
          "text": [
            "(7631, 64)\n",
            "(1908, 64)\n",
            "(7631, 1)\n",
            "(1908, 1)\n"
          ],
          "name": "stdout"
        }
      ]
    },
    {
      "cell_type": "code",
      "metadata": {
        "colab": {
          "base_uri": "https://localhost:8080/",
          "height": 486
        },
        "id": "CnI8eyK2_fSc",
        "outputId": "5c5622e5-1305-43c2-8542-a718c210b053"
      },
      "source": [
        "# Performing NearMiss on the dataset to address the problem of imbalanced data\n",
        "nm = NearMiss()\n",
        "train_X, train_y = nm.fit_sample(train_X, train_y.ravel())\n",
        "\n",
        "labels = ['class_0', 'class_1']\n",
        "classes = pd.DataFrame([sum(train_y == 0), sum(train_y == 1)])\n",
        "classes.plot(kind = 'bar', rot=0)\n",
        "plt.title(\"Distribution of classes\")\n",
        "plt.xticks(range(2), labels)\n",
        "plt.xlabel(\"Class\")\n",
        "plt.ylabel(\"Frequency\")\n",
        "\n",
        "g = sns.countplot(train_y)\n",
        "g.set_xticklabels(labels)\n",
        "\n",
        "print(\"After Undersampling, counts of label '1': {}\".format(sum(train_y == 1)))\n",
        "print(\"After Undersampling, counts of label '0': {}\".format(sum(train_y == 0)))"
      ],
      "execution_count": 60,
      "outputs": [
        {
          "output_type": "stream",
          "text": [
            "/usr/local/lib/python3.7/dist-packages/sklearn/utils/deprecation.py:87: FutureWarning: Function safe_indexing is deprecated; safe_indexing is deprecated in version 0.22 and will be removed in version 0.24.\n",
            "  warnings.warn(msg, category=FutureWarning)\n",
            "/usr/local/lib/python3.7/dist-packages/sklearn/utils/deprecation.py:87: FutureWarning: Function safe_indexing is deprecated; safe_indexing is deprecated in version 0.22 and will be removed in version 0.24.\n",
            "  warnings.warn(msg, category=FutureWarning)\n"
          ],
          "name": "stderr"
        },
        {
          "output_type": "stream",
          "text": [
            "After Undersampling, counts of label '1': 401\n",
            "After Undersampling, counts of label '0': 401\n"
          ],
          "name": "stdout"
        },
        {
          "output_type": "stream",
          "text": [
            "/usr/local/lib/python3.7/dist-packages/sklearn/utils/deprecation.py:87: FutureWarning: Function safe_indexing is deprecated; safe_indexing is deprecated in version 0.22 and will be removed in version 0.24.\n",
            "  warnings.warn(msg, category=FutureWarning)\n",
            "/usr/local/lib/python3.7/dist-packages/seaborn/_decorators.py:43: FutureWarning: Pass the following variable as a keyword arg: x. From version 0.12, the only valid positional argument will be `data`, and passing other arguments without an explicit keyword will result in an error or misinterpretation.\n",
            "  FutureWarning\n"
          ],
          "name": "stderr"
        },
        {
          "output_type": "display_data",
          "data": {
            "image/png": "[encoded data removed]",
            "text/plain": [
              "<Figure size 432x288 with 1 Axes>"
            ]
          },
          "metadata": {
            "tags": [],
            "needs_background": "light"
          }
        }
      ]
    },
    {
      "cell_type": "code",
      "metadata": {
        "colab": {
          "base_uri": "https://localhost:8080/",
          "height": 0
        },
        "id": "gN4Grcva_fSc",
        "outputId": "0f79b28d-391a-49af-dc91-0c5970eb1f1a"
      },
      "source": [
        "# Performing Logistic Regression on the data after imputation and balancing\n",
        "start_time = time.time()\n",
        "model = LogisticRegression(random_state=0, max_iter=400).fit(train_X, train_y.ravel())\n",
        "scores = cross_val_score(model, train_X, train_y, cv=10)\n",
        "print('Cross-Validation Accuracy Scores', scores)\n",
        "print(\"--- %s seconds ---\" % (time.time() - start_time))"
      ],
      "execution_count": 61,
      "outputs": [
        {
          "output_type": "stream",
          "text": [
            "Cross-Validation Accuracy Scores [0.77777778 0.77777778 0.8125     0.825      0.725      0.775\n",
            " 0.75       0.8        0.8375     0.7875    ]\n",
            "--- 0.32695555686950684 seconds ---\n"
          ],
          "name": "stdout"
        }
      ]
    },
    {
      "cell_type": "code",
      "metadata": {
        "colab": {
          "base_uri": "https://localhost:8080/",
          "height": 0
        },
        "id": "Ko4BCYAI_fSd",
        "outputId": "31f85213-95eb-4bfd-daf7-c1f5319ae9f9"
      },
      "source": [
        "scores.mean()"
      ],
      "execution_count": 62,
      "outputs": [
        {
          "output_type": "execute_result",
          "data": {
            "text/plain": [
              "0.7868055555555555"
            ]
          },
          "metadata": {
            "tags": []
          },
          "execution_count": 62
        }
      ]
    },
    {
      "cell_type": "code",
      "metadata": {
        "colab": {
          "base_uri": "https://localhost:8080/",
          "height": 0
        },
        "id": "y0kladbR_fSe",
        "outputId": "84240700-2940-4e85-cf89-e4c0c996a5e3"
      },
      "source": [
        "# Predict values according to the test set given and find the accuracy\n",
        "pred_y = model.predict(test_X)\n",
        "print(accuracy_score(test_y, pred_y))"
      ],
      "execution_count": 63,
      "outputs": [
        {
          "output_type": "stream",
          "text": [
            "0.6834381551362684\n"
          ],
          "name": "stdout"
        }
      ]
    },
    {
      "cell_type": "code",
      "metadata": {
        "colab": {
          "base_uri": "https://localhost:8080/",
          "height": 0
        },
        "id": "tOx7olLR_fSe",
        "outputId": "34fca638-9f51-4d61-bab5-07533e6f8726"
      },
      "source": [
        "confusion_matrix(test_y, pred_y)"
      ],
      "execution_count": 64,
      "outputs": [
        {
          "output_type": "execute_result",
          "data": {
            "text/plain": [
              "array([[1242,  552],\n",
              "       [  52,   62]])"
            ]
          },
          "metadata": {
            "tags": []
          },
          "execution_count": 64
        }
      ]
    },
    {
      "cell_type": "code",
      "metadata": {
        "colab": {
          "base_uri": "https://localhost:8080/",
          "height": 0
        },
        "id": "XKX4RdQk_fSf",
        "outputId": "913955ba-52a1-46b5-9c11-25e16cf4f423"
      },
      "source": [
        "print(classification_report(test_y, pred_y))"
      ],
      "execution_count": 65,
      "outputs": [
        {
          "output_type": "stream",
          "text": [
            "              precision    recall  f1-score   support\n",
            "\n",
            "         0.0       0.96      0.69      0.80      1794\n",
            "         1.0       0.10      0.54      0.17       114\n",
            "\n",
            "    accuracy                           0.68      1908\n",
            "   macro avg       0.53      0.62      0.49      1908\n",
            "weighted avg       0.91      0.68      0.77      1908\n",
            "\n"
          ],
          "name": "stdout"
        }
      ]
    },
    {
      "cell_type": "markdown",
      "metadata": {
        "id": "sBWMS5CB_fSf"
      },
      "source": [
        "# Iterative Imputation with SMOTE"
      ]
    },
    {
      "cell_type": "code",
      "metadata": {
        "id": "fAB9_Kvz_fSf"
      },
      "source": [
        "# Splitting the dataset for training and validation\n",
        "\n",
        "X = iterativeDf.loc[:, iterativeDf.columns != 'class'].to_numpy()\n",
        "y = iterativeDf['class'].to_numpy().reshape(-1, 1)\n",
        "train_X, test_X, train_y, test_y = train_test_split(X,y,test_size=0.2)\n"
      ],
      "execution_count": 66,
      "outputs": []
    },
    {
      "cell_type": "code",
      "metadata": {
        "colab": {
          "base_uri": "https://localhost:8080/",
          "height": 418
        },
        "id": "ETHhBdBk_fSg",
        "outputId": "484bcbdf-31e8-49ef-e3cf-15a33579294c"
      },
      "source": [
        "# Performing SMOTE on the dataset to address the problem of imbalanced data\n",
        "sm = SMOTE(random_state = 2)\n",
        "train_X, train_y = sm.fit_sample(train_X, train_y.ravel())\n",
        "\n",
        "labels = ['class_0', 'class_1']\n",
        "classes = pd.DataFrame([sum(train_y == 0), sum(train_y == 1)])\n",
        "classes.plot(kind = 'bar', rot=0)\n",
        "plt.title(\"Distribution of classes\")\n",
        "plt.xticks(range(2), labels)\n",
        "plt.xlabel(\"Class\")\n",
        "plt.ylabel(\"Frequency\")\n",
        "\n",
        "g = sns.countplot(train_y)\n",
        "g.set_xticklabels(labels)\n",
        "\n",
        "print(\"After Oversampling, counts of label '1': {}\".format(sum(train_y == 1)))\n",
        "print(\"After Oversampling, counts of label '0': {}\".format(sum(train_y == 0)))"
      ],
      "execution_count": 67,
      "outputs": [
        {
          "output_type": "stream",
          "text": [
            "/usr/local/lib/python3.7/dist-packages/sklearn/utils/deprecation.py:87: FutureWarning: Function safe_indexing is deprecated; safe_indexing is deprecated in version 0.22 and will be removed in version 0.24.\n",
            "  warnings.warn(msg, category=FutureWarning)\n",
            "/usr/local/lib/python3.7/dist-packages/seaborn/_decorators.py:43: FutureWarning: Pass the following variable as a keyword arg: x. From version 0.12, the only valid positional argument will be `data`, and passing other arguments without an explicit keyword will result in an error or misinterpretation.\n",
            "  FutureWarning\n"
          ],
          "name": "stderr"
        },
        {
          "output_type": "stream",
          "text": [
            "After Oversampling, counts of label '1': 7236\n",
            "After Oversampling, counts of label '0': 7236\n"
          ],
          "name": "stdout"
        },
        {
          "output_type": "display_data",
          "data": {
            "image/png": "[encoded data removed]",
            "text/plain": [
              "<Figure size 432x288 with 1 Axes>"
            ]
          },
          "metadata": {
            "tags": [],
            "needs_background": "light"
          }
        }
      ]
    },
    {
      "cell_type": "code",
      "metadata": {
        "colab": {
          "base_uri": "https://localhost:8080/",
          "height": 0
        },
        "id": "mw7jBkir_fSg",
        "outputId": "9eddb2db-3c36-48b9-80a5-2818d89ac522"
      },
      "source": [
        "# Performing Logistic Regression on the data after balancing it\n",
        "start_time = time.time()\n",
        "model = LogisticRegression(random_state=0, max_iter=400).fit(train_X, train_y.ravel())\n",
        "scores = cross_val_score(model, train_X, train_y, cv=10)\n",
        "print('Cross-Validation Accuracy Scores', scores)\n",
        "print(\"--- %s seconds ---\" % (time.time() - start_time))"
      ],
      "execution_count": 68,
      "outputs": [
        {
          "output_type": "stream",
          "text": [
            "Cross-Validation Accuracy Scores [0.72582873 0.74309392 0.7373877  0.74360746 0.74153421 0.70283345\n",
            " 0.72149274 0.74568072 0.74429855 0.76641327]\n",
            "--- 8.114916563034058 seconds ---\n"
          ],
          "name": "stdout"
        }
      ]
    },
    {
      "cell_type": "code",
      "metadata": {
        "colab": {
          "base_uri": "https://localhost:8080/",
          "height": 0
        },
        "id": "dJD1zY34_fSh",
        "outputId": "7ca9dd04-77cc-4903-e775-4451aebbb0a2"
      },
      "source": [
        "scores.mean()"
      ],
      "execution_count": 69,
      "outputs": [
        {
          "output_type": "execute_result",
          "data": {
            "text/plain": [
              "0.7372170751449942"
            ]
          },
          "metadata": {
            "tags": []
          },
          "execution_count": 69
        }
      ]
    },
    {
      "cell_type": "code",
      "metadata": {
        "colab": {
          "base_uri": "https://localhost:8080/",
          "height": 0
        },
        "id": "wLNf_Zoh_fSh",
        "outputId": "b7de8151-3af6-49ad-b297-2d01f27a144b"
      },
      "source": [
        "# Predict values according to the test set given and find the accuracy\n",
        "pred_y = model.predict(test_X)\n",
        "print(accuracy_score(test_y, pred_y))"
      ],
      "execution_count": 70,
      "outputs": [
        {
          "output_type": "stream",
          "text": [
            "0.7348008385744235\n"
          ],
          "name": "stdout"
        }
      ]
    },
    {
      "cell_type": "code",
      "metadata": {
        "colab": {
          "base_uri": "https://localhost:8080/",
          "height": 0
        },
        "id": "bheuzcfN_fSi",
        "outputId": "a83016a1-9b5e-40df-d165-da271c0fb957"
      },
      "source": [
        "confusion_matrix(test_y, pred_y)"
      ],
      "execution_count": 71,
      "outputs": [
        {
          "output_type": "execute_result",
          "data": {
            "text/plain": [
              "array([[1334,  454],\n",
              "       [  52,   68]])"
            ]
          },
          "metadata": {
            "tags": []
          },
          "execution_count": 71
        }
      ]
    },
    {
      "cell_type": "code",
      "metadata": {
        "colab": {
          "base_uri": "https://localhost:8080/",
          "height": 0
        },
        "id": "dxrors5J_fSi",
        "scrolled": true,
        "outputId": "82dc37dd-ec76-4e31-eebd-5b374a18e29f"
      },
      "source": [
        "print(classification_report(test_y, pred_y))"
      ],
      "execution_count": 72,
      "outputs": [
        {
          "output_type": "stream",
          "text": [
            "              precision    recall  f1-score   support\n",
            "\n",
            "         0.0       0.96      0.75      0.84      1788\n",
            "         1.0       0.13      0.57      0.21       120\n",
            "\n",
            "    accuracy                           0.73      1908\n",
            "   macro avg       0.55      0.66      0.53      1908\n",
            "weighted avg       0.91      0.73      0.80      1908\n",
            "\n"
          ],
          "name": "stdout"
        }
      ]
    },
    {
      "cell_type": "markdown",
      "metadata": {
        "id": "US_lJbiV_fSj"
      },
      "source": [
        "# Feature Selection"
      ]
    },
    {
      "cell_type": "code",
      "metadata": {
        "colab": {
          "base_uri": "https://localhost:8080/",
          "height": 563
        },
        "id": "DJf5yx1t_fSj",
        "outputId": "82770731-349a-4988-ef98-bc440bf3d4bb"
      },
      "source": [
        "# Visualization of the correlation among all the attributes. There exists multicollinearity in the dataset.\n",
        "correlation_matrix = data_norm.corr()\n",
        "fig = plt.figure(figsize=(12,9))\n",
        "sns.heatmap(correlation_matrix,vmax=0.8,square = True)\n",
        "plt.show()"
      ],
      "execution_count": 73,
      "outputs": [
        {
          "output_type": "display_data",
          "data": {
            "image/png": "[encoded data removed]",
            "text/plain": [
              "<Figure size 864x648 with 2 Axes>"
            ]
          },
          "metadata": {
            "tags": [],
            "needs_background": "light"
          }
        }
      ]
    },
    {
      "cell_type": "markdown",
      "metadata": {
        "id": "S0_9Q0oJblzg"
      },
      "source": [
        "## KNN Imputation with SMOTE"
      ]
    },
    {
      "cell_type": "markdown",
      "metadata": {
        "id": "aOYei43Xblzy"
      },
      "source": [
        "### SelectKBest()"
      ]
    },
    {
      "cell_type": "code",
      "metadata": {
        "id": "Lnl5ilYoblzy"
      },
      "source": [
        "# Feature Selection using SelectKBest()\n",
        "X = knnImputedDf.iloc[:,:-1]\n",
        "y = knnImputedDf.iloc[:,-1]\n",
        "train_X, test_X, train_y, test_y = train_test_split(X,y,test_size=0.2)\n",
        "test = SelectKBest(score_func=f_classif, k=8)\n",
        "fit = test.fit(train_X, train_y.ravel())"
      ],
      "execution_count": 74,
      "outputs": []
    },
    {
      "cell_type": "code",
      "metadata": {
        "id": "obGK7ZAIblzz",
        "colab": {
          "base_uri": "https://localhost:8080/",
          "height": 0
        },
        "outputId": "b742b4d3-e511-4906-bf96-36e5415b2749"
      },
      "source": [
        "# Performing SMOTE on the dataset to address the problem of imbalanced data\n",
        "sm = SMOTE(random_state = 0)\n",
        "train_X, train_y = sm.fit_sample(train_X, train_y.ravel())"
      ],
      "execution_count": 75,
      "outputs": [
        {
          "output_type": "stream",
          "text": [
            "/usr/local/lib/python3.7/dist-packages/sklearn/utils/deprecation.py:87: FutureWarning: Function safe_indexing is deprecated; safe_indexing is deprecated in version 0.22 and will be removed in version 0.24.\n",
            "  warnings.warn(msg, category=FutureWarning)\n"
          ],
          "name": "stderr"
        }
      ]
    },
    {
      "cell_type": "code",
      "metadata": {
        "id": "zScpVbx1blzz",
        "colab": {
          "base_uri": "https://localhost:8080/",
          "height": 0
        },
        "outputId": "d4751ec5-bf84-475d-ed80-0946d6376f6c"
      },
      "source": [
        "# Performing Logistic Regression on the dataset \n",
        "start_time = time.time()\n",
        "model = LogisticRegression(random_state=0, max_iter=400).fit(train_X, train_y.ravel())\n",
        "#print(model.score(test_X, test_y))\n",
        "print(\"--- %s seconds ---\" % (time.time() - start_time))"
      ],
      "execution_count": 76,
      "outputs": [
        {
          "output_type": "stream",
          "text": [
            "--- 0.6935746669769287 seconds ---\n"
          ],
          "name": "stdout"
        }
      ]
    },
    {
      "cell_type": "code",
      "metadata": {
        "id": "Jc2c3hfbblzz",
        "colab": {
          "base_uri": "https://localhost:8080/",
          "height": 0
        },
        "outputId": "d4fe0a11-00ab-4c23-e01d-05671c70d8f6"
      },
      "source": [
        "scores = cross_val_score(model, train_X, train_y, cv=10)\n",
        "print('Cross-Validation Accuracy Scores', scores)"
      ],
      "execution_count": 77,
      "outputs": [
        {
          "output_type": "stream",
          "text": [
            "Cross-Validation Accuracy Scores [0.71487889 0.73564014 0.69757785 0.72110727 0.70290859 0.74168975\n",
            " 0.70637119 0.72853186 0.70844875 0.7132964 ]\n"
          ],
          "name": "stdout"
        }
      ]
    },
    {
      "cell_type": "code",
      "metadata": {
        "id": "F1VrexDkblz0",
        "colab": {
          "base_uri": "https://localhost:8080/",
          "height": 0
        },
        "outputId": "6314e314-51ff-411a-bce3-db493941eb86"
      },
      "source": [
        "scores.mean()"
      ],
      "execution_count": 78,
      "outputs": [
        {
          "output_type": "execute_result",
          "data": {
            "text/plain": [
              "0.7170450689645257"
            ]
          },
          "metadata": {
            "tags": []
          },
          "execution_count": 78
        }
      ]
    },
    {
      "cell_type": "code",
      "metadata": {
        "id": "kvevJi2eblz1",
        "colab": {
          "base_uri": "https://localhost:8080/",
          "height": 0
        },
        "outputId": "5af57102-2d5f-4649-c289-82350d2d17cb"
      },
      "source": [
        "pred_y = model.predict(test_X)\n",
        "print(accuracy_score(test_y, pred_y))\n",
        "print(confusion_matrix(test_y, pred_y))\n",
        "print(classification_report(test_y, pred_y))"
      ],
      "execution_count": 79,
      "outputs": [
        {
          "output_type": "stream",
          "text": [
            "0.7269392033542977\n",
            "[[1323  479]\n",
            " [  42   64]]\n",
            "              precision    recall  f1-score   support\n",
            "\n",
            "         0.0       0.97      0.73      0.84      1802\n",
            "         1.0       0.12      0.60      0.20       106\n",
            "\n",
            "    accuracy                           0.73      1908\n",
            "   macro avg       0.54      0.67      0.52      1908\n",
            "weighted avg       0.92      0.73      0.80      1908\n",
            "\n"
          ],
          "name": "stdout"
        }
      ]
    },
    {
      "cell_type": "code",
      "metadata": {
        "id": "j6O4TMiBblz2",
        "colab": {
          "base_uri": "https://localhost:8080/",
          "height": 204
        },
        "outputId": "c5fde7ff-5df5-41bb-89f9-8c489e3ed7e1"
      },
      "source": [
        "mask = fit.get_support(indices=True)\n",
        "data_new = data.iloc[:,mask]\n",
        "data_new.head()"
      ],
      "execution_count": 80,
      "outputs": [
        {
          "output_type": "execute_result",
          "data": {
            "text/html": [
              "<div>\n",
              "<style scoped>\n",
              "    .dataframe tbody tr th:only-of-type {\n",
              "        vertical-align: middle;\n",
              "    }\n",
              "\n",
              "    .dataframe tbody tr th {\n",
              "        vertical-align: top;\n",
              "    }\n",
              "\n",
              "    .dataframe thead th {\n",
              "        text-align: right;\n",
              "    }\n",
              "</style>\n",
              "<table border=\"1\" class=\"dataframe\">\n",
              "  <thead>\n",
              "    <tr style=\"text-align: right;\">\n",
              "      <th></th>\n",
              "      <th>Attr1</th>\n",
              "      <th>Attr2</th>\n",
              "      <th>Attr3</th>\n",
              "      <th>Attr10</th>\n",
              "      <th>Attr25</th>\n",
              "      <th>Attr35</th>\n",
              "      <th>Attr38</th>\n",
              "      <th>Attr51</th>\n",
              "    </tr>\n",
              "  </thead>\n",
              "  <tbody>\n",
              "    <tr>\n",
              "      <th>0</th>\n",
              "      <td>0.096557</td>\n",
              "      <td>0.13718</td>\n",
              "      <td>0.8528</td>\n",
              "      <td>0.86282</td>\n",
              "      <td>0.80007</td>\n",
              "      <td>0.00697</td>\n",
              "      <td>0.86282</td>\n",
              "      <td>0.13718</td>\n",
              "    </tr>\n",
              "    <tr>\n",
              "      <th>1</th>\n",
              "      <td>0.30458</td>\n",
              "      <td>0.13686</td>\n",
              "      <td>0.75567</td>\n",
              "      <td>0.86314</td>\n",
              "      <td>0.80077</td>\n",
              "      <td>0.37179</td>\n",
              "      <td>0.86314</td>\n",
              "      <td>0.13261</td>\n",
              "    </tr>\n",
              "    <tr>\n",
              "      <th>2</th>\n",
              "      <td>0.13495</td>\n",
              "      <td>0.16866</td>\n",
              "      <td>0.71295</td>\n",
              "      <td>0.83134</td>\n",
              "      <td>0.55143</td>\n",
              "      <td>0.15185</td>\n",
              "      <td>0.83134</td>\n",
              "      <td>0.16866</td>\n",
              "    </tr>\n",
              "    <tr>\n",
              "      <th>3</th>\n",
              "      <td>0.26775</td>\n",
              "      <td>0.11341</td>\n",
              "      <td>0.78931</td>\n",
              "      <td>0.88659</td>\n",
              "      <td>0.62958</td>\n",
              "      <td>0.33267</td>\n",
              "      <td>0.88659</td>\n",
              "      <td>0.11211</td>\n",
              "    </tr>\n",
              "    <tr>\n",
              "      <th>4</th>\n",
              "      <td>0.046283</td>\n",
              "      <td>0.094199</td>\n",
              "      <td>0.47172</td>\n",
              "      <td>0.9058</td>\n",
              "      <td>0.86719</td>\n",
              "      <td>0.034208</td>\n",
              "      <td>0.9058</td>\n",
              "      <td>0.070806</td>\n",
              "    </tr>\n",
              "  </tbody>\n",
              "</table>\n",
              "</div>"
            ],
            "text/plain": [
              "      Attr1     Attr2    Attr3   Attr10   Attr25    Attr35   Attr38    Attr51\n",
              "0  0.096557   0.13718   0.8528  0.86282  0.80007   0.00697  0.86282   0.13718\n",
              "1   0.30458   0.13686  0.75567  0.86314  0.80077   0.37179  0.86314   0.13261\n",
              "2   0.13495   0.16866  0.71295  0.83134  0.55143   0.15185  0.83134   0.16866\n",
              "3   0.26775   0.11341  0.78931  0.88659  0.62958   0.33267  0.88659   0.11211\n",
              "4  0.046283  0.094199  0.47172   0.9058  0.86719  0.034208   0.9058  0.070806"
            ]
          },
          "metadata": {
            "tags": []
          },
          "execution_count": 80
        }
      ]
    },
    {
      "cell_type": "markdown",
      "metadata": {
        "id": "YfpixCuEblz4"
      },
      "source": [
        "### RFE"
      ]
    },
    {
      "cell_type": "code",
      "metadata": {
        "id": "z9i0jGjkblz5"
      },
      "source": [
        "# Feature Selection using RFE()\n",
        "model = LogisticRegression(random_state=0, max_iter=400)\n",
        "X = knnImputedDf.iloc[:,:-1]\n",
        "y = knnImputedDf.iloc[:,-1]\n",
        "train_X, test_X, train_y, test_y = train_test_split(X,y,test_size=0.2)\n",
        "test = RFE(model, 10)\n",
        "fit = test.fit(train_X, train_y.ravel())"
      ],
      "execution_count": 81,
      "outputs": []
    },
    {
      "cell_type": "code",
      "metadata": {
        "id": "jGwdZ8sSblz6",
        "colab": {
          "base_uri": "https://localhost:8080/",
          "height": 0
        },
        "outputId": "3ed9feff-ed5c-4d27-943d-afce1f6e70db"
      },
      "source": [
        "# Performing SMOTE on the dataset to address the problem of imbalanced data\n",
        "sm = SMOTE(random_state = 0)\n",
        "train_X, train_y = sm.fit_sample(train_X, train_y.ravel())"
      ],
      "execution_count": 82,
      "outputs": [
        {
          "output_type": "stream",
          "text": [
            "/usr/local/lib/python3.7/dist-packages/sklearn/utils/deprecation.py:87: FutureWarning: Function safe_indexing is deprecated; safe_indexing is deprecated in version 0.22 and will be removed in version 0.24.\n",
            "  warnings.warn(msg, category=FutureWarning)\n"
          ],
          "name": "stderr"
        }
      ]
    },
    {
      "cell_type": "code",
      "metadata": {
        "id": "62GRhaPOblz-",
        "colab": {
          "base_uri": "https://localhost:8080/",
          "height": 0
        },
        "outputId": "844c5395-040d-4ef4-9b14-371163715933"
      },
      "source": [
        "# Performing Logistic Regression on the dataset \n",
        "start_time = time.time()\n",
        "model = LogisticRegression(random_state=0, max_iter=400).fit(train_X, train_y.ravel())\n",
        "#print(model.score(test_X, test_y))\n",
        "print(\"--- %s seconds ---\" % (time.time() - start_time))"
      ],
      "execution_count": 83,
      "outputs": [
        {
          "output_type": "stream",
          "text": [
            "--- 0.827324390411377 seconds ---\n"
          ],
          "name": "stdout"
        }
      ]
    },
    {
      "cell_type": "code",
      "metadata": {
        "id": "-6OoBae1bl0B",
        "colab": {
          "base_uri": "https://localhost:8080/",
          "height": 0
        },
        "outputId": "cf6a184e-52e6-4bee-a5e0-f29ead37bf9f"
      },
      "source": [
        "scores = cross_val_score(model, train_X, train_y, cv=10)\n",
        "print('Cross-Validation Accuracy Scores', scores)"
      ],
      "execution_count": 84,
      "outputs": [
        {
          "output_type": "stream",
          "text": [
            "Cross-Validation Accuracy Scores [0.73753463 0.70429363 0.70616771 0.7006237  0.71794872 0.71379071\n",
            " 0.69022869 0.73319473 0.72765073 0.72210672]\n"
          ],
          "name": "stdout"
        }
      ]
    },
    {
      "cell_type": "code",
      "metadata": {
        "id": "3h9rLgjQbl0B",
        "colab": {
          "base_uri": "https://localhost:8080/",
          "height": 0
        },
        "outputId": "949ce571-597d-4ef7-d3d2-0ec50e2c0509"
      },
      "source": [
        "scores.mean()"
      ],
      "execution_count": 85,
      "outputs": [
        {
          "output_type": "execute_result",
          "data": {
            "text/plain": [
              "0.7153539966559357"
            ]
          },
          "metadata": {
            "tags": []
          },
          "execution_count": 85
        }
      ]
    },
    {
      "cell_type": "code",
      "metadata": {
        "id": "g90BE1Wcbl0C",
        "colab": {
          "base_uri": "https://localhost:8080/",
          "height": 0
        },
        "outputId": "613c4d3d-c4ce-477a-e566-b19cbbddd010"
      },
      "source": [
        "pred_y = model.predict(test_X)\n",
        "print(accuracy_score(test_y, pred_y))\n",
        "print(confusion_matrix(test_y, pred_y))\n",
        "print(classification_report(test_y, pred_y))"
      ],
      "execution_count": 86,
      "outputs": [
        {
          "output_type": "stream",
          "text": [
            "0.7190775681341719\n",
            "[[1310  498]\n",
            " [  38   62]]\n",
            "              precision    recall  f1-score   support\n",
            "\n",
            "         0.0       0.97      0.72      0.83      1808\n",
            "         1.0       0.11      0.62      0.19       100\n",
            "\n",
            "    accuracy                           0.72      1908\n",
            "   macro avg       0.54      0.67      0.51      1908\n",
            "weighted avg       0.93      0.72      0.80      1908\n",
            "\n"
          ],
          "name": "stdout"
        }
      ]
    },
    {
      "cell_type": "code",
      "metadata": {
        "colab": {
          "base_uri": "https://localhost:8080/",
          "height": 204
        },
        "id": "dFoJUF7ZF_JU",
        "outputId": "fe30fbab-90ba-4472-fd87-84e2285252b7"
      },
      "source": [
        "mask = fit.get_support(indices=True)\n",
        "data_new = data.iloc[:,mask]\n",
        "data_new.head()"
      ],
      "execution_count": 87,
      "outputs": [
        {
          "output_type": "execute_result",
          "data": {
            "text/html": [
              "<div>\n",
              "<style scoped>\n",
              "    .dataframe tbody tr th:only-of-type {\n",
              "        vertical-align: middle;\n",
              "    }\n",
              "\n",
              "    .dataframe tbody tr th {\n",
              "        vertical-align: top;\n",
              "    }\n",
              "\n",
              "    .dataframe thead th {\n",
              "        text-align: right;\n",
              "    }\n",
              "</style>\n",
              "<table border=\"1\" class=\"dataframe\">\n",
              "  <thead>\n",
              "    <tr style=\"text-align: right;\">\n",
              "      <th></th>\n",
              "      <th>Attr1</th>\n",
              "      <th>Attr2</th>\n",
              "      <th>Attr7</th>\n",
              "      <th>Attr12</th>\n",
              "      <th>Attr14</th>\n",
              "      <th>Attr16</th>\n",
              "      <th>Attr22</th>\n",
              "      <th>Attr35</th>\n",
              "      <th>Attr38</th>\n",
              "      <th>Attr48</th>\n",
              "    </tr>\n",
              "  </thead>\n",
              "  <tbody>\n",
              "    <tr>\n",
              "      <th>0</th>\n",
              "      <td>0.096557</td>\n",
              "      <td>0.13718</td>\n",
              "      <td>0.096557</td>\n",
              "      <td>0.70389</td>\n",
              "      <td>0.096557</td>\n",
              "      <td>0.70389</td>\n",
              "      <td>0</td>\n",
              "      <td>0.00697</td>\n",
              "      <td>0.86282</td>\n",
              "      <td>0</td>\n",
              "    </tr>\n",
              "    <tr>\n",
              "      <th>1</th>\n",
              "      <td>0.30458</td>\n",
              "      <td>0.13686</td>\n",
              "      <td>0.37602</td>\n",
              "      <td>2.8355</td>\n",
              "      <td>0.37602</td>\n",
              "      <td>2.9693</td>\n",
              "      <td>0.37291</td>\n",
              "      <td>0.37179</td>\n",
              "      <td>0.86314</td>\n",
              "      <td>0.34257</td>\n",
              "    </tr>\n",
              "    <tr>\n",
              "      <th>2</th>\n",
              "      <td>0.13495</td>\n",
              "      <td>0.16866</td>\n",
              "      <td>0.17653</td>\n",
              "      <td>1.0467</td>\n",
              "      <td>0.17653</td>\n",
              "      <td>1.137</td>\n",
              "      <td>0.10746</td>\n",
              "      <td>0.15185</td>\n",
              "      <td>0.83134</td>\n",
              "      <td>0.092228</td>\n",
              "    </tr>\n",
              "    <tr>\n",
              "      <th>3</th>\n",
              "      <td>0.26775</td>\n",
              "      <td>0.11341</td>\n",
              "      <td>0.33261</td>\n",
              "      <td>2.9668</td>\n",
              "      <td>0.33261</td>\n",
              "      <td>3.3578</td>\n",
              "      <td>0.33258</td>\n",
              "      <td>0.33267</td>\n",
              "      <td>0.88659</td>\n",
              "      <td>0.28437</td>\n",
              "    </tr>\n",
              "    <tr>\n",
              "      <th>4</th>\n",
              "      <td>0.046283</td>\n",
              "      <td>0.094199</td>\n",
              "      <td>0.046283</td>\n",
              "      <td>0.65366</td>\n",
              "      <td>0.046283</td>\n",
              "      <td>0.78093</td>\n",
              "      <td>0.030548</td>\n",
              "      <td>0.034208</td>\n",
              "      <td>0.9058</td>\n",
              "      <td>0.003268</td>\n",
              "    </tr>\n",
              "  </tbody>\n",
              "</table>\n",
              "</div>"
            ],
            "text/plain": [
              "      Attr1     Attr2     Attr7   Attr12  ...    Attr22    Attr35   Attr38    Attr48\n",
              "0  0.096557   0.13718  0.096557  0.70389  ...         0   0.00697  0.86282         0\n",
              "1   0.30458   0.13686   0.37602   2.8355  ...   0.37291   0.37179  0.86314   0.34257\n",
              "2   0.13495   0.16866   0.17653   1.0467  ...   0.10746   0.15185  0.83134  0.092228\n",
              "3   0.26775   0.11341   0.33261   2.9668  ...   0.33258   0.33267  0.88659   0.28437\n",
              "4  0.046283  0.094199  0.046283  0.65366  ...  0.030548  0.034208   0.9058  0.003268\n",
              "\n",
              "[5 rows x 10 columns]"
            ]
          },
          "metadata": {
            "tags": []
          },
          "execution_count": 87
        }
      ]
    },
    {
      "cell_type": "markdown",
      "metadata": {
        "id": "lazuT6Y3DMLV"
      },
      "source": [
        "#Mean Imputation with SMOTE "
      ]
    },
    {
      "cell_type": "markdown",
      "metadata": {
        "id": "HMrokZwJbl0i"
      },
      "source": [
        "### RFE"
      ]
    },
    {
      "cell_type": "code",
      "metadata": {
        "id": "f5Z-2C8Qbl0j",
        "colab": {
          "base_uri": "https://localhost:8080/",
          "height": 0
        },
        "outputId": "b7f16730-9f09-4b03-fb2e-fba9d60b4730"
      },
      "source": [
        "sm = SMOTE(random_state = 2)\n",
        "\n",
        "X = mean_imputed_df.loc[:, mean_imputed_df.columns != 'class'].to_numpy()\n",
        "y = mean_imputed_df['class'].to_numpy().reshape(-1, 1)\n",
        "\n",
        "train_X, test_X, train_y, test_y = train_test_split(X,y,test_size=0.2)\n",
        "train_X, train_y = sm.fit_resample(train_X, train_y.ravel())"
      ],
      "execution_count": 88,
      "outputs": [
        {
          "output_type": "stream",
          "text": [
            "/usr/local/lib/python3.7/dist-packages/sklearn/utils/deprecation.py:87: FutureWarning: Function safe_indexing is deprecated; safe_indexing is deprecated in version 0.22 and will be removed in version 0.24.\n",
            "  warnings.warn(msg, category=FutureWarning)\n"
          ],
          "name": "stderr"
        }
      ]
    },
    {
      "cell_type": "code",
      "metadata": {
        "id": "0VXDBbODbl0k"
      },
      "source": [
        "# Feature Selection using RFE()\n",
        "test = RFE(model, 10)\n",
        "fit = test.fit(train_X, train_y.ravel())"
      ],
      "execution_count": 89,
      "outputs": []
    },
    {
      "cell_type": "code",
      "metadata": {
        "id": "N_qmingXbl0l",
        "colab": {
          "base_uri": "https://localhost:8080/",
          "height": 0
        },
        "outputId": "be47a968-7585-4e93-d5eb-4968389a9ef7"
      },
      "source": [
        "start_time = time.time()\n",
        "model = LogisticRegression(random_state=0, max_iter=400).fit(train_X, train_y)\n",
        "print(model.score(test_X, test_y))\n",
        "print(\"--- %s seconds ---\" % (time.time() - start_time))"
      ],
      "execution_count": 90,
      "outputs": [
        {
          "output_type": "stream",
          "text": [
            "0.70020964360587\n",
            "--- 0.750067949295044 seconds ---\n"
          ],
          "name": "stdout"
        }
      ]
    },
    {
      "cell_type": "code",
      "metadata": {
        "id": "IAY74nxwbl0n",
        "colab": {
          "base_uri": "https://localhost:8080/",
          "height": 0
        },
        "outputId": "d0d0c3f0-f8c1-4882-ba18-3be0dab91d6f"
      },
      "source": [
        "scores = cross_val_score(model, train_X, train_y, cv=10)\n",
        "print('Cross-Validation Accuracy Scores', scores)"
      ],
      "execution_count": 91,
      "outputs": [
        {
          "output_type": "stream",
          "text": [
            "Cross-Validation Accuracy Scores [0.72645429 0.74861496 0.7098338  0.71121884 0.70914127 0.71814404\n",
            " 0.72091413 0.716759   0.6971587  0.71586972]\n"
          ],
          "name": "stdout"
        }
      ]
    },
    {
      "cell_type": "code",
      "metadata": {
        "id": "ASIXgYysbl0q",
        "colab": {
          "base_uri": "https://localhost:8080/",
          "height": 0
        },
        "outputId": "6440a5ef-2d8e-4655-f18b-9abb6fe5c4ec"
      },
      "source": [
        "scores.mean()"
      ],
      "execution_count": 92,
      "outputs": [
        {
          "output_type": "execute_result",
          "data": {
            "text/plain": [
              "0.7174108745438386"
            ]
          },
          "metadata": {
            "tags": []
          },
          "execution_count": 92
        }
      ]
    },
    {
      "cell_type": "code",
      "metadata": {
        "id": "DWbJtduxbl0r",
        "scrolled": false,
        "colab": {
          "base_uri": "https://localhost:8080/",
          "height": 0
        },
        "outputId": "5b4ea3f2-7d9f-4c52-c490-50d515230644"
      },
      "source": [
        "pred_y = model.predict(test_X)\n",
        "print(accuracy_score(test_y, pred_y))\n",
        "print(confusion_matrix(test_y, pred_y))\n",
        "print(classification_report(test_y, pred_y))"
      ],
      "execution_count": 93,
      "outputs": [
        {
          "output_type": "stream",
          "text": [
            "0.70020964360587\n",
            "[[1276  529]\n",
            " [  43   60]]\n",
            "              precision    recall  f1-score   support\n",
            "\n",
            "         0.0       0.97      0.71      0.82      1805\n",
            "         1.0       0.10      0.58      0.17       103\n",
            "\n",
            "    accuracy                           0.70      1908\n",
            "   macro avg       0.53      0.64      0.50      1908\n",
            "weighted avg       0.92      0.70      0.78      1908\n",
            "\n"
          ],
          "name": "stdout"
        }
      ]
    },
    {
      "cell_type": "code",
      "metadata": {
        "colab": {
          "base_uri": "https://localhost:8080/",
          "height": 204
        },
        "id": "OlYqU1EWGJab",
        "outputId": "97393cd1-3d91-441f-9a55-5059f2ac330a"
      },
      "source": [
        "mask = fit.get_support(indices=True)\n",
        "data_new = data.iloc[:,mask]\n",
        "data_new.head()"
      ],
      "execution_count": 94,
      "outputs": [
        {
          "output_type": "execute_result",
          "data": {
            "text/html": [
              "<div>\n",
              "<style scoped>\n",
              "    .dataframe tbody tr th:only-of-type {\n",
              "        vertical-align: middle;\n",
              "    }\n",
              "\n",
              "    .dataframe tbody tr th {\n",
              "        vertical-align: top;\n",
              "    }\n",
              "\n",
              "    .dataframe thead th {\n",
              "        text-align: right;\n",
              "    }\n",
              "</style>\n",
              "<table border=\"1\" class=\"dataframe\">\n",
              "  <thead>\n",
              "    <tr style=\"text-align: right;\">\n",
              "      <th></th>\n",
              "      <th>Attr8</th>\n",
              "      <th>Attr9</th>\n",
              "      <th>Attr11</th>\n",
              "      <th>Attr14</th>\n",
              "      <th>Attr17</th>\n",
              "      <th>Attr34</th>\n",
              "      <th>Attr36</th>\n",
              "      <th>Attr40</th>\n",
              "      <th>Attr46</th>\n",
              "      <th>Attr63</th>\n",
              "    </tr>\n",
              "  </thead>\n",
              "  <tbody>\n",
              "    <tr>\n",
              "      <th>0</th>\n",
              "      <td>6.2899</td>\n",
              "      <td>0.61457</td>\n",
              "      <td>0.096557</td>\n",
              "      <td>0.096557</td>\n",
              "      <td>7.2899</td>\n",
              "      <td>3.0457</td>\n",
              "      <td>0.61457</td>\n",
              "      <td>5.867</td>\n",
              "      <td>7.0125</td>\n",
              "      <td>4.4801</td>\n",
              "    </tr>\n",
              "    <tr>\n",
              "      <th>1</th>\n",
              "      <td>6.307</td>\n",
              "      <td>2.49970</td>\n",
              "      <td>0.37607</td>\n",
              "      <td>0.37602</td>\n",
              "      <td>7.307</td>\n",
              "      <td>15.548</td>\n",
              "      <td>2.4997</td>\n",
              "      <td>2.0459</td>\n",
              "      <td>5.3464</td>\n",
              "      <td>18.849</td>\n",
              "    </tr>\n",
              "    <tr>\n",
              "      <th>2</th>\n",
              "      <td>4.9292</td>\n",
              "      <td>0.76021</td>\n",
              "      <td>0.1766</td>\n",
              "      <td>0.17653</td>\n",
              "      <td>5.9292</td>\n",
              "      <td>3.607</td>\n",
              "      <td>0.76021</td>\n",
              "      <td>3.1346</td>\n",
              "      <td>5.2248</td>\n",
              "      <td>4.5074</td>\n",
              "    </tr>\n",
              "    <tr>\n",
              "      <th>3</th>\n",
              "      <td>7.8176</td>\n",
              "      <td>1.70250</td>\n",
              "      <td>0.33261</td>\n",
              "      <td>0.33261</td>\n",
              "      <td>8.8176</td>\n",
              "      <td>12.079</td>\n",
              "      <td>1.7025</td>\n",
              "      <td>5.4824</td>\n",
              "      <td>8.0405</td>\n",
              "      <td>15.186</td>\n",
              "    </tr>\n",
              "    <tr>\n",
              "      <th>4</th>\n",
              "      <td>9.6158</td>\n",
              "      <td>1.13950</td>\n",
              "      <td>0.046283</td>\n",
              "      <td>0.046283</td>\n",
              "      <td>10.616</td>\n",
              "      <td>11.733</td>\n",
              "      <td>1.1395</td>\n",
              "      <td>3.153</td>\n",
              "      <td>5.271</td>\n",
              "      <td>16.093</td>\n",
              "    </tr>\n",
              "  </tbody>\n",
              "</table>\n",
              "</div>"
            ],
            "text/plain": [
              "    Attr8    Attr9    Attr11    Attr14  ...   Attr36  Attr40  Attr46  Attr63\n",
              "0  6.2899  0.61457  0.096557  0.096557  ...  0.61457   5.867  7.0125  4.4801\n",
              "1   6.307  2.49970   0.37607   0.37602  ...   2.4997  2.0459  5.3464  18.849\n",
              "2  4.9292  0.76021    0.1766   0.17653  ...  0.76021  3.1346  5.2248  4.5074\n",
              "3  7.8176  1.70250   0.33261   0.33261  ...   1.7025  5.4824  8.0405  15.186\n",
              "4  9.6158  1.13950  0.046283  0.046283  ...   1.1395   3.153   5.271  16.093\n",
              "\n",
              "[5 rows x 10 columns]"
            ]
          },
          "metadata": {
            "tags": []
          },
          "execution_count": 94
        }
      ]
    },
    {
      "cell_type": "markdown",
      "metadata": {
        "id": "dppM8ZTRbl0s"
      },
      "source": [
        "###Select K-Best "
      ]
    },
    {
      "cell_type": "code",
      "metadata": {
        "id": "yWnX_RU-bl0s",
        "colab": {
          "base_uri": "https://localhost:8080/",
          "height": 0
        },
        "outputId": "4e669456-fafd-49ec-9929-14ab6edc1f30"
      },
      "source": [
        "# Feature Selection using SelectKBest()\n",
        "sm = SMOTE(random_state = 2)\n",
        "\n",
        "X = mean_imputed_df.loc[:, mean_imputed_df.columns != 'class'].to_numpy()\n",
        "y = mean_imputed_df['class'].to_numpy().reshape(-1, 1)\n",
        "\n",
        "train_X, test_X, train_y, test_y = train_test_split(X,y,test_size=0.2)\n",
        "train_X, train_y = sm.fit_resample(train_X, train_y.ravel())\n",
        "\n",
        "test = SelectKBest(score_func=f_classif, k=10)\n",
        "fit = test.fit(train_X, train_y.ravel())"
      ],
      "execution_count": 95,
      "outputs": [
        {
          "output_type": "stream",
          "text": [
            "/usr/local/lib/python3.7/dist-packages/sklearn/utils/deprecation.py:87: FutureWarning: Function safe_indexing is deprecated; safe_indexing is deprecated in version 0.22 and will be removed in version 0.24.\n",
            "  warnings.warn(msg, category=FutureWarning)\n"
          ],
          "name": "stderr"
        }
      ]
    },
    {
      "cell_type": "code",
      "metadata": {
        "id": "u3KSuSX_bl0t",
        "colab": {
          "base_uri": "https://localhost:8080/",
          "height": 0
        },
        "outputId": "11a8e5d6-0e76-493a-bf23-b964f699fa3d"
      },
      "source": [
        "# Performing Logistic Regression on the dataset \n",
        "start_time = time.time()\n",
        "model = LogisticRegression(random_state=0, max_iter=400).fit(train_X, train_y.ravel())\n",
        "print(model.score(test_X, test_y))\n",
        "print(\"--- %s seconds ---\" % (time.time() - start_time))"
      ],
      "execution_count": 96,
      "outputs": [
        {
          "output_type": "stream",
          "text": [
            "0.7274633123689728\n",
            "--- 0.7601704597473145 seconds ---\n"
          ],
          "name": "stdout"
        }
      ]
    },
    {
      "cell_type": "code",
      "metadata": {
        "id": "JM-8pU-Qbl0u",
        "scrolled": true,
        "colab": {
          "base_uri": "https://localhost:8080/",
          "height": 0
        },
        "outputId": "21059ebd-7a1c-4100-f474-83103175691b"
      },
      "source": [
        "scores = cross_val_score(model, train_X, train_y, cv=10)\n",
        "print('Cross-Validation Accuracy Scores', scores)"
      ],
      "execution_count": 97,
      "outputs": [
        {
          "output_type": "stream",
          "text": [
            "Cross-Validation Accuracy Scores [0.69417476 0.69417476 0.70457698 0.70873786 0.69764216 0.69902913\n",
            " 0.70992366 0.69049271 0.71963914 0.69743234]\n"
          ],
          "name": "stdout"
        }
      ]
    },
    {
      "cell_type": "code",
      "metadata": {
        "id": "czn5HU1Obl0v",
        "colab": {
          "base_uri": "https://localhost:8080/",
          "height": 0
        },
        "outputId": "6ef300f6-bd8e-40bd-ce27-c8d0ba5a0ae0"
      },
      "source": [
        "scores.mean()"
      ],
      "execution_count": 98,
      "outputs": [
        {
          "output_type": "execute_result",
          "data": {
            "text/plain": [
              "0.7015823500593381"
            ]
          },
          "metadata": {
            "tags": []
          },
          "execution_count": 98
        }
      ]
    },
    {
      "cell_type": "code",
      "metadata": {
        "id": "HI1mwM47bl0w",
        "colab": {
          "base_uri": "https://localhost:8080/",
          "height": 0
        },
        "outputId": "5d8bae67-5135-469f-fcfb-a74ae2ae073b"
      },
      "source": [
        "pred_y = model.predict(test_X)\n",
        "print(accuracy_score(test_y, pred_y))\n",
        "print(confusion_matrix(test_y, pred_y))\n",
        "print(classification_report(test_y, pred_y))"
      ],
      "execution_count": 99,
      "outputs": [
        {
          "output_type": "stream",
          "text": [
            "0.7274633123689728\n",
            "[[1330  486]\n",
            " [  34   58]]\n",
            "              precision    recall  f1-score   support\n",
            "\n",
            "         0.0       0.98      0.73      0.84      1816\n",
            "         1.0       0.11      0.63      0.18        92\n",
            "\n",
            "    accuracy                           0.73      1908\n",
            "   macro avg       0.54      0.68      0.51      1908\n",
            "weighted avg       0.93      0.73      0.80      1908\n",
            "\n"
          ],
          "name": "stdout"
        }
      ]
    },
    {
      "cell_type": "code",
      "metadata": {
        "colab": {
          "base_uri": "https://localhost:8080/",
          "height": 204
        },
        "id": "ViR-q2EuGM5l",
        "outputId": "d70a04c2-a523-4815-8ffc-ef8b99806ab0"
      },
      "source": [
        "mask = fit.get_support(indices=True)\n",
        "data_new = data.iloc[:,mask]\n",
        "data_new.head()"
      ],
      "execution_count": 100,
      "outputs": [
        {
          "output_type": "execute_result",
          "data": {
            "text/html": [
              "<div>\n",
              "<style scoped>\n",
              "    .dataframe tbody tr th:only-of-type {\n",
              "        vertical-align: middle;\n",
              "    }\n",
              "\n",
              "    .dataframe tbody tr th {\n",
              "        vertical-align: top;\n",
              "    }\n",
              "\n",
              "    .dataframe thead th {\n",
              "        text-align: right;\n",
              "    }\n",
              "</style>\n",
              "<table border=\"1\" class=\"dataframe\">\n",
              "  <thead>\n",
              "    <tr style=\"text-align: right;\">\n",
              "      <th></th>\n",
              "      <th>Attr1</th>\n",
              "      <th>Attr7</th>\n",
              "      <th>Attr11</th>\n",
              "      <th>Attr14</th>\n",
              "      <th>Attr18</th>\n",
              "      <th>Attr22</th>\n",
              "      <th>Attr29</th>\n",
              "      <th>Attr35</th>\n",
              "      <th>Attr48</th>\n",
              "      <th>Attr55</th>\n",
              "    </tr>\n",
              "  </thead>\n",
              "  <tbody>\n",
              "    <tr>\n",
              "      <th>0</th>\n",
              "      <td>0.096557</td>\n",
              "      <td>0.096557</td>\n",
              "      <td>0.096557</td>\n",
              "      <td>0.096557</td>\n",
              "      <td>0.096557</td>\n",
              "      <td>0</td>\n",
              "      <td>2.9013</td>\n",
              "      <td>0.00697</td>\n",
              "      <td>0</td>\n",
              "      <td>679.47</td>\n",
              "    </tr>\n",
              "    <tr>\n",
              "      <th>1</th>\n",
              "      <td>0.30458</td>\n",
              "      <td>0.37602</td>\n",
              "      <td>0.37607</td>\n",
              "      <td>0.37602</td>\n",
              "      <td>0.37602</td>\n",
              "      <td>0.37291</td>\n",
              "      <td>2.904</td>\n",
              "      <td>0.37179</td>\n",
              "      <td>0.34257</td>\n",
              "      <td>605.75</td>\n",
              "    </tr>\n",
              "    <tr>\n",
              "      <th>2</th>\n",
              "      <td>0.13495</td>\n",
              "      <td>0.17653</td>\n",
              "      <td>0.1766</td>\n",
              "      <td>0.17653</td>\n",
              "      <td>0.17653</td>\n",
              "      <td>0.10746</td>\n",
              "      <td>3.0373</td>\n",
              "      <td>0.15185</td>\n",
              "      <td>0.092228</td>\n",
              "      <td>776.85</td>\n",
              "    </tr>\n",
              "    <tr>\n",
              "      <th>3</th>\n",
              "      <td>0.26775</td>\n",
              "      <td>0.33261</td>\n",
              "      <td>0.33261</td>\n",
              "      <td>0.33261</td>\n",
              "      <td>0.33261</td>\n",
              "      <td>0.33258</td>\n",
              "      <td>2.289</td>\n",
              "      <td>0.33267</td>\n",
              "      <td>0.28437</td>\n",
              "      <td>153.55</td>\n",
              "    </tr>\n",
              "    <tr>\n",
              "      <th>4</th>\n",
              "      <td>0.046283</td>\n",
              "      <td>0.046283</td>\n",
              "      <td>0.046283</td>\n",
              "      <td>0.046283</td>\n",
              "      <td>0.046283</td>\n",
              "      <td>0.030548</td>\n",
              "      <td>3.1208</td>\n",
              "      <td>0.034208</td>\n",
              "      <td>0.003268</td>\n",
              "      <td>623.05</td>\n",
              "    </tr>\n",
              "  </tbody>\n",
              "</table>\n",
              "</div>"
            ],
            "text/plain": [
              "      Attr1     Attr7    Attr11    Attr14  ...  Attr29    Attr35    Attr48  Attr55\n",
              "0  0.096557  0.096557  0.096557  0.096557  ...  2.9013   0.00697         0  679.47\n",
              "1   0.30458   0.37602   0.37607   0.37602  ...   2.904   0.37179   0.34257  605.75\n",
              "2   0.13495   0.17653    0.1766   0.17653  ...  3.0373   0.15185  0.092228  776.85\n",
              "3   0.26775   0.33261   0.33261   0.33261  ...   2.289   0.33267   0.28437  153.55\n",
              "4  0.046283  0.046283  0.046283  0.046283  ...  3.1208  0.034208  0.003268  623.05\n",
              "\n",
              "[5 rows x 10 columns]"
            ]
          },
          "metadata": {
            "tags": []
          },
          "execution_count": 100
        }
      ]
    },
    {
      "cell_type": "markdown",
      "metadata": {
        "id": "Y4de_uyEELWW"
      },
      "source": [
        "#Iterative Imputation with SMOTE"
      ]
    },
    {
      "cell_type": "markdown",
      "metadata": {
        "id": "2HWZIP3Nbl1b"
      },
      "source": [
        "# SelectKBest"
      ]
    },
    {
      "cell_type": "code",
      "metadata": {
        "id": "k1_9DxU5bl1c"
      },
      "source": [
        "# Feature Selection using SelectKBest()\n",
        "X = iterativeDf.iloc[:,:-1]\n",
        "y = iterativeDf.iloc[:,-1]\n",
        "train_X, test_X, train_y, test_y = train_test_split(X,y,test_size=0.2)\n",
        "test1 = SelectKBest(score_func=f_classif, k=10)\n",
        "fit = test1.fit(train_X, train_y.ravel())"
      ],
      "execution_count": 101,
      "outputs": []
    },
    {
      "cell_type": "code",
      "metadata": {
        "id": "WehRL77Ybl1c",
        "colab": {
          "base_uri": "https://localhost:8080/",
          "height": 0
        },
        "outputId": "d18e45f8-514a-4383-893e-1f97fdd60be6"
      },
      "source": [
        "# Performing SMOTE on the dataset to address the problem of imbalanced data\n",
        "sm = SMOTE(random_state = 0)\n",
        "train_X, train_y = sm.fit_sample(train_X, train_y.ravel())"
      ],
      "execution_count": 102,
      "outputs": [
        {
          "output_type": "stream",
          "text": [
            "/usr/local/lib/python3.7/dist-packages/sklearn/utils/deprecation.py:87: FutureWarning: Function safe_indexing is deprecated; safe_indexing is deprecated in version 0.22 and will be removed in version 0.24.\n",
            "  warnings.warn(msg, category=FutureWarning)\n"
          ],
          "name": "stderr"
        }
      ]
    },
    {
      "cell_type": "code",
      "metadata": {
        "id": "Ib3kWnnTbl1d",
        "scrolled": true,
        "colab": {
          "base_uri": "https://localhost:8080/",
          "height": 0
        },
        "outputId": "30e4562b-494d-492f-ee4e-a16009338e6f"
      },
      "source": [
        "# Performing Logistic Regression on the dataset \n",
        "start_time = time.time()\n",
        "model = LogisticRegression(random_state=0, max_iter=400).fit(train_X, train_y.ravel())\n",
        "print(model.score(test_X, test_y))\n",
        "print(\"--- %s seconds ---\" % (time.time() - start_time))"
      ],
      "execution_count": 103,
      "outputs": [
        {
          "output_type": "stream",
          "text": [
            "0.7568134171907757\n",
            "--- 0.838181734085083 seconds ---\n"
          ],
          "name": "stdout"
        }
      ]
    },
    {
      "cell_type": "code",
      "metadata": {
        "id": "Oo6RNzvcbl1e",
        "colab": {
          "base_uri": "https://localhost:8080/",
          "height": 0
        },
        "outputId": "cae9ebf2-f560-477a-bea0-dfed0008cedf"
      },
      "source": [
        "scores = cross_val_score(model, train_X, train_y, cv=10)\n",
        "print('Cross-Validation Accuracy Scores', scores)"
      ],
      "execution_count": 104,
      "outputs": [
        {
          "output_type": "stream",
          "text": [
            "Cross-Validation Accuracy Scores [0.723566   0.72494817 0.71438451 0.72821577 0.71300138 0.72406639\n",
            " 0.72060858 0.71161826 0.74688797 0.71991701]\n"
          ],
          "name": "stdout"
        }
      ]
    },
    {
      "cell_type": "code",
      "metadata": {
        "id": "tjtCGZN8bl1q",
        "colab": {
          "base_uri": "https://localhost:8080/",
          "height": 0
        },
        "outputId": "239ec0a1-df63-445b-fecd-e8135d0e4581"
      },
      "source": [
        "scores.mean()"
      ],
      "execution_count": 105,
      "outputs": [
        {
          "output_type": "execute_result",
          "data": {
            "text/plain": [
              "0.7227214028929984"
            ]
          },
          "metadata": {
            "tags": []
          },
          "execution_count": 105
        }
      ]
    },
    {
      "cell_type": "code",
      "metadata": {
        "id": "Msr4ETE3bl1q",
        "colab": {
          "base_uri": "https://localhost:8080/",
          "height": 0
        },
        "outputId": "29c42b6f-79bf-462a-ff08-e59b4e0d1abf"
      },
      "source": [
        "pred_y = model.predict(test_X)\n",
        "print(accuracy_score(test_y, pred_y))\n",
        "print(confusion_matrix(test_y, pred_y))\n",
        "print(classification_report(test_y, pred_y))"
      ],
      "execution_count": 106,
      "outputs": [
        {
          "output_type": "stream",
          "text": [
            "0.7568134171907757\n",
            "[[1381  412]\n",
            " [  52   63]]\n",
            "              precision    recall  f1-score   support\n",
            "\n",
            "         0.0       0.96      0.77      0.86      1793\n",
            "         1.0       0.13      0.55      0.21       115\n",
            "\n",
            "    accuracy                           0.76      1908\n",
            "   macro avg       0.55      0.66      0.53      1908\n",
            "weighted avg       0.91      0.76      0.82      1908\n",
            "\n"
          ],
          "name": "stdout"
        }
      ]
    },
    {
      "cell_type": "code",
      "metadata": {
        "id": "qzsW6bcWbl1r",
        "colab": {
          "base_uri": "https://localhost:8080/",
          "height": 204
        },
        "outputId": "1decb9dd-8933-4f56-c042-fbcfab50e0e5"
      },
      "source": [
        "mask = fit.get_support(indices=True)\n",
        "data_new = data.iloc[:,mask]\n",
        "data_new.head()"
      ],
      "execution_count": 107,
      "outputs": [
        {
          "output_type": "execute_result",
          "data": {
            "text/html": [
              "<div>\n",
              "<style scoped>\n",
              "    .dataframe tbody tr th:only-of-type {\n",
              "        vertical-align: middle;\n",
              "    }\n",
              "\n",
              "    .dataframe tbody tr th {\n",
              "        vertical-align: top;\n",
              "    }\n",
              "\n",
              "    .dataframe thead th {\n",
              "        text-align: right;\n",
              "    }\n",
              "</style>\n",
              "<table border=\"1\" class=\"dataframe\">\n",
              "  <thead>\n",
              "    <tr style=\"text-align: right;\">\n",
              "      <th></th>\n",
              "      <th>Attr1</th>\n",
              "      <th>Attr7</th>\n",
              "      <th>Attr11</th>\n",
              "      <th>Attr12</th>\n",
              "      <th>Attr14</th>\n",
              "      <th>Attr16</th>\n",
              "      <th>Attr22</th>\n",
              "      <th>Attr26</th>\n",
              "      <th>Attr29</th>\n",
              "      <th>Attr35</th>\n",
              "    </tr>\n",
              "  </thead>\n",
              "  <tbody>\n",
              "    <tr>\n",
              "      <th>0</th>\n",
              "      <td>0.096557</td>\n",
              "      <td>0.096557</td>\n",
              "      <td>0.096557</td>\n",
              "      <td>0.70389</td>\n",
              "      <td>0.096557</td>\n",
              "      <td>0.70389</td>\n",
              "      <td>0</td>\n",
              "      <td>0.70389</td>\n",
              "      <td>2.9013</td>\n",
              "      <td>0.00697</td>\n",
              "    </tr>\n",
              "    <tr>\n",
              "      <th>1</th>\n",
              "      <td>0.30458</td>\n",
              "      <td>0.37602</td>\n",
              "      <td>0.37607</td>\n",
              "      <td>2.8355</td>\n",
              "      <td>0.37602</td>\n",
              "      <td>2.9693</td>\n",
              "      <td>0.37291</td>\n",
              "      <td>2.4472</td>\n",
              "      <td>2.904</td>\n",
              "      <td>0.37179</td>\n",
              "    </tr>\n",
              "    <tr>\n",
              "      <th>2</th>\n",
              "      <td>0.13495</td>\n",
              "      <td>0.17653</td>\n",
              "      <td>0.1766</td>\n",
              "      <td>1.0467</td>\n",
              "      <td>0.17653</td>\n",
              "      <td>1.137</td>\n",
              "      <td>0.10746</td>\n",
              "      <td>0.8905</td>\n",
              "      <td>3.0373</td>\n",
              "      <td>0.15185</td>\n",
              "    </tr>\n",
              "    <tr>\n",
              "      <th>3</th>\n",
              "      <td>0.26775</td>\n",
              "      <td>0.33261</td>\n",
              "      <td>0.33261</td>\n",
              "      <td>2.9668</td>\n",
              "      <td>0.33261</td>\n",
              "      <td>3.3578</td>\n",
              "      <td>0.33258</td>\n",
              "      <td>2.786</td>\n",
              "      <td>2.289</td>\n",
              "      <td>0.33267</td>\n",
              "    </tr>\n",
              "    <tr>\n",
              "      <th>4</th>\n",
              "      <td>0.046283</td>\n",
              "      <td>0.046283</td>\n",
              "      <td>0.046283</td>\n",
              "      <td>0.65366</td>\n",
              "      <td>0.046283</td>\n",
              "      <td>0.78093</td>\n",
              "      <td>0.030548</td>\n",
              "      <td>0.78093</td>\n",
              "      <td>3.1208</td>\n",
              "      <td>0.034208</td>\n",
              "    </tr>\n",
              "  </tbody>\n",
              "</table>\n",
              "</div>"
            ],
            "text/plain": [
              "      Attr1     Attr7    Attr11   Attr12  ...    Attr22   Attr26  Attr29    Attr35\n",
              "0  0.096557  0.096557  0.096557  0.70389  ...         0  0.70389  2.9013   0.00697\n",
              "1   0.30458   0.37602   0.37607   2.8355  ...   0.37291   2.4472   2.904   0.37179\n",
              "2   0.13495   0.17653    0.1766   1.0467  ...   0.10746   0.8905  3.0373   0.15185\n",
              "3   0.26775   0.33261   0.33261   2.9668  ...   0.33258    2.786   2.289   0.33267\n",
              "4  0.046283  0.046283  0.046283  0.65366  ...  0.030548  0.78093  3.1208  0.034208\n",
              "\n",
              "[5 rows x 10 columns]"
            ]
          },
          "metadata": {
            "tags": []
          },
          "execution_count": 107
        }
      ]
    },
    {
      "cell_type": "markdown",
      "metadata": {
        "id": "fng1QHGPbl1s"
      },
      "source": [
        "# RFE"
      ]
    },
    {
      "cell_type": "code",
      "metadata": {
        "id": "vCQlpCg7bl1t"
      },
      "source": [
        "# Feature Selection using RFE()\n",
        "model = LogisticRegression(random_state=0, max_iter=400)\n",
        "X = iterativeDf.iloc[:,:-1]\n",
        "y = iterativeDf.iloc[:,-1]\n",
        "train_X, test_X, train_y, test_y = train_test_split(X,y,test_size=0.2)\n",
        "test = RFE(model, 10)\n",
        "fit = test.fit(train_X, train_y.ravel())"
      ],
      "execution_count": 108,
      "outputs": []
    },
    {
      "cell_type": "code",
      "metadata": {
        "id": "wm5485lTbl1t",
        "colab": {
          "base_uri": "https://localhost:8080/",
          "height": 0
        },
        "outputId": "040e9152-795d-4e23-9f93-b751f57a1857"
      },
      "source": [
        "# Performing SMOTE on the dataset to address the problem of imbalanced data\n",
        "sm = SMOTE(random_state = 0)\n",
        "train_X, train_y = sm.fit_sample(train_X, train_y.ravel())"
      ],
      "execution_count": 109,
      "outputs": [
        {
          "output_type": "stream",
          "text": [
            "/usr/local/lib/python3.7/dist-packages/sklearn/utils/deprecation.py:87: FutureWarning: Function safe_indexing is deprecated; safe_indexing is deprecated in version 0.22 and will be removed in version 0.24.\n",
            "  warnings.warn(msg, category=FutureWarning)\n"
          ],
          "name": "stderr"
        }
      ]
    },
    {
      "cell_type": "code",
      "metadata": {
        "id": "5NqdzuPDbl1u",
        "colab": {
          "base_uri": "https://localhost:8080/",
          "height": 0
        },
        "outputId": "52f5ab56-11bd-44bf-de96-b2f665b29eae"
      },
      "source": [
        "# Performing Logistic Regression on the dataset \n",
        "start_time = time.time()\n",
        "model = LogisticRegression(random_state=0, max_iter=400).fit(train_X, train_y.ravel())\n",
        "print(\"--- %s seconds ---\" % (time.time() - start_time))"
      ],
      "execution_count": 110,
      "outputs": [
        {
          "output_type": "stream",
          "text": [
            "--- 0.7014727592468262 seconds ---\n"
          ],
          "name": "stdout"
        }
      ]
    },
    {
      "cell_type": "code",
      "metadata": {
        "id": "r0ZIpql0bl1v",
        "colab": {
          "base_uri": "https://localhost:8080/",
          "height": 0
        },
        "outputId": "9541ce71-5df1-497f-9a8f-7f7d73c307ef"
      },
      "source": [
        "scores = cross_val_score(model, train_X, train_y, cv=10)\n",
        "print('Cross-Validation Accuracy Scores', scores)"
      ],
      "execution_count": 111,
      "outputs": [
        {
          "output_type": "stream",
          "text": [
            "Cross-Validation Accuracy Scores [0.71359223 0.72746186 0.72260749 0.70596394 0.72330097 0.72052705\n",
            " 0.72676838 0.73925104 0.71616933 0.7147814 ]\n"
          ],
          "name": "stdout"
        }
      ]
    },
    {
      "cell_type": "code",
      "metadata": {
        "id": "3xVwq48Tbl1w",
        "colab": {
          "base_uri": "https://localhost:8080/",
          "height": 0
        },
        "outputId": "be42ce44-965e-4245-8752-6acb4c01a37e"
      },
      "source": [
        "scores.mean()"
      ],
      "execution_count": 112,
      "outputs": [
        {
          "output_type": "execute_result",
          "data": {
            "text/plain": [
              "0.721042368289089"
            ]
          },
          "metadata": {
            "tags": []
          },
          "execution_count": 112
        }
      ]
    },
    {
      "cell_type": "code",
      "metadata": {
        "id": "ZkXuMbsobl1x",
        "colab": {
          "base_uri": "https://localhost:8080/",
          "height": 0
        },
        "outputId": "0e19c6f8-87ac-489f-b6d0-398850342bfd"
      },
      "source": [
        "pred_y = model.predict(test_X)\n",
        "print(accuracy_score(test_y, pred_y))\n",
        "print(confusion_matrix(test_y, pred_y))\n",
        "print(classification_report(test_y, pred_y))"
      ],
      "execution_count": 113,
      "outputs": [
        {
          "output_type": "stream",
          "text": [
            "0.7279874213836478\n",
            "[[1333  482]\n",
            " [  37   56]]\n",
            "              precision    recall  f1-score   support\n",
            "\n",
            "         0.0       0.97      0.73      0.84      1815\n",
            "         1.0       0.10      0.60      0.18        93\n",
            "\n",
            "    accuracy                           0.73      1908\n",
            "   macro avg       0.54      0.67      0.51      1908\n",
            "weighted avg       0.93      0.73      0.80      1908\n",
            "\n"
          ],
          "name": "stdout"
        }
      ]
    },
    {
      "cell_type": "code",
      "metadata": {
        "colab": {
          "base_uri": "https://localhost:8080/",
          "height": 204
        },
        "id": "Ge06mzg6Hmkp",
        "outputId": "92fd0b54-244b-4248-dc51-ed9442cb353f"
      },
      "source": [
        "mask = fit.get_support(indices=True)\n",
        "data_new = data.iloc[:,mask]\n",
        "data_new.head()"
      ],
      "execution_count": 114,
      "outputs": [
        {
          "output_type": "execute_result",
          "data": {
            "text/html": [
              "<div>\n",
              "<style scoped>\n",
              "    .dataframe tbody tr th:only-of-type {\n",
              "        vertical-align: middle;\n",
              "    }\n",
              "\n",
              "    .dataframe tbody tr th {\n",
              "        vertical-align: top;\n",
              "    }\n",
              "\n",
              "    .dataframe thead th {\n",
              "        text-align: right;\n",
              "    }\n",
              "</style>\n",
              "<table border=\"1\" class=\"dataframe\">\n",
              "  <thead>\n",
              "    <tr style=\"text-align: right;\">\n",
              "      <th></th>\n",
              "      <th>Attr7</th>\n",
              "      <th>Attr11</th>\n",
              "      <th>Attr14</th>\n",
              "      <th>Attr16</th>\n",
              "      <th>Attr18</th>\n",
              "      <th>Attr26</th>\n",
              "      <th>Attr33</th>\n",
              "      <th>Attr34</th>\n",
              "      <th>Attr36</th>\n",
              "      <th>Attr63</th>\n",
              "    </tr>\n",
              "  </thead>\n",
              "  <tbody>\n",
              "    <tr>\n",
              "      <th>0</th>\n",
              "      <td>0.096557</td>\n",
              "      <td>0.096557</td>\n",
              "      <td>0.096557</td>\n",
              "      <td>0.70389</td>\n",
              "      <td>0.096557</td>\n",
              "      <td>0.70389</td>\n",
              "      <td>3.0457</td>\n",
              "      <td>3.0457</td>\n",
              "      <td>0.61457</td>\n",
              "      <td>4.4801</td>\n",
              "    </tr>\n",
              "    <tr>\n",
              "      <th>1</th>\n",
              "      <td>0.37602</td>\n",
              "      <td>0.37607</td>\n",
              "      <td>0.37602</td>\n",
              "      <td>2.9693</td>\n",
              "      <td>0.37602</td>\n",
              "      <td>2.4472</td>\n",
              "      <td>16.046</td>\n",
              "      <td>15.548</td>\n",
              "      <td>2.4997</td>\n",
              "      <td>18.849</td>\n",
              "    </tr>\n",
              "    <tr>\n",
              "      <th>2</th>\n",
              "      <td>0.17653</td>\n",
              "      <td>0.1766</td>\n",
              "      <td>0.17653</td>\n",
              "      <td>1.137</td>\n",
              "      <td>0.17653</td>\n",
              "      <td>0.8905</td>\n",
              "      <td>3.607</td>\n",
              "      <td>3.607</td>\n",
              "      <td>0.76021</td>\n",
              "      <td>4.5074</td>\n",
              "    </tr>\n",
              "    <tr>\n",
              "      <th>3</th>\n",
              "      <td>0.33261</td>\n",
              "      <td>0.33261</td>\n",
              "      <td>0.33261</td>\n",
              "      <td>3.3578</td>\n",
              "      <td>0.33261</td>\n",
              "      <td>2.786</td>\n",
              "      <td>12.219</td>\n",
              "      <td>12.079</td>\n",
              "      <td>1.7025</td>\n",
              "      <td>15.186</td>\n",
              "    </tr>\n",
              "    <tr>\n",
              "      <th>4</th>\n",
              "      <td>0.046283</td>\n",
              "      <td>0.046283</td>\n",
              "      <td>0.046283</td>\n",
              "      <td>0.78093</td>\n",
              "      <td>0.046283</td>\n",
              "      <td>0.78093</td>\n",
              "      <td>15.61</td>\n",
              "      <td>11.733</td>\n",
              "      <td>1.1395</td>\n",
              "      <td>16.093</td>\n",
              "    </tr>\n",
              "  </tbody>\n",
              "</table>\n",
              "</div>"
            ],
            "text/plain": [
              "      Attr7    Attr11    Attr14   Attr16  ...  Attr33  Attr34   Attr36  Attr63\n",
              "0  0.096557  0.096557  0.096557  0.70389  ...  3.0457  3.0457  0.61457  4.4801\n",
              "1   0.37602   0.37607   0.37602   2.9693  ...  16.046  15.548   2.4997  18.849\n",
              "2   0.17653    0.1766   0.17653    1.137  ...   3.607   3.607  0.76021  4.5074\n",
              "3   0.33261   0.33261   0.33261   3.3578  ...  12.219  12.079   1.7025  15.186\n",
              "4  0.046283  0.046283  0.046283  0.78093  ...   15.61  11.733   1.1395  16.093\n",
              "\n",
              "[5 rows x 10 columns]"
            ]
          },
          "metadata": {
            "tags": []
          },
          "execution_count": 114
        }
      ]
    },
    {
      "cell_type": "markdown",
      "metadata": {
        "id": "_T3Hx4OfEgZv"
      },
      "source": [
        "#Soft Imputation with SMOTE"
      ]
    },
    {
      "cell_type": "markdown",
      "metadata": {
        "id": "-e3Tp-lsYoR-"
      },
      "source": [
        "# SelectKBest"
      ]
    },
    {
      "cell_type": "code",
      "metadata": {
        "id": "GceiixdSYfOf"
      },
      "source": [
        "# Feature Selection using SelectKBest()\n",
        "SoftImputeDf = pd.DataFrame(new_df,columns=data_norm.columns)\n",
        "X = SoftImputeDf.iloc[:,:-1]\n",
        "y = SoftImputeDf.iloc[:,-1]\n",
        "train_X, test_X, train_y, test_y = train_test_split(X,y,test_size=0.2)\n",
        "test1 = SelectKBest(score_func=f_classif, k=10)\n",
        "fit = test1.fit(train_X, train_y.ravel())"
      ],
      "execution_count": 115,
      "outputs": []
    },
    {
      "cell_type": "code",
      "metadata": {
        "colab": {
          "base_uri": "https://localhost:8080/",
          "height": 0
        },
        "id": "cDIBmPgBYmA9",
        "outputId": "d8b2754a-0ade-4546-c978-76fd050086ab"
      },
      "source": [
        "# Performing SMOTE on the dataset to address the problem of imbalanced data\n",
        "sm = SMOTE(random_state = 0)\n",
        "train_X, train_y = sm.fit_sample(train_X, train_y.ravel())"
      ],
      "execution_count": 116,
      "outputs": [
        {
          "output_type": "stream",
          "text": [
            "/usr/local/lib/python3.7/dist-packages/sklearn/utils/deprecation.py:87: FutureWarning: Function safe_indexing is deprecated; safe_indexing is deprecated in version 0.22 and will be removed in version 0.24.\n",
            "  warnings.warn(msg, category=FutureWarning)\n"
          ],
          "name": "stderr"
        }
      ]
    },
    {
      "cell_type": "code",
      "metadata": {
        "colab": {
          "base_uri": "https://localhost:8080/",
          "height": 0
        },
        "id": "bsd_Bm-AYtOZ",
        "outputId": "6960cb41-b597-4379-a18d-a5dfda4a22b4"
      },
      "source": [
        "# Performing Logistic Regression on the dataset \n",
        "start_time = time.time()\n",
        "model = LogisticRegression(random_state=0, max_iter=400).fit(train_X, train_y.ravel())\n",
        "print(model.score(test_X, test_y))\n",
        "print(\"--- %s seconds ---\" % (time.time() - start_time))"
      ],
      "execution_count": 117,
      "outputs": [
        {
          "output_type": "stream",
          "text": [
            "0.7374213836477987\n",
            "--- 0.9600577354431152 seconds ---\n"
          ],
          "name": "stdout"
        }
      ]
    },
    {
      "cell_type": "code",
      "metadata": {
        "colab": {
          "base_uri": "https://localhost:8080/",
          "height": 0
        },
        "id": "L429tOolYwM5",
        "outputId": "377be059-77c7-4628-b55c-c5e8960b94aa"
      },
      "source": [
        "scores = cross_val_score(model, train_X, train_y, cv=10)\n",
        "print('Cross-Validation Accuracy Scores', scores)"
      ],
      "execution_count": 118,
      "outputs": [
        {
          "output_type": "stream",
          "text": [
            "Cross-Validation Accuracy Scores [0.6959226  0.70836213 0.7049067  0.70421562 0.69017981 0.68603043\n",
            " 0.69156293 0.697787   0.69986169 0.67565698]\n"
          ],
          "name": "stdout"
        }
      ]
    },
    {
      "cell_type": "code",
      "metadata": {
        "colab": {
          "base_uri": "https://localhost:8080/",
          "height": 0
        },
        "id": "zkjnsBY-Y2Un",
        "outputId": "5a08bf37-973f-4691-8ae4-522716b22cf6"
      },
      "source": [
        "scores.mean()"
      ],
      "execution_count": 119,
      "outputs": [
        {
          "output_type": "execute_result",
          "data": {
            "text/plain": [
              "0.695448588724131"
            ]
          },
          "metadata": {
            "tags": []
          },
          "execution_count": 119
        }
      ]
    },
    {
      "cell_type": "code",
      "metadata": {
        "colab": {
          "base_uri": "https://localhost:8080/",
          "height": 0
        },
        "id": "VnQRwWz-Y49F",
        "outputId": "a7462653-4e40-463a-b5c5-baa6958b1ae7"
      },
      "source": [
        "pred_y = model.predict(test_X)\n",
        "print(accuracy_score(test_y, pred_y))\n",
        "print(confusion_matrix(test_y, pred_y))\n",
        "print(classification_report(test_y, pred_y))"
      ],
      "execution_count": 120,
      "outputs": [
        {
          "output_type": "stream",
          "text": [
            "0.7374213836477987\n",
            "[[1333  459]\n",
            " [  42   74]]\n",
            "              precision    recall  f1-score   support\n",
            "\n",
            "         0.0       0.97      0.74      0.84      1792\n",
            "         1.0       0.14      0.64      0.23       116\n",
            "\n",
            "    accuracy                           0.74      1908\n",
            "   macro avg       0.55      0.69      0.53      1908\n",
            "weighted avg       0.92      0.74      0.80      1908\n",
            "\n"
          ],
          "name": "stdout"
        }
      ]
    },
    {
      "cell_type": "code",
      "metadata": {
        "colab": {
          "base_uri": "https://localhost:8080/",
          "height": 204
        },
        "id": "Aj8w4WuWZB4Z",
        "outputId": "3c4eea17-3df4-428f-861b-4f49e4fffc57"
      },
      "source": [
        "mask = fit.get_support(indices=True)\n",
        "data_new = data.iloc[:,mask]\n",
        "data_new.head()"
      ],
      "execution_count": 121,
      "outputs": [
        {
          "output_type": "execute_result",
          "data": {
            "text/html": [
              "<div>\n",
              "<style scoped>\n",
              "    .dataframe tbody tr th:only-of-type {\n",
              "        vertical-align: middle;\n",
              "    }\n",
              "\n",
              "    .dataframe tbody tr th {\n",
              "        vertical-align: top;\n",
              "    }\n",
              "\n",
              "    .dataframe thead th {\n",
              "        text-align: right;\n",
              "    }\n",
              "</style>\n",
              "<table border=\"1\" class=\"dataframe\">\n",
              "  <thead>\n",
              "    <tr style=\"text-align: right;\">\n",
              "      <th></th>\n",
              "      <th>Attr1</th>\n",
              "      <th>Attr7</th>\n",
              "      <th>Attr11</th>\n",
              "      <th>Attr14</th>\n",
              "      <th>Attr21</th>\n",
              "      <th>Attr22</th>\n",
              "      <th>Attr29</th>\n",
              "      <th>Attr35</th>\n",
              "      <th>Attr39</th>\n",
              "      <th>Attr56</th>\n",
              "    </tr>\n",
              "  </thead>\n",
              "  <tbody>\n",
              "    <tr>\n",
              "      <th>0</th>\n",
              "      <td>0.096557</td>\n",
              "      <td>0.096557</td>\n",
              "      <td>0.096557</td>\n",
              "      <td>0.096557</td>\n",
              "      <td>0.82983</td>\n",
              "      <td>0</td>\n",
              "      <td>2.9013</td>\n",
              "      <td>0.00697</td>\n",
              "      <td>0.011341</td>\n",
              "      <td>0.32018</td>\n",
              "    </tr>\n",
              "    <tr>\n",
              "      <th>1</th>\n",
              "      <td>0.30458</td>\n",
              "      <td>0.37602</td>\n",
              "      <td>0.37607</td>\n",
              "      <td>0.37602</td>\n",
              "      <td>0.65534</td>\n",
              "      <td>0.37291</td>\n",
              "      <td>2.904</td>\n",
              "      <td>0.37179</td>\n",
              "      <td>0.14874</td>\n",
              "      <td>0.14874</td>\n",
              "    </tr>\n",
              "    <tr>\n",
              "      <th>2</th>\n",
              "      <td>0.13495</td>\n",
              "      <td>0.17653</td>\n",
              "      <td>0.1766</td>\n",
              "      <td>0.17653</td>\n",
              "      <td>1.1209</td>\n",
              "      <td>0.10746</td>\n",
              "      <td>3.0373</td>\n",
              "      <td>0.15185</td>\n",
              "      <td>0.19975</td>\n",
              "      <td>0.19975</td>\n",
              "    </tr>\n",
              "    <tr>\n",
              "      <th>3</th>\n",
              "      <td>0.26775</td>\n",
              "      <td>0.33261</td>\n",
              "      <td>0.33261</td>\n",
              "      <td>0.33261</td>\n",
              "      <td>0.73416</td>\n",
              "      <td>0.33258</td>\n",
              "      <td>2.289</td>\n",
              "      <td>0.33267</td>\n",
              "      <td>0.1954</td>\n",
              "      <td>0.1954</td>\n",
              "    </tr>\n",
              "    <tr>\n",
              "      <th>4</th>\n",
              "      <td>0.046283</td>\n",
              "      <td>0.046283</td>\n",
              "      <td>0.046283</td>\n",
              "      <td>0.046283</td>\n",
              "      <td>0.99457</td>\n",
              "      <td>0.030548</td>\n",
              "      <td>3.1208</td>\n",
              "      <td>0.034208</td>\n",
              "      <td>0.030021</td>\n",
              "      <td>0.030021</td>\n",
              "    </tr>\n",
              "  </tbody>\n",
              "</table>\n",
              "</div>"
            ],
            "text/plain": [
              "      Attr1     Attr7    Attr11    Attr14  ...  Attr29    Attr35    Attr39    Attr56\n",
              "0  0.096557  0.096557  0.096557  0.096557  ...  2.9013   0.00697  0.011341   0.32018\n",
              "1   0.30458   0.37602   0.37607   0.37602  ...   2.904   0.37179   0.14874   0.14874\n",
              "2   0.13495   0.17653    0.1766   0.17653  ...  3.0373   0.15185   0.19975   0.19975\n",
              "3   0.26775   0.33261   0.33261   0.33261  ...   2.289   0.33267    0.1954    0.1954\n",
              "4  0.046283  0.046283  0.046283  0.046283  ...  3.1208  0.034208  0.030021  0.030021\n",
              "\n",
              "[5 rows x 10 columns]"
            ]
          },
          "metadata": {
            "tags": []
          },
          "execution_count": 121
        }
      ]
    },
    {
      "cell_type": "markdown",
      "metadata": {
        "id": "5lw-gt9yZFBe"
      },
      "source": [
        "# RFE"
      ]
    },
    {
      "cell_type": "code",
      "metadata": {
        "id": "MkTOtNBGZHbX"
      },
      "source": [
        "# Feature Selection using RFE()\n",
        "model = LogisticRegression(random_state=0, max_iter=400)\n",
        "X = SoftImputeDf.iloc[:,:-1]\n",
        "y = SoftImputeDf.iloc[:,-1]\n",
        "train_X, test_X, train_y, test_y = train_test_split(X,y,test_size=0.2)\n",
        "test = RFE(model, 10)\n",
        "fit = test.fit(train_X, train_y.ravel())"
      ],
      "execution_count": 122,
      "outputs": []
    },
    {
      "cell_type": "code",
      "metadata": {
        "colab": {
          "base_uri": "https://localhost:8080/",
          "height": 0
        },
        "id": "52POIqBzZRkp",
        "outputId": "9c551382-abce-40a7-a3e7-6600f2b47d06"
      },
      "source": [
        "# Performing SMOTE on the dataset to address the problem of imbalanced data\n",
        "sm = SMOTE(random_state = 0)\n",
        "train_X, train_y = sm.fit_sample(train_X, train_y.ravel())"
      ],
      "execution_count": 123,
      "outputs": [
        {
          "output_type": "stream",
          "text": [
            "/usr/local/lib/python3.7/dist-packages/sklearn/utils/deprecation.py:87: FutureWarning: Function safe_indexing is deprecated; safe_indexing is deprecated in version 0.22 and will be removed in version 0.24.\n",
            "  warnings.warn(msg, category=FutureWarning)\n"
          ],
          "name": "stderr"
        }
      ]
    },
    {
      "cell_type": "code",
      "metadata": {
        "colab": {
          "base_uri": "https://localhost:8080/",
          "height": 0
        },
        "id": "_TnrOGS4ZUKj",
        "outputId": "3ca20f2d-dc97-44ef-ebf7-1c8b1cb3dae0"
      },
      "source": [
        "# Performing Logistic Regression on the dataset \n",
        "start_time = time.time()\n",
        "model = LogisticRegression(random_state=0, max_iter=400).fit(train_X, train_y.ravel())\n",
        "print(\"--- %s seconds ---\" % (time.time() - start_time))"
      ],
      "execution_count": 124,
      "outputs": [
        {
          "output_type": "stream",
          "text": [
            "--- 0.7626574039459229 seconds ---\n"
          ],
          "name": "stdout"
        }
      ]
    },
    {
      "cell_type": "code",
      "metadata": {
        "colab": {
          "base_uri": "https://localhost:8080/",
          "height": 0
        },
        "id": "16PhPsXBZXda",
        "outputId": "5503db51-46b4-4258-b159-1c0e8a5bb75f"
      },
      "source": [
        "scores = cross_val_score(model, train_X, train_y, cv=10)\n",
        "print('Cross-Validation Accuracy Scores', scores)"
      ],
      "execution_count": 125,
      "outputs": [
        {
          "output_type": "stream",
          "text": [
            "Cross-Validation Accuracy Scores [0.70034602 0.6982699  0.72387543 0.68512111 0.72802768 0.67197232\n",
            " 0.7100346  0.70588235 0.70221607 0.6932133 ]\n"
          ],
          "name": "stdout"
        }
      ]
    },
    {
      "cell_type": "code",
      "metadata": {
        "colab": {
          "base_uri": "https://localhost:8080/",
          "height": 0
        },
        "id": "tN4fWa31ZYcf",
        "outputId": "a8795872-8cfa-43ae-b1f6-6562ae884287"
      },
      "source": [
        "scores.mean()"
      ],
      "execution_count": 126,
      "outputs": [
        {
          "output_type": "execute_result",
          "data": {
            "text/plain": [
              "0.7018958774645592"
            ]
          },
          "metadata": {
            "tags": []
          },
          "execution_count": 126
        }
      ]
    },
    {
      "cell_type": "code",
      "metadata": {
        "colab": {
          "base_uri": "https://localhost:8080/",
          "height": 0
        },
        "id": "Ix9FctZBZbE7",
        "outputId": "de995432-ab2c-4812-844c-9f879da297f8"
      },
      "source": [
        "pred_y = model.predict(test_X)\n",
        "print(accuracy_score(test_y, pred_y))\n",
        "print(confusion_matrix(test_y, pred_y))\n",
        "print(classification_report(test_y, pred_y))"
      ],
      "execution_count": 127,
      "outputs": [
        {
          "output_type": "stream",
          "text": [
            "0.7410901467505241\n",
            "[[1339  461]\n",
            " [  33   75]]\n",
            "              precision    recall  f1-score   support\n",
            "\n",
            "         0.0       0.98      0.74      0.84      1800\n",
            "         1.0       0.14      0.69      0.23       108\n",
            "\n",
            "    accuracy                           0.74      1908\n",
            "   macro avg       0.56      0.72      0.54      1908\n",
            "weighted avg       0.93      0.74      0.81      1908\n",
            "\n"
          ],
          "name": "stdout"
        }
      ]
    },
    {
      "cell_type": "code",
      "metadata": {
        "colab": {
          "base_uri": "https://localhost:8080/",
          "height": 204
        },
        "id": "9eicgrECHg3I",
        "outputId": "d81c4df2-6626-4293-e5b6-617e5d887dea"
      },
      "source": [
        "mask = fit.get_support(indices=True)\n",
        "data_new = data.iloc[:,mask]\n",
        "data_new.head()"
      ],
      "execution_count": 128,
      "outputs": [
        {
          "output_type": "execute_result",
          "data": {
            "text/html": [
              "<div>\n",
              "<style scoped>\n",
              "    .dataframe tbody tr th:only-of-type {\n",
              "        vertical-align: middle;\n",
              "    }\n",
              "\n",
              "    .dataframe tbody tr th {\n",
              "        vertical-align: top;\n",
              "    }\n",
              "\n",
              "    .dataframe thead th {\n",
              "        text-align: right;\n",
              "    }\n",
              "</style>\n",
              "<table border=\"1\" class=\"dataframe\">\n",
              "  <thead>\n",
              "    <tr style=\"text-align: right;\">\n",
              "      <th></th>\n",
              "      <th>Attr1</th>\n",
              "      <th>Attr7</th>\n",
              "      <th>Attr9</th>\n",
              "      <th>Attr14</th>\n",
              "      <th>Attr16</th>\n",
              "      <th>Attr17</th>\n",
              "      <th>Attr22</th>\n",
              "      <th>Attr35</th>\n",
              "      <th>Attr36</th>\n",
              "      <th>Attr48</th>\n",
              "    </tr>\n",
              "  </thead>\n",
              "  <tbody>\n",
              "    <tr>\n",
              "      <th>0</th>\n",
              "      <td>0.096557</td>\n",
              "      <td>0.096557</td>\n",
              "      <td>0.61457</td>\n",
              "      <td>0.096557</td>\n",
              "      <td>0.70389</td>\n",
              "      <td>7.2899</td>\n",
              "      <td>0</td>\n",
              "      <td>0.00697</td>\n",
              "      <td>0.61457</td>\n",
              "      <td>0</td>\n",
              "    </tr>\n",
              "    <tr>\n",
              "      <th>1</th>\n",
              "      <td>0.30458</td>\n",
              "      <td>0.37602</td>\n",
              "      <td>2.49970</td>\n",
              "      <td>0.37602</td>\n",
              "      <td>2.9693</td>\n",
              "      <td>7.307</td>\n",
              "      <td>0.37291</td>\n",
              "      <td>0.37179</td>\n",
              "      <td>2.4997</td>\n",
              "      <td>0.34257</td>\n",
              "    </tr>\n",
              "    <tr>\n",
              "      <th>2</th>\n",
              "      <td>0.13495</td>\n",
              "      <td>0.17653</td>\n",
              "      <td>0.76021</td>\n",
              "      <td>0.17653</td>\n",
              "      <td>1.137</td>\n",
              "      <td>5.9292</td>\n",
              "      <td>0.10746</td>\n",
              "      <td>0.15185</td>\n",
              "      <td>0.76021</td>\n",
              "      <td>0.092228</td>\n",
              "    </tr>\n",
              "    <tr>\n",
              "      <th>3</th>\n",
              "      <td>0.26775</td>\n",
              "      <td>0.33261</td>\n",
              "      <td>1.70250</td>\n",
              "      <td>0.33261</td>\n",
              "      <td>3.3578</td>\n",
              "      <td>8.8176</td>\n",
              "      <td>0.33258</td>\n",
              "      <td>0.33267</td>\n",
              "      <td>1.7025</td>\n",
              "      <td>0.28437</td>\n",
              "    </tr>\n",
              "    <tr>\n",
              "      <th>4</th>\n",
              "      <td>0.046283</td>\n",
              "      <td>0.046283</td>\n",
              "      <td>1.13950</td>\n",
              "      <td>0.046283</td>\n",
              "      <td>0.78093</td>\n",
              "      <td>10.616</td>\n",
              "      <td>0.030548</td>\n",
              "      <td>0.034208</td>\n",
              "      <td>1.1395</td>\n",
              "      <td>0.003268</td>\n",
              "    </tr>\n",
              "  </tbody>\n",
              "</table>\n",
              "</div>"
            ],
            "text/plain": [
              "      Attr1     Attr7    Attr9    Attr14  ...    Attr22    Attr35   Attr36    Attr48\n",
              "0  0.096557  0.096557  0.61457  0.096557  ...         0   0.00697  0.61457         0\n",
              "1   0.30458   0.37602  2.49970   0.37602  ...   0.37291   0.37179   2.4997   0.34257\n",
              "2   0.13495   0.17653  0.76021   0.17653  ...   0.10746   0.15185  0.76021  0.092228\n",
              "3   0.26775   0.33261  1.70250   0.33261  ...   0.33258   0.33267   1.7025   0.28437\n",
              "4  0.046283  0.046283  1.13950  0.046283  ...  0.030548  0.034208   1.1395  0.003268\n",
              "\n",
              "[5 rows x 10 columns]"
            ]
          },
          "metadata": {
            "tags": []
          },
          "execution_count": 128
        }
      ]
    }
  ]
}